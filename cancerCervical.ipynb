{
  "nbformat": 4,
  "nbformat_minor": 0,
  "metadata": {
    "colab": {
      "name": "cancerCervical.ipynb",
      "provenance": [],
      "collapsed_sections": [
        "eCrivHuDc1ia",
        "I5qt0IHBc86U",
        "0t5lQRCMz0mo",
        "Wkp8un7QzqIz",
        "5x7bjwUMOQoj",
        "-TLXcz8jNvCL",
        "neFrrjJEmI5i",
        "t0kKPkzudGCk",
        "RSiP45cUhyT5",
        "5-sh306gU-ER",
        "iA65Ip9r2kq2",
        "sAUPZ54UQr3j"
      ],
      "authorship_tag": "ABX9TyOZBrHlNDeLvpLbtcp2Jglq",
      "include_colab_link": true
    },
    "kernelspec": {
      "name": "python3",
      "display_name": "Python 3"
    },
    "accelerator": "GPU"
  },
  "cells": [
    {
      "cell_type": "markdown",
      "metadata": {
        "id": "view-in-github",
        "colab_type": "text"
      },
      "source": [
        "<a href=\"https://colab.research.google.com/github/Caceres-Santamaria/proyecto-IA/blob/master/cancerCervical.ipynb\" target=\"_parent\"><img src=\"https://colab.research.google.com/assets/colab-badge.svg\" alt=\"Open In Colab\"/></a>"
      ]
    },
    {
      "cell_type": "markdown",
      "metadata": {
        "id": "5eAleyClwvDx",
        "colab_type": "text"
      },
      "source": [
        "<center><img src=\"https://raw.githubusercontent.com/jmsr06/CancerCervical/master/fondo2.jpg\" tite=\"Inteligencia Artificial en la medicina\" style=\"width:1000px\" alt=\"Algoritmos de Machine learning y Deep learning para la predicción de la realización biopsia\"/>\n"
      ]
    },
    {
      "cell_type": "markdown",
      "metadata": {
        "id": "TUudttEpnqGd",
        "colab_type": "text"
      },
      "source": [
        "<table align=\"left\" border=\"1\" style=\"font-size:100px\">\n",
        "<th>Nombre</th>\n",
        "<th>Código</th>\n",
        "<tr>\n",
        "</tr>\n",
        "<tr> \n",
        "<td>Jenny Marcela Santamaría</td>\n",
        "<td>2171455</td>\n",
        "</tr>\n",
        "<tr>\n",
        "<td>Nelson Alexis Cáceres</td>\n",
        "<td>2171763</td>\n",
        "</tr>\n",
        "</table>\n",
        "\n"
      ]
    },
    {
      "cell_type": "code",
      "metadata": {
        "id": "0-KoCHZt9cKM",
        "colab_type": "code",
        "colab": {}
      },
      "source": [
        "#@title MONTAR EL DRIVE { display-mode: \"form\" }\n",
        "import os\n",
        "from google.colab import drive\n",
        "drive.mount('/content/drive')\n",
        "os.chdir('/content/drive/My Drive/proyecto-IA')\n",
        "print(os.getcwd())"
      ],
      "execution_count": null,
      "outputs": []
    },
    {
      "cell_type": "code",
      "metadata": {
        "id": "MulK8hjlQPJF",
        "colab_type": "code",
        "colab": {}
      },
      "source": [
        "!pip install imbalanced-learn\n",
        "!pip install eli5"
      ],
      "execution_count": null,
      "outputs": []
    },
    {
      "cell_type": "code",
      "metadata": {
        "id": "ArKID13gMRva",
        "colab_type": "code",
        "colab": {}
      },
      "source": [
        "#@title  CARGAR LIBRERÍAS { display-mode: \"form\" }\n",
        "import numpy as np \n",
        "import pandas as pd \n",
        "import matplotlib.pyplot as plt \n",
        "from sklearn.model_selection import cross_val_score, KFold\n",
        "from sklearn.metrics import * \n",
        "#from sklearn.decomposition import PCA\n",
        "from sklearn.model_selection import train_test_split, GridSearchCV, RandomizedSearchCV\n",
        "from matplotlib.pyplot import figure\n",
        "\n",
        "\n",
        "from sklearn.naive_bayes import GaussianNB \n",
        "from sklearn.tree import DecisionTreeClassifier, DecisionTreeRegressor\n",
        "from sklearn.ensemble import RandomForestClassifier\n",
        "from sklearn.svm import SVC\n",
        "import tensorflow as tf\n",
        "from tensorflow import keras\n",
        "from sklearn.feature_selection import RFE\n",
        "\n",
        "import seaborn as sns\n",
        "#from sklearn.preprocessing import StandardScaler\n",
        "import imblearn\n",
        "from collections import Counter\n",
        "from imblearn.over_sampling import RandomOverSampler\n",
        "#from imblearn.combine import SMOTETomek\n",
        "#from imblearn.ensemble import BalancedBaggingClassifier\n",
        "#from imblearn.over_sampling import SMOTE\n",
        "import warnings\n",
        "warnings.filterwarnings('ignore')"
      ],
      "execution_count": 4,
      "outputs": []
    },
    {
      "cell_type": "markdown",
      "metadata": {
        "id": "eCrivHuDc1ia",
        "colab_type": "text"
      },
      "source": [
        "## 1. Observación de los datos"
      ]
    },
    {
      "cell_type": "code",
      "metadata": {
        "id": "xpPjkg5PN1lZ",
        "colab_type": "code",
        "colab": {
          "base_uri": "https://localhost:8080/",
          "height": 309
        },
        "outputId": "f23a9634-07b7-4b4a-89ae-5d343c4b6a99"
      },
      "source": [
        "d = pd.read_csv(\"data/risk_factors_cervical_cancer.csv\") \n",
        "#d = pd.read_csv(\"data/cancer_cervical.csv\")\n",
        "print(\"tamaño: \",d.shape)\n",
        "d.head()"
      ],
      "execution_count": 5,
      "outputs": [
        {
          "output_type": "stream",
          "text": [
            "tamaño:  (858, 36)\n"
          ],
          "name": "stdout"
        },
        {
          "output_type": "execute_result",
          "data": {
            "text/html": [
              "<div>\n",
              "<style scoped>\n",
              "    .dataframe tbody tr th:only-of-type {\n",
              "        vertical-align: middle;\n",
              "    }\n",
              "\n",
              "    .dataframe tbody tr th {\n",
              "        vertical-align: top;\n",
              "    }\n",
              "\n",
              "    .dataframe thead th {\n",
              "        text-align: right;\n",
              "    }\n",
              "</style>\n",
              "<table border=\"1\" class=\"dataframe\">\n",
              "  <thead>\n",
              "    <tr style=\"text-align: right;\">\n",
              "      <th></th>\n",
              "      <th>Age</th>\n",
              "      <th>Number of sexual partners</th>\n",
              "      <th>First sexual intercourse</th>\n",
              "      <th>Num of pregnancies</th>\n",
              "      <th>Smokes</th>\n",
              "      <th>Smokes (years)</th>\n",
              "      <th>Smokes (packs/year)</th>\n",
              "      <th>Hormonal Contraceptives</th>\n",
              "      <th>Hormonal Contraceptives (years)</th>\n",
              "      <th>IUD</th>\n",
              "      <th>IUD (years)</th>\n",
              "      <th>STDs</th>\n",
              "      <th>STDs (number)</th>\n",
              "      <th>STDs:condylomatosis</th>\n",
              "      <th>STDs:cervical condylomatosis</th>\n",
              "      <th>STDs:vaginal condylomatosis</th>\n",
              "      <th>STDs:vulvo-perineal condylomatosis</th>\n",
              "      <th>STDs:syphilis</th>\n",
              "      <th>STDs:pelvic inflammatory disease</th>\n",
              "      <th>STDs:genital herpes</th>\n",
              "      <th>STDs:molluscum contagiosum</th>\n",
              "      <th>STDs:AIDS</th>\n",
              "      <th>STDs:HIV</th>\n",
              "      <th>STDs:Hepatitis B</th>\n",
              "      <th>STDs:HPV</th>\n",
              "      <th>STDs: Number of diagnosis</th>\n",
              "      <th>STDs: Time since first diagnosis</th>\n",
              "      <th>STDs: Time since last diagnosis</th>\n",
              "      <th>Dx:Cancer</th>\n",
              "      <th>Dx:CIN</th>\n",
              "      <th>Dx:HPV</th>\n",
              "      <th>Dx</th>\n",
              "      <th>Hinselmann</th>\n",
              "      <th>Schiller</th>\n",
              "      <th>Citology</th>\n",
              "      <th>Biopsy</th>\n",
              "    </tr>\n",
              "  </thead>\n",
              "  <tbody>\n",
              "    <tr>\n",
              "      <th>0</th>\n",
              "      <td>18</td>\n",
              "      <td>4.0</td>\n",
              "      <td>15.0</td>\n",
              "      <td>1.0</td>\n",
              "      <td>0.0</td>\n",
              "      <td>0.0</td>\n",
              "      <td>0.0</td>\n",
              "      <td>0.0</td>\n",
              "      <td>0.0</td>\n",
              "      <td>0.0</td>\n",
              "      <td>0.0</td>\n",
              "      <td>0.0</td>\n",
              "      <td>0.0</td>\n",
              "      <td>0.0</td>\n",
              "      <td>0.0</td>\n",
              "      <td>0.0</td>\n",
              "      <td>0.0</td>\n",
              "      <td>0.0</td>\n",
              "      <td>0.0</td>\n",
              "      <td>0.0</td>\n",
              "      <td>0.0</td>\n",
              "      <td>0.0</td>\n",
              "      <td>0.0</td>\n",
              "      <td>0.0</td>\n",
              "      <td>0.0</td>\n",
              "      <td>0</td>\n",
              "      <td>?</td>\n",
              "      <td>?</td>\n",
              "      <td>0</td>\n",
              "      <td>0</td>\n",
              "      <td>0</td>\n",
              "      <td>0</td>\n",
              "      <td>0</td>\n",
              "      <td>0</td>\n",
              "      <td>0</td>\n",
              "      <td>0</td>\n",
              "    </tr>\n",
              "    <tr>\n",
              "      <th>1</th>\n",
              "      <td>15</td>\n",
              "      <td>1.0</td>\n",
              "      <td>14.0</td>\n",
              "      <td>1.0</td>\n",
              "      <td>0.0</td>\n",
              "      <td>0.0</td>\n",
              "      <td>0.0</td>\n",
              "      <td>0.0</td>\n",
              "      <td>0.0</td>\n",
              "      <td>0.0</td>\n",
              "      <td>0.0</td>\n",
              "      <td>0.0</td>\n",
              "      <td>0.0</td>\n",
              "      <td>0.0</td>\n",
              "      <td>0.0</td>\n",
              "      <td>0.0</td>\n",
              "      <td>0.0</td>\n",
              "      <td>0.0</td>\n",
              "      <td>0.0</td>\n",
              "      <td>0.0</td>\n",
              "      <td>0.0</td>\n",
              "      <td>0.0</td>\n",
              "      <td>0.0</td>\n",
              "      <td>0.0</td>\n",
              "      <td>0.0</td>\n",
              "      <td>0</td>\n",
              "      <td>?</td>\n",
              "      <td>?</td>\n",
              "      <td>0</td>\n",
              "      <td>0</td>\n",
              "      <td>0</td>\n",
              "      <td>0</td>\n",
              "      <td>0</td>\n",
              "      <td>0</td>\n",
              "      <td>0</td>\n",
              "      <td>0</td>\n",
              "    </tr>\n",
              "    <tr>\n",
              "      <th>2</th>\n",
              "      <td>34</td>\n",
              "      <td>1.0</td>\n",
              "      <td>?</td>\n",
              "      <td>1.0</td>\n",
              "      <td>0.0</td>\n",
              "      <td>0.0</td>\n",
              "      <td>0.0</td>\n",
              "      <td>0.0</td>\n",
              "      <td>0.0</td>\n",
              "      <td>0.0</td>\n",
              "      <td>0.0</td>\n",
              "      <td>0.0</td>\n",
              "      <td>0.0</td>\n",
              "      <td>0.0</td>\n",
              "      <td>0.0</td>\n",
              "      <td>0.0</td>\n",
              "      <td>0.0</td>\n",
              "      <td>0.0</td>\n",
              "      <td>0.0</td>\n",
              "      <td>0.0</td>\n",
              "      <td>0.0</td>\n",
              "      <td>0.0</td>\n",
              "      <td>0.0</td>\n",
              "      <td>0.0</td>\n",
              "      <td>0.0</td>\n",
              "      <td>0</td>\n",
              "      <td>?</td>\n",
              "      <td>?</td>\n",
              "      <td>0</td>\n",
              "      <td>0</td>\n",
              "      <td>0</td>\n",
              "      <td>0</td>\n",
              "      <td>0</td>\n",
              "      <td>0</td>\n",
              "      <td>0</td>\n",
              "      <td>0</td>\n",
              "    </tr>\n",
              "    <tr>\n",
              "      <th>3</th>\n",
              "      <td>52</td>\n",
              "      <td>5.0</td>\n",
              "      <td>16.0</td>\n",
              "      <td>4.0</td>\n",
              "      <td>1.0</td>\n",
              "      <td>37.0</td>\n",
              "      <td>37.0</td>\n",
              "      <td>1.0</td>\n",
              "      <td>3.0</td>\n",
              "      <td>0.0</td>\n",
              "      <td>0.0</td>\n",
              "      <td>0.0</td>\n",
              "      <td>0.0</td>\n",
              "      <td>0.0</td>\n",
              "      <td>0.0</td>\n",
              "      <td>0.0</td>\n",
              "      <td>0.0</td>\n",
              "      <td>0.0</td>\n",
              "      <td>0.0</td>\n",
              "      <td>0.0</td>\n",
              "      <td>0.0</td>\n",
              "      <td>0.0</td>\n",
              "      <td>0.0</td>\n",
              "      <td>0.0</td>\n",
              "      <td>0.0</td>\n",
              "      <td>0</td>\n",
              "      <td>?</td>\n",
              "      <td>?</td>\n",
              "      <td>1</td>\n",
              "      <td>0</td>\n",
              "      <td>1</td>\n",
              "      <td>0</td>\n",
              "      <td>0</td>\n",
              "      <td>0</td>\n",
              "      <td>0</td>\n",
              "      <td>0</td>\n",
              "    </tr>\n",
              "    <tr>\n",
              "      <th>4</th>\n",
              "      <td>46</td>\n",
              "      <td>3.0</td>\n",
              "      <td>21.0</td>\n",
              "      <td>4.0</td>\n",
              "      <td>0.0</td>\n",
              "      <td>0.0</td>\n",
              "      <td>0.0</td>\n",
              "      <td>1.0</td>\n",
              "      <td>15.0</td>\n",
              "      <td>0.0</td>\n",
              "      <td>0.0</td>\n",
              "      <td>0.0</td>\n",
              "      <td>0.0</td>\n",
              "      <td>0.0</td>\n",
              "      <td>0.0</td>\n",
              "      <td>0.0</td>\n",
              "      <td>0.0</td>\n",
              "      <td>0.0</td>\n",
              "      <td>0.0</td>\n",
              "      <td>0.0</td>\n",
              "      <td>0.0</td>\n",
              "      <td>0.0</td>\n",
              "      <td>0.0</td>\n",
              "      <td>0.0</td>\n",
              "      <td>0.0</td>\n",
              "      <td>0</td>\n",
              "      <td>?</td>\n",
              "      <td>?</td>\n",
              "      <td>0</td>\n",
              "      <td>0</td>\n",
              "      <td>0</td>\n",
              "      <td>0</td>\n",
              "      <td>0</td>\n",
              "      <td>0</td>\n",
              "      <td>0</td>\n",
              "      <td>0</td>\n",
              "    </tr>\n",
              "  </tbody>\n",
              "</table>\n",
              "</div>"
            ],
            "text/plain": [
              "   Age Number of sexual partners  ... Citology Biopsy\n",
              "0   18                       4.0  ...        0      0\n",
              "1   15                       1.0  ...        0      0\n",
              "2   34                       1.0  ...        0      0\n",
              "3   52                       5.0  ...        0      0\n",
              "4   46                       3.0  ...        0      0\n",
              "\n",
              "[5 rows x 36 columns]"
            ]
          },
          "metadata": {
            "tags": []
          },
          "execution_count": 5
        }
      ]
    },
    {
      "cell_type": "markdown",
      "metadata": {
        "id": "2wujG8f9cPIq",
        "colab_type": "text"
      },
      "source": [
        "Faltan algunos valores denominados '?', E hicieron que toda la columna se convirtiera en un objeto. Para poder hacer los cálculos, tenemos que reemplazar '?' con NaN y cambiar el tipo de objeto a tipo numérico."
      ]
    },
    {
      "cell_type": "code",
      "metadata": {
        "id": "z4YD-IAlcQj2",
        "colab_type": "code",
        "colab": {
          "base_uri": "https://localhost:8080/",
          "height": 609
        },
        "outputId": "c01d243f-2317-4d11-ecc3-bc74e09e7afe"
      },
      "source": [
        "d= d.replace('?', np.nan)\n",
        "plt.figure(figsize=(10,10))\n",
        "np.round(d.isnull().sum()/d.shape[0]*100).sort_values().plot(kind='barh')"
      ],
      "execution_count": 6,
      "outputs": [
        {
          "output_type": "execute_result",
          "data": {
            "text/plain": [
              "<matplotlib.axes._subplots.AxesSubplot at 0x7f0da7696b70>"
            ]
          },
          "metadata": {
            "tags": []
          },
          "execution_count": 6
        },
        {
          "output_type": "display_data",
          "data": {
            "image/png": "[encoded data removed]",
            "text/plain": [
              "<Figure size 720x720 with 1 Axes>"
            ]
          },
          "metadata": {
            "tags": [],
            "needs_background": "light"
          }
        }
      ]
    },
    {
      "cell_type": "markdown",
      "metadata": {
        "id": "I5qt0IHBc86U",
        "colab_type": "text"
      },
      "source": [
        "## 2. Procesamiento de Datos"
      ]
    },
    {
      "cell_type": "markdown",
      "metadata": {
        "id": "JBT2HoL1oAID",
        "colab_type": "text"
      },
      "source": [
        "Convertimos todas las columnas a tipo flotante"
      ]
    },
    {
      "cell_type": "code",
      "metadata": {
        "id": "uFsPonFqe4MZ",
        "colab_type": "code",
        "colab": {}
      },
      "source": [
        "df = d\n",
        "for i in df.columns:\n",
        "  df[i]=df[i].astype(float)"
      ],
      "execution_count": 7,
      "outputs": []
    },
    {
      "cell_type": "markdown",
      "metadata": {
        "id": "EfeMooXxi2bZ",
        "colab_type": "text"
      },
      "source": [
        "<p align=\"justify\">Observamos que tenemos algunas características que presentan muchos datos perdidos que no presentan una verdadera significancia, por lo tanto eliminamos éstas columnas de nuestro dataset</p>"
      ]
    },
    {
      "cell_type": "code",
      "metadata": {
        "id": "OwpINHszkrsf",
        "colab_type": "code",
        "colab": {}
      },
      "source": [
        "df = df.drop(['STDs: Time since first diagnosis', 'STDs: Time since last diagnosis'], axis=1)"
      ],
      "execution_count": 8,
      "outputs": []
    },
    {
      "cell_type": "markdown",
      "metadata": {
        "id": "Unk4Mv2go65o",
        "colab_type": "text"
      },
      "source": [
        "<p align=\"justify\">Anteriormente observamos que algunas características presentan datos perdidos representados como NAN, procedemos a llenar estos datos nulos con los predictores DecisionTreeClassifier y DecisionTreeRegressor, dependiento del tipo de dato que maneje la serie, si la serie tiene un tipo numérico se predice el dato perdido con el DecisionTreeRegressor, pero si por el contrario, la sierie es de tipo categórica (0 ó 1), predecimos estos datos con el DecisionTreeClassifier.</p>"
      ]
    },
    {
      "cell_type": "code",
      "metadata": {
        "id": "EzM65VJxfC36",
        "colab_type": "code",
        "colab": {}
      },
      "source": [
        "dfc = df.copy()\n",
        "dfc.columns=['Age', 'No_of_sex_partner', 'First_sexual_intercourse',\\\n",
        "            'No_pregnancies','Smokes',  'Smokes_yrs',  'Smokes_packs_yr',  'Hormonal_Contraceptives',\\\n",
        "            'Hormonal_Contraceptives_years','IUD', 'IUD_years', 'STDs', 'STDs_number', 'STDs_condylomatosis',\\\n",
        "            'STDs_cervical_condylomatosis', 'STDs_vaginal_condylomatosis', 'STDs_vulvo_perineal_condylomatosis',\\\n",
        "            'STDs_syphilis', 'STDs_pelvic_inflammatory_disease', 'STDs_genital_herpes', 'STDs_molluscum_contagiosum',\\\n",
        "            'STDs_AIDS', 'STDs_HIV', 'STDs_Hepatitis_B', 'STDs_HPV', 'STDs_No_of_diagnosis', 'Dx_Cancer', 'Dx_CIN', 'Dx_HPV',\\\n",
        "            'Dx', 'Hinselmann','Schiller' ,'Citology', 'Biopsy']\n",
        "dfc=dfc.drop(dfc.index[dfc.Smokes.isnull()] | dfc.index[dfc.First_sexual_intercourse.isnull()])\n",
        "x_caracteristicas=list(dfc.columns)\n",
        "x_caracteristicas.remove('Biopsy')\n",
        "x_caracteristicas_categoricas=['Smokes','Hormonal_Contraceptives','IUD','STDs','STDs_condylomatosis','STDs_cervical_condylomatosis',\n",
        "                        'STDs_vaginal_condylomatosis','STDs_vulvo_perineal_condylomatosis','STDs_syphilis','STDs_pelvic_inflammatory_disease',\n",
        "                        'STDs_genital_herpes','STDs_molluscum_contagiosum','STDs_AIDS','STDs_HIV','STDs_Hepatitis_B','STDs_HPV','Dx_Cancer','Dx_CIN',\n",
        "                        'Dx_HPV','Dx']\n",
        "x_caracteristicas_numericas=[i for i in x_caracteristicas if i not in x_caracteristicas_categoricas]"
      ],
      "execution_count": 9,
      "outputs": []
    },
    {
      "cell_type": "code",
      "metadata": {
        "id": "N9cHnxPecHRA",
        "colab_type": "code",
        "colab": {}
      },
      "source": [
        "#@title Llenar los datos NAN con predictores { display-mode: \"form\" }\n",
        "#Imputación de valor perdido del DIU\n",
        "df_iud = dfc.copy()\n",
        "x_caracteristicas_categoricas.remove('IUD')\n",
        "for i in x_caracteristicas_categoricas:\n",
        "    df_iud[i]=df_iud[i].fillna(df_iud[i].mode()[0])\n",
        "for i in x_caracteristicas_numericas:\n",
        "    df_iud[i]=df_iud[i].fillna(df_iud[i].median())\n",
        "#df_iud=df_iud.astype('float')\n",
        "df_iud[x_caracteristicas_categoricas]=df_iud[x_caracteristicas_categoricas].replace(0,'no')\n",
        "df_iud[x_caracteristicas_categoricas]=df_iud[x_caracteristicas_categoricas].replace(1,'yes')\n",
        "df_iud=pd.get_dummies(df_iud)\n",
        "train_iud=df_iud[df_iud.IUD.isnull()==False]\n",
        "test_iud=df_iud[df_iud.IUD.isnull()]\n",
        "train_iud_x=train_iud.drop('IUD',axis=1)\n",
        "train_iud_y=train_iud['IUD']\n",
        "test_iud_x=test_iud.drop('IUD',axis=1)\n",
        "test_iud_y=test_iud['IUD']\n",
        "dt=DecisionTreeClassifier()\n",
        "iud_model=dt.fit(train_iud_x,train_iud_y)\n",
        "test_iud['IUD']=iud_model.predict(test_iud_x)\n",
        "iud_complete=pd.concat([train_iud,test_iud],axis=0)\n",
        "df_impute=dfc.copy()\n",
        "df_impute['IUD']=iud_complete['IUD'].sort_index()\n",
        "\n",
        "#IUD_yesars (porque si UID es 0, UID_years también será cero)\n",
        "x_caracteristicas_numericas.remove('IUD_years')\n",
        "df_impute['IUD_years']=df_impute['IUD_years'].fillna(0)\n",
        "\n",
        "#Hormonal_Contraceptives\n",
        "df_hor=df_impute.drop(['Biopsy'],axis=1)\n",
        "x_caracteristicas_categoricas.remove('Hormonal_Contraceptives')\n",
        "for i in x_caracteristicas_categoricas:\n",
        "    df_hor[i]=df_hor[i].fillna(df_hor[i].mode()[0])\n",
        "for i in x_caracteristicas_numericas:\n",
        "    df_hor[i]=df_hor[i].fillna(df_hor[i].median())\n",
        "#df_hor=df_hor.astype('float')\n",
        "df_hor[x_caracteristicas_categoricas]=df_hor[x_caracteristicas_categoricas].replace(0,'no')\n",
        "df_hor[x_caracteristicas_categoricas]=df_hor[x_caracteristicas_categoricas].replace(1,'yes')\n",
        "df_hor=pd.get_dummies(df_hor)\n",
        "train_hor=df_hor[df_hor.Hormonal_Contraceptives.isnull()==False]\n",
        "test_hor=df_hor[df_hor.Hormonal_Contraceptives.isnull()]\n",
        "train_hor_x=train_hor.drop('Hormonal_Contraceptives',axis=1)\n",
        "train_hor_y=train_hor['Hormonal_Contraceptives']\n",
        "test_hor_x=test_hor.drop('Hormonal_Contraceptives',axis=1)\n",
        "test_hor_y=test_hor['Hormonal_Contraceptives']\n",
        "dt=DecisionTreeClassifier()\n",
        "hor_model=dt.fit(train_hor_x,train_hor_y)\n",
        "test_hor['Hormonal_Contraceptives']=hor_model.predict(test_hor_x)\n",
        "hor_complete=pd.concat([train_hor,test_hor],axis=0)\n",
        "df_impute['Hormonal_Contraceptives']=hor_complete['Hormonal_Contraceptives'].sort_index()\n",
        "\n",
        "#Hormonal_Contraceptives_years\n",
        "df_hor_y=df_impute.drop(['Biopsy'],axis=1)\n",
        "x_caracteristicas_numericas.remove('Hormonal_Contraceptives_years')\n",
        "for i in x_caracteristicas_categoricas:\n",
        "    df_hor_y[i]=df_hor_y[i].fillna(df_hor_y[i].mode()[0])\n",
        "for i in x_caracteristicas_numericas:\n",
        "    df_hor_y[i]=df_hor_y[i].fillna(df_hor_y[i].median())\n",
        "#df_hor_y=df_hor_y.astype('float')\n",
        "df_hor_y[x_caracteristicas_categoricas]=df_hor_y[x_caracteristicas_categoricas].replace(0,'no')\n",
        "df_hor_y[x_caracteristicas_categoricas]=df_hor_y[x_caracteristicas_categoricas].replace(1,'yes')\n",
        "df_hor_y=pd.get_dummies(df_hor_y)\n",
        "train_hor_yrs=df_hor_y[df_hor_y.Hormonal_Contraceptives_years.isnull()==False]\n",
        "test_hor_yrs=df_hor_y[df_hor_y.Hormonal_Contraceptives_years.isnull()]\n",
        "train_hor_yrs_x=train_hor_yrs.drop('Hormonal_Contraceptives_years',axis=1)\n",
        "train_hor_yrs_y=train_hor_yrs['Hormonal_Contraceptives_years']\n",
        "test_hor_yrs_x=test_hor_yrs.drop('Hormonal_Contraceptives_years',axis=1)\n",
        "test_hor_yrs_y=test_hor_yrs['Hormonal_Contraceptives_years']\n",
        "dt=DecisionTreeRegressor()\n",
        "hor_yrs_model=dt.fit(train_hor_yrs_x,train_hor_yrs_y)\n",
        "test_hor_yrs['Hormonal_Contraceptives_years']=hor_yrs_model.predict(test_hor_yrs_x)\n",
        "hor_yrs_complete=pd.concat([train_hor_yrs,test_hor_yrs],axis=0)\n",
        "df_impute['Hormonal_Contraceptives_years']=hor_yrs_complete['Hormonal_Contraceptives_years'].sort_index()\n",
        "\n",
        "#STDs\n",
        "df_std=df_impute.drop(['Biopsy'],axis=1)\n",
        "x_caracteristicas_categoricas.remove('STDs')\n",
        "for i in x_caracteristicas_categoricas:\n",
        "    df_std[i]=df_std[i].fillna(df_std[i].mode()[0])\n",
        "for i in x_caracteristicas_numericas:\n",
        "    df_std[i]=df_std[i].fillna(df_std[i].median()) \n",
        "#df_std=df_std.astype('float')\n",
        "df_std[x_caracteristicas_categoricas]=df_std[x_caracteristicas_categoricas].replace(0,'no')\n",
        "df_std[x_caracteristicas_categoricas]=df_std[x_caracteristicas_categoricas].replace(1,'yes')\n",
        "df_std=pd.get_dummies(df_std)\n",
        "train_std=df_std[df_std.STDs.isnull()==False]\n",
        "test_std=df_std[df_std.STDs.isnull()]\n",
        "train_std_x=train_std.drop('STDs',axis=1)\n",
        "train_std_y=train_std['STDs']\n",
        "test_std_x=test_std.drop('STDs',axis=1)\n",
        "test_std_y=test_std['STDs']\n",
        "dt=DecisionTreeClassifier()\n",
        "std_model=dt.fit(train_std_x,train_std_y)\n",
        "test_std['STDs']=std_model.predict(test_std_x)\n",
        "std_complete=pd.concat([train_std,test_std],axis=0)\n",
        "df_impute['STDs']=std_complete['STDs'].sort_index()\n",
        "\n",
        "#STDs_number\n",
        "df_std_num=df_impute.drop(['Biopsy'],axis=1)\n",
        "x_caracteristicas_numericas.remove('STDs_number')\n",
        "for i in x_caracteristicas_categoricas:\n",
        "    df_std_num[i]=df_std_num[i].fillna(df_std_num[i].mode()[0])\n",
        "for i in x_caracteristicas_numericas:\n",
        "    df_std_num[i]=df_std_num[i].fillna(df_std_num[i].median())\n",
        "#df_std_num=df_std_num.astype('float')\n",
        "df_std_num[x_caracteristicas_categoricas]=df_std_num[x_caracteristicas_categoricas].replace(0,'no')\n",
        "df_std_num[x_caracteristicas_categoricas]=df_std_num[x_caracteristicas_categoricas].replace(1,'yes')\n",
        "df_std_num=pd.get_dummies(df_std_num)\n",
        "train_std_num=df_std_num[df_std_num.STDs_number.isnull()==False]\n",
        "test_std_num=df_std_num[df_std_num.STDs_number.isnull()]\n",
        "train_std_num_x=train_std_num.drop('STDs_number',axis=1)\n",
        "train_std_num_y=train_std_num['STDs_number']\n",
        "test_std_num_x=test_std_num.drop('STDs_number',axis=1)\n",
        "test_std_num_y=test_std_num['STDs_number']\n",
        "dt=DecisionTreeRegressor()\n",
        "std_model_num=dt.fit(train_std_num_x,train_std_num_y)\n",
        "test_std_num['STDs_number']=std_model_num.predict(test_std_num_x)\n",
        "std_num_complete=pd.concat([train_std_num,test_std_num],axis=0)\n",
        "df_impute['STDs_number']=std_num_complete['STDs_number'].sort_index()\n",
        "\n",
        "#STDs_condylomatosis\n",
        "df_std_con=df_impute.drop(['Biopsy'],axis=1)\n",
        "x_caracteristicas_categoricas.remove('STDs_condylomatosis')\n",
        "for i in x_caracteristicas_categoricas:\n",
        "    df_std_con[i]=df_std_con[i].fillna(df_std_con[i].mode()[0])\n",
        "for i in x_caracteristicas_numericas:\n",
        "    df_std_con[i]=df_std_con[i].fillna(df_std_con[i].median())\n",
        "#df_std_con=df_std_con.astype('float')\n",
        "df_std_con[x_caracteristicas_categoricas]=df_std_con[x_caracteristicas_categoricas].replace(0,'no')\n",
        "df_std_con[x_caracteristicas_categoricas]=df_std_con[x_caracteristicas_categoricas].replace(1,'yes')\n",
        "df_std_con=pd.get_dummies(df_std_con)\n",
        "train_std_con=df_std_con[df_std_con.STDs_condylomatosis.isnull()==False]\n",
        "test_std_con=df_std_con[df_std_con.STDs_condylomatosis.isnull()]\n",
        "train_std_con_x=train_std_con.drop('STDs_condylomatosis',axis=1)\n",
        "train_std_con_y=train_std_con['STDs_condylomatosis']\n",
        "test_std_con_x=test_std_con.drop('STDs_condylomatosis',axis=1)\n",
        "test_std_con_y=test_std_con['STDs_condylomatosis']\n",
        "dt=DecisionTreeClassifier()\n",
        "std_model_con=dt.fit(train_std_con_x,train_std_con_y)\n",
        "test_std_con['STDs_condylomatosis']=std_model_con.predict(test_std_con_x)\n",
        "std_con_complete=pd.concat([train_std_con,test_std_con],axis=0)\n",
        "df_impute['STDs_condylomatosis']=std_con_complete['STDs_condylomatosis'].sort_index()\n",
        "\n",
        "#STDs_cervical_condylomatosis\n",
        "df_std_cerv=df_impute.drop(['Biopsy'],axis=1)\n",
        "x_caracteristicas_categoricas.remove('STDs_cervical_condylomatosis')\n",
        "for i in x_caracteristicas_categoricas:\n",
        "    df_std_cerv[i]=df_std_cerv[i].fillna(df_std_cerv[i].mode()[0])\n",
        "for i in x_caracteristicas_numericas:\n",
        "    df_std_cerv[i]=df_std_cerv[i].fillna(df_std_cerv[i].median())\n",
        "#df_std_cerv=df_std_cerv.astype('float')\n",
        "df_std_cerv[x_caracteristicas_categoricas]=df_std_cerv[x_caracteristicas_categoricas].replace(0,'no')\n",
        "df_std_cerv[x_caracteristicas_categoricas]=df_std_cerv[x_caracteristicas_categoricas].replace(1,'yes')\n",
        "df_std_cerv=pd.get_dummies(df_std_cerv)\n",
        "train_std_cerv=df_std_cerv[df_std_cerv.STDs_cervical_condylomatosis.isnull()==False]\n",
        "test_std_cerv=df_std_cerv[df_std_cerv.STDs_cervical_condylomatosis.isnull()]\n",
        "train_std_cerv_x=train_std_cerv.drop('STDs_cervical_condylomatosis',axis=1)\n",
        "train_std_cerv_y=train_std_cerv['STDs_cervical_condylomatosis']\n",
        "test_std_cerv_x=test_std_cerv.drop('STDs_cervical_condylomatosis',axis=1)\n",
        "test_std_cerv_y=test_std_cerv['STDs_cervical_condylomatosis']\n",
        "dt=DecisionTreeClassifier()\n",
        "std_model_cerv=dt.fit(train_std_cerv_x,train_std_cerv_y)\n",
        "test_std_cerv['STDs_cervical_condylomatosis']=std_model_cerv.predict(test_std_cerv_x)\n",
        "std_cerv_complete=pd.concat([train_std_cerv,test_std_cerv],axis=0)\n",
        "df_impute['STDs_cervical_condylomatosis']=std_cerv_complete['STDs_cervical_condylomatosis'].sort_index()\n",
        "\n",
        "#STDs_vaginal_condylomatosis\n",
        "df_std_vagi=df_impute.drop(['Biopsy'],axis=1)\n",
        "x_caracteristicas_categoricas.remove('STDs_vaginal_condylomatosis')\n",
        "for i in x_caracteristicas_categoricas:\n",
        "    df_std_vagi[i]=df_std_vagi[i].fillna(df_std_vagi[i].mode()[0])\n",
        "for i in x_caracteristicas_numericas:\n",
        "    df_std_vagi[i]=df_std_vagi[i].fillna(df_std_vagi[i].median())\n",
        "#df_std_vagi=df_std_vagi.astype('float')\n",
        "df_std_vagi[x_caracteristicas_categoricas]=df_std_vagi[x_caracteristicas_categoricas].replace(0,'no')\n",
        "df_std_vagi[x_caracteristicas_categoricas]=df_std_vagi[x_caracteristicas_categoricas].replace(1,'yes')\n",
        "df_std_vagi=pd.get_dummies(df_std_vagi)\n",
        "train_std_vagi=df_std_vagi[df_std_vagi.STDs_vaginal_condylomatosis.isnull()==False]\n",
        "test_std_vagi=df_std_vagi[df_std_vagi.STDs_vaginal_condylomatosis.isnull()]\n",
        "train_std_vagi_x=train_std_vagi.drop('STDs_vaginal_condylomatosis',axis=1)\n",
        "train_std_vagi_y=train_std_vagi['STDs_vaginal_condylomatosis']\n",
        "test_std_vagi_x=test_std_vagi.drop('STDs_vaginal_condylomatosis',axis=1)\n",
        "test_std_vagi_y=test_std_vagi['STDs_vaginal_condylomatosis']\n",
        "dt=DecisionTreeClassifier()\n",
        "std_model_vagi=dt.fit(train_std_vagi_x,train_std_vagi_y)\n",
        "test_std_vagi['STDs_vaginal_condylomatosis']=std_model_vagi.predict(test_std_vagi_x)\n",
        "std_vagi_complete=pd.concat([train_std_vagi,test_std_vagi],axis=0)\n",
        "df_impute['STDs_vaginal_condylomatosis']=std_vagi_complete['STDs_vaginal_condylomatosis'].sort_index()\n",
        "\n",
        "#STDs_vulvo_perineal_condylomatosis\n",
        "df_std_peri=df_impute.drop(['Biopsy'],axis=1)\n",
        "x_caracteristicas_categoricas.remove('STDs_vulvo_perineal_condylomatosis')\n",
        "for i in x_caracteristicas_categoricas:\n",
        "    df_std_peri[i]=df_std_peri[i].fillna(df_std_peri[i].mode()[0])\n",
        "for i in x_caracteristicas_numericas:\n",
        "    df_std_peri[i]=df_std_peri[i].fillna(df_std_peri[i].median())\n",
        "#df_std_peri=df_std_peri.astype('float')\n",
        "df_std_peri[x_caracteristicas_categoricas]=df_std_peri[x_caracteristicas_categoricas].replace(0,'no')\n",
        "df_std_peri[x_caracteristicas_categoricas]=df_std_peri[x_caracteristicas_categoricas].replace(1,'yes')\n",
        "df_std_peri=pd.get_dummies(df_std_peri)\n",
        "train_std_peri=df_std_peri[df_std_peri.STDs_vulvo_perineal_condylomatosis.isnull()==False]\n",
        "test_std_peri=df_std_peri[df_std_peri.STDs_vulvo_perineal_condylomatosis.isnull()]\n",
        "train_std_peri_x=train_std_peri.drop('STDs_vulvo_perineal_condylomatosis',axis=1)\n",
        "train_std_peri_y=train_std_peri['STDs_vulvo_perineal_condylomatosis']\n",
        "test_std_peri_x=test_std_peri.drop('STDs_vulvo_perineal_condylomatosis',axis=1)\n",
        "test_std_peri_y=test_std_peri['STDs_vulvo_perineal_condylomatosis']\n",
        "dt=DecisionTreeClassifier()\n",
        "std_model_peri=dt.fit(train_std_peri_x,train_std_peri_y)\n",
        "test_std_peri['STDs_vulvo_perineal_condylomatosis']=std_model_peri.predict(test_std_peri_x)\n",
        "std_peri_complete=pd.concat([train_std_peri,test_std_peri],axis=0)\n",
        "df_impute['STDs_vulvo_perineal_condylomatosis']=std_peri_complete['STDs_vulvo_perineal_condylomatosis'].sort_index()\n",
        "\n",
        "#STDs_syphilis\n",
        "df_std_syp=df_impute.drop(['Biopsy'],axis=1)\n",
        "x_caracteristicas_categoricas.remove('STDs_syphilis')\n",
        "for i in x_caracteristicas_categoricas:\n",
        "    df_std_syp[i]=df_std_syp[i].fillna(df_std_syp[i].mode()[0])\n",
        "for i in x_caracteristicas_numericas:\n",
        "    df_std_syp[i]=df_std_syp[i].fillna(df_std_syp[i].median())\n",
        "#df_std_syp=df_std_syp.astype('float')\n",
        "df_std_syp[x_caracteristicas_categoricas]=df_std_syp[x_caracteristicas_categoricas].replace(0,'no')\n",
        "df_std_syp[x_caracteristicas_categoricas]=df_std_syp[x_caracteristicas_categoricas].replace(1,'yes')\n",
        "df_std_syp=pd.get_dummies(df_std_syp)\n",
        "train_std_syp=df_std_syp[df_std_syp.STDs_syphilis.isnull()==False]\n",
        "test_std_syp=df_std_syp[df_std_syp.STDs_syphilis.isnull()]\n",
        "train_std_syp_x=train_std_syp.drop('STDs_syphilis',axis=1)\n",
        "train_std_syp_y=train_std_syp['STDs_syphilis']\n",
        "test_std_syp_x=test_std_syp.drop('STDs_syphilis',axis=1)\n",
        "test_std_syp_y=test_std_syp['STDs_syphilis']\n",
        "dt=DecisionTreeClassifier()\n",
        "std_model_syp=dt.fit(train_std_syp_x,train_std_syp_y)\n",
        "test_std_syp['STDs_syphilis']=std_model_syp.predict(test_std_syp_x)\n",
        "std_syp_complete=pd.concat([train_std_syp,test_std_syp],axis=0)\n",
        "df_impute['STDs_syphilis']=std_syp_complete['STDs_syphilis'].sort_index()\n",
        "\n",
        "#STDs_pelvic_inflammatory_disease\n",
        "df_std_pelv=df_impute.drop(['Biopsy'],axis=1)\n",
        "x_caracteristicas_categoricas.remove('STDs_pelvic_inflammatory_disease')\n",
        "for i in x_caracteristicas_categoricas:\n",
        "    df_std_pelv[i]=df_std_pelv[i].fillna(df_std_pelv[i].mode()[0])\n",
        "for i in x_caracteristicas_numericas:\n",
        "    df_std_pelv[i]=df_std_pelv[i].fillna(df_std_pelv[i].median())                          \n",
        "#df_std_pelv=df_std_pelv.astype('float')\n",
        "df_std_pelv[x_caracteristicas_categoricas]=df_std_pelv[x_caracteristicas_categoricas].replace(0,'no')\n",
        "df_std_pelv[x_caracteristicas_categoricas]=df_std_pelv[x_caracteristicas_categoricas].replace(1,'yes')\n",
        "df_std_pelv=pd.get_dummies(df_std_pelv)\n",
        "train_std_pelv=df_std_pelv[df_std_pelv.STDs_pelvic_inflammatory_disease.isnull()==False]\n",
        "test_std_pelv=df_std_pelv[df_std_pelv.STDs_pelvic_inflammatory_disease.isnull()]\n",
        "train_std_pelv_x=train_std_pelv.drop('STDs_pelvic_inflammatory_disease',axis=1)\n",
        "train_std_pelv_y=train_std_pelv['STDs_pelvic_inflammatory_disease']\n",
        "test_std_pelv_x=test_std_pelv.drop('STDs_pelvic_inflammatory_disease',axis=1)\n",
        "test_std_pelv_y=test_std_pelv['STDs_pelvic_inflammatory_disease']\n",
        "dt=DecisionTreeClassifier()\n",
        "std_model_pelv=dt.fit(train_std_pelv_x,train_std_pelv_y)\n",
        "test_std_pelv['STDs_pelvic_inflammatory_disease']=std_model_pelv.predict(test_std_pelv_x)\n",
        "std_pelv_complete=pd.concat([train_std_pelv,test_std_pelv],axis=0)\n",
        "df_impute['STDs_pelvic_inflammatory_disease']=std_pelv_complete['STDs_pelvic_inflammatory_disease'].sort_index()\n",
        "\n",
        "#STDs_genital_herpes\n",
        "df_std_geni=df_impute.drop(['Biopsy'],axis=1)\n",
        "x_caracteristicas_categoricas.remove('STDs_genital_herpes')\n",
        "for i in x_caracteristicas_categoricas:\n",
        "    df_std_geni[i]=df_std_geni[i].fillna(df_std_geni[i].mode()[0])\n",
        "for i in x_caracteristicas_numericas:\n",
        "    df_std_geni[i]=df_std_geni[i].fillna(df_std_geni[i].median())\n",
        "#df_std_geni=df_std_geni.astype('float')\n",
        "df_std_geni[x_caracteristicas_categoricas]=df_std_geni[x_caracteristicas_categoricas].replace(0,'no')\n",
        "df_std_geni[x_caracteristicas_categoricas]=df_std_geni[x_caracteristicas_categoricas].replace(1,'yes')\n",
        "df_std_geni=pd.get_dummies(df_std_geni)\n",
        "train_std_geni=df_std_geni[df_std_geni.STDs_genital_herpes.isnull()==False]\n",
        "test_std_geni=df_std_geni[df_std_geni.STDs_genital_herpes.isnull()]\n",
        "train_std_geni_x=train_std_geni.drop('STDs_genital_herpes',axis=1)\n",
        "train_std_geni_y=train_std_geni['STDs_genital_herpes']\n",
        "test_std_geni_x=test_std_geni.drop('STDs_genital_herpes',axis=1)\n",
        "test_std_geni_y=test_std_geni['STDs_genital_herpes']\n",
        "dt=DecisionTreeClassifier()\n",
        "std_model_geni=dt.fit(train_std_geni_x,train_std_geni_y)\n",
        "test_std_geni['STDs_genital_herpes']=std_model_geni.predict(test_std_geni_x)\n",
        "std_geni_complete=pd.concat([train_std_geni,test_std_geni],axis=0)\n",
        "df_impute['STDs_genital_herpes']=std_geni_complete['STDs_genital_herpes'].sort_index()\n",
        "\n",
        "#STDs_molluscum_contagiosum\n",
        "df_std_mollu=df_impute.drop(['Biopsy'],axis=1)\n",
        "x_caracteristicas_categoricas.remove('STDs_molluscum_contagiosum')\n",
        "for i in x_caracteristicas_categoricas:\n",
        "    df_std_mollu[i]=df_std_mollu[i].fillna(df_std_mollu[i].mode()[0])\n",
        "for i in x_caracteristicas_numericas:\n",
        "    df_std_mollu[i]=df_std_mollu[i].fillna(df_std_mollu[i].median())\n",
        "#df_std_mollu=df_std_mollu.astype('float')\n",
        "df_std_mollu[x_caracteristicas_categoricas]=df_std_mollu[x_caracteristicas_categoricas].replace(0,'no')\n",
        "df_std_mollu[x_caracteristicas_categoricas]=df_std_mollu[x_caracteristicas_categoricas].replace(1,'yes')\n",
        "df_std_mollu=pd.get_dummies(df_std_mollu)\n",
        "train_std_mollu=df_std_mollu[df_std_mollu.STDs_molluscum_contagiosum.isnull()==False]\n",
        "test_std_mollu=df_std_mollu[df_std_mollu.STDs_molluscum_contagiosum.isnull()]\n",
        "train_std_mollu_x=train_std_mollu.drop('STDs_molluscum_contagiosum',axis=1)\n",
        "train_std_mollu_y=train_std_mollu['STDs_molluscum_contagiosum']\n",
        "test_std_mollu_x=test_std_mollu.drop('STDs_molluscum_contagiosum',axis=1)\n",
        "test_std_mollu_y=test_std_mollu['STDs_molluscum_contagiosum']\n",
        "dt=DecisionTreeClassifier()\n",
        "std_model_mollu=dt.fit(train_std_mollu_x,train_std_mollu_y)\n",
        "test_std_mollu['STDs_molluscum_contagiosum']=std_model_mollu.predict(test_std_mollu_x)\n",
        "std_mollu_complete=pd.concat([train_std_mollu,test_std_mollu],axis=0)\n",
        "df_impute['STDs_molluscum_contagiosum']=std_mollu_complete['STDs_molluscum_contagiosum'].sort_index()\n",
        "\n",
        "#STDs_AIDS\n",
        "df_std_aids=df_impute.drop(['Biopsy'],axis=1)\n",
        "x_caracteristicas_categoricas.remove('STDs_AIDS')\n",
        "for i in x_caracteristicas_categoricas:\n",
        "    df_std_aids[i]=df_std_aids[i].fillna(df_std_aids[i].mode()[0])\n",
        "for i in x_caracteristicas_numericas:\n",
        "    df_std_aids[i]=df_std_aids[i].fillna(df_std_aids[i].median())\n",
        "#df_std_aids=df_std_aids.astype('float')\n",
        "df_std_aids[x_caracteristicas_categoricas]=df_std_aids[x_caracteristicas_categoricas].replace(0,'no')\n",
        "df_std_aids[x_caracteristicas_categoricas]=df_std_aids[x_caracteristicas_categoricas].replace(1,'yes')\n",
        "df_std_aids=pd.get_dummies(df_std_aids)\n",
        "train_std_aids=df_std_aids[df_std_aids.STDs_AIDS.isnull()==False]\n",
        "test_std_aids=df_std_aids[df_std_aids.STDs_AIDS.isnull()]\n",
        "train_std_aids_x=train_std_aids.drop('STDs_AIDS',axis=1)\n",
        "train_std_aids_y=train_std_aids['STDs_AIDS']\n",
        "test_std_aids_x=test_std_aids.drop('STDs_AIDS',axis=1)\n",
        "test_std_aids_y=test_std_aids['STDs_AIDS']\n",
        "dt=DecisionTreeClassifier()\n",
        "std_model_aids=dt.fit(train_std_aids_x,train_std_aids_y)\n",
        "test_std_aids['STDs_AIDS']=std_model_aids.predict(test_std_aids_x)\n",
        "std_aids_complete=pd.concat([train_std_aids,test_std_aids],axis=0)\n",
        "df_impute['STDs_AIDS']=std_aids_complete['STDs_AIDS'].sort_index()\n",
        "\n",
        "#STDs_HIV\n",
        "df_std_hiv=df_impute.drop(['Biopsy'],axis=1)\n",
        "x_caracteristicas_categoricas.remove('STDs_HIV')\n",
        "for i in x_caracteristicas_categoricas:\n",
        "    df_std_hiv[i]=df_std_hiv[i].fillna(df_std_hiv[i].mode()[0])\n",
        "for i in x_caracteristicas_numericas:\n",
        "    df_std_hiv[i]=df_std_hiv[i].fillna(df_std_hiv[i].median())\n",
        "#df_std_hiv=df_std_hiv.astype('float')\n",
        "df_std_hiv[x_caracteristicas_categoricas]=df_std_hiv[x_caracteristicas_categoricas].replace(0,'no')\n",
        "df_std_hiv[x_caracteristicas_categoricas]=df_std_hiv[x_caracteristicas_categoricas].replace(1,'yes')\n",
        "df_std_hiv=pd.get_dummies(df_std_hiv)\n",
        "train_std_hiv=df_std_hiv[df_std_hiv.STDs_HIV.isnull()==False]\n",
        "test_std_hiv=df_std_hiv[df_std_hiv.STDs_HIV.isnull()]\n",
        "train_std_hiv_x=train_std_hiv.drop('STDs_HIV',axis=1)\n",
        "train_std_hiv_y=train_std_hiv['STDs_HIV']\n",
        "test_std_hiv_x=test_std_hiv.drop('STDs_HIV',axis=1)\n",
        "test_std_hiv_y=test_std_hiv['STDs_HIV']\n",
        "dt=DecisionTreeClassifier()\n",
        "std_model_hiv=dt.fit(train_std_hiv_x,train_std_hiv_y)\n",
        "test_std_hiv['STDs_HIV']=std_model_hiv.predict(test_std_hiv_x)\n",
        "std_hiv_complete=pd.concat([train_std_hiv,test_std_hiv],axis=0)\n",
        "df_impute['STDs_HIV']=std_hiv_complete['STDs_HIV'].sort_index()\n",
        "\n",
        "#STDs_Hepatitis_B\n",
        "df_std_hepa=df_impute.drop(['Biopsy'],axis=1)\n",
        "x_caracteristicas_categoricas.remove('STDs_Hepatitis_B')\n",
        "for i in x_caracteristicas_categoricas:\n",
        "    df_std_hepa[i]=df_std_hepa[i].fillna(df_std_hepa[i].mode()[0])\n",
        "for i in x_caracteristicas_numericas:\n",
        "    df_std_hepa[i]=df_std_hepa[i].fillna(df_std_hepa[i].median())\n",
        "#df_std_hepa=df_std_hepa.astype('float')\n",
        "df_std_hepa[x_caracteristicas_categoricas]=df_std_hepa[x_caracteristicas_categoricas].replace(0,'no')\n",
        "df_std_hepa[x_caracteristicas_categoricas]=df_std_hepa[x_caracteristicas_categoricas].replace(1,'yes')\n",
        "df_std_hepa=pd.get_dummies(df_std_hepa)\n",
        "train_std_hepa=df_std_hepa[df_std_hepa.STDs_Hepatitis_B.isnull()==False]\n",
        "test_std_hepa=df_std_hepa[df_std_hepa.STDs_Hepatitis_B.isnull()]\n",
        "train_std_hepa_x=train_std_hepa.drop(['STDs_Hepatitis_B'],axis=1)\n",
        "train_std_hepa_y=train_std_hepa['STDs_Hepatitis_B']\n",
        "test_std_hepa_x=test_std_hepa.drop(['STDs_Hepatitis_B'],axis=1)\n",
        "test_std_hepa_y=test_std_hepa['STDs_Hepatitis_B']\n",
        "dt=DecisionTreeClassifier()\n",
        "std_model_hepa=dt.fit(train_std_hepa_x,train_std_hepa_y)\n",
        "test_std_hepa['STDs_Hepatitis_B']=std_model_hepa.predict(test_std_hepa_x)\n",
        "std_hepa_complete=pd.concat([train_std_hepa,test_std_hepa],axis=0)\n",
        "df_impute['STDs_Hepatitis_B']=std_hepa_complete['STDs_Hepatitis_B'].sort_index()\n",
        "\n",
        "#STDs_HPV\n",
        "df_std_hpv=df_impute.drop(['Biopsy'],axis=1)\n",
        "x_caracteristicas_categoricas.remove('STDs_HPV')\n",
        "for i in x_caracteristicas_categoricas:\n",
        "    df_std_hpv[i]=df_std_hpv[i].fillna(df_std_hpv[i].mode()[0])\n",
        "for i in x_caracteristicas_numericas:\n",
        "    df_std_hpv[i]=df_std_hpv[i].fillna(df_std_hpv[i].median())\n",
        "#df_std_hpv=df_std_hpv.astype('float')\n",
        "df_std_hpv[x_caracteristicas_categoricas]=df_std_hpv[x_caracteristicas_categoricas].replace(0,'no')\n",
        "df_std_hpv[x_caracteristicas_categoricas]=df_std_hpv[x_caracteristicas_categoricas].replace(1,'yes')\n",
        "df_std_hpv=pd.get_dummies(df_std_hpv)\n",
        "train_std_hpv=df_std_hpv[df_std_hpv.STDs_HPV.isnull()==False]\n",
        "test_std_hpv=df_std_hpv[df_std_hpv.STDs_HPV.isnull()]\n",
        "train_std_hpv_x=train_std_hpv.drop(['STDs_HPV'],axis=1)\n",
        "train_std_hpv_y=train_std_hpv['STDs_HPV']\n",
        "test_std_hpv_x=test_std_hpv.drop(['STDs_HPV'],axis=1)\n",
        "test_std_hpv_y=test_std_hpv['STDs_HPV']\n",
        "dt=DecisionTreeClassifier()\n",
        "std_model_hpv=dt.fit(train_std_hpv_x,train_std_hpv_y)\n",
        "test_std_hpv['STDs_HPV']=std_model_hpv.predict(test_std_hpv_x)\n",
        "std_hpv_complete=pd.concat([train_std_hpv,test_std_hpv],axis=0)\n",
        "df_impute['STDs_HPV']=std_hpv_complete['STDs_HPV'].sort_index()\n",
        "\n",
        "#No_pregnancies\n",
        "df_no_preg=df_impute.drop(['Biopsy'],axis=1)\n",
        "x_caracteristicas_numericas.remove('No_pregnancies')\n",
        "for i in x_caracteristicas_numericas:\n",
        "    df_no_preg[i]=df_no_preg[i].fillna(df_no_preg[i].median())\n",
        "for i in x_caracteristicas_categoricas:\n",
        "    df_no_preg[i]=df_no_preg[i].fillna(df_no_preg[i].mode()[0])\n",
        "#df_no_preg=df_no_preg.astype('float')\n",
        "df_no_preg[x_caracteristicas_categoricas]=df_no_preg[x_caracteristicas_categoricas].replace(0,'no')\n",
        "df_no_preg[x_caracteristicas_categoricas]=df_no_preg[x_caracteristicas_categoricas].replace(1,'yes')\n",
        "df_no_preg=pd.get_dummies(df_no_preg)\n",
        "train_no_preg=df_no_preg[df_no_preg.No_pregnancies.isnull()==False]\n",
        "test_no_preg=df_no_preg[df_no_preg.No_pregnancies.isnull()]\n",
        "train_no_preg_x=train_no_preg.drop(['No_pregnancies'],axis=1)\n",
        "train_no_preg_y=train_no_preg['No_pregnancies']\n",
        "test_no_preg_x=test_no_preg.drop(['No_pregnancies'],axis=1)\n",
        "test_no_preg_y=test_no_preg['No_pregnancies']\n",
        "dt=DecisionTreeRegressor()\n",
        "model_no_preg=dt.fit(train_no_preg_x,train_no_preg_y)\n",
        "test_no_preg['No_pregnancies']=model_no_preg.predict(test_no_preg_x)\n",
        "no_preg_complete=pd.concat([train_no_preg,test_no_preg],axis=0)\n",
        "df_impute['No_pregnancies']=no_preg_complete['No_pregnancies'].sort_index()\n",
        "\n",
        "#No_of_sex_partner\n",
        "df_no_sexptnr=df_impute.drop(['Biopsy'],axis=1)\n",
        "x_caracteristicas_numericas.remove('No_of_sex_partner')\n",
        "for i in x_caracteristicas_numericas:\n",
        "    df_no_sexptnr[i]=df_no_sexptnr[i].fillna(df_no_sexptnr[i].median())\n",
        "for i in x_caracteristicas_categoricas:\n",
        "    df_no_sexptnr[i]=df_no_sexptnr[i].fillna(df_no_sexptnr[i].mode()[0])\n",
        "#df_no_sexptnr=df_no_sexptnr.astype('float')\n",
        "df_no_sexptnr[x_caracteristicas_categoricas]=df_no_sexptnr[x_caracteristicas_categoricas].replace(0,'no')\n",
        "df_no_sexptnr[x_caracteristicas_categoricas]=df_no_sexptnr[x_caracteristicas_categoricas].replace(1,'yes')\n",
        "df_no_sexptnr=pd.get_dummies(df_no_sexptnr)\n",
        "train_no_sexptnr=df_no_sexptnr[df_no_sexptnr.No_of_sex_partner.isnull()==False]\n",
        "test_no_sexptnr=df_no_sexptnr[df_no_sexptnr.No_of_sex_partner.isnull()]\n",
        "train_no_sexptnr_x=train_no_sexptnr.drop(['No_of_sex_partner'],axis=1)\n",
        "train_no_sexptnr_y=train_no_sexptnr['No_of_sex_partner']\n",
        "test_no_sexptnr_x=test_no_sexptnr.drop(['No_of_sex_partner'],axis=1)\n",
        "test_no_sexptnr_y=test_no_sexptnr['No_of_sex_partner']\n",
        "dt=DecisionTreeRegressor()\n",
        "model_no_sexptnr=dt.fit(train_no_sexptnr_x,train_no_sexptnr_y)\n",
        "test_no_sexptnr['No_of_sex_partner']=model_no_sexptnr.predict(test_no_sexptnr_x)\n",
        "no_sexptnr_complete=pd.concat([train_no_sexptnr,test_no_sexptnr],axis=0)\n",
        "df_impute['No_of_sex_partner']=no_sexptnr_complete['No_of_sex_partner'].sort_index()"
      ],
      "execution_count": 10,
      "outputs": []
    },
    {
      "cell_type": "code",
      "metadata": {
        "id": "9PF2hpkb0TTR",
        "colab_type": "code",
        "colab": {
          "base_uri": "https://localhost:8080/",
          "height": 612
        },
        "outputId": "0a245776-de2b-4750-b60f-c025c52a392f"
      },
      "source": [
        "df_impute.isnull().sum()"
      ],
      "execution_count": 11,
      "outputs": [
        {
          "output_type": "execute_result",
          "data": {
            "text/plain": [
              "Age                                   0\n",
              "No_of_sex_partner                     0\n",
              "First_sexual_intercourse              0\n",
              "No_pregnancies                        0\n",
              "Smokes                                0\n",
              "Smokes_yrs                            0\n",
              "Smokes_packs_yr                       0\n",
              "Hormonal_Contraceptives               0\n",
              "Hormonal_Contraceptives_years         0\n",
              "IUD                                   0\n",
              "IUD_years                             0\n",
              "STDs                                  0\n",
              "STDs_number                           0\n",
              "STDs_condylomatosis                   0\n",
              "STDs_cervical_condylomatosis          0\n",
              "STDs_vaginal_condylomatosis           0\n",
              "STDs_vulvo_perineal_condylomatosis    0\n",
              "STDs_syphilis                         0\n",
              "STDs_pelvic_inflammatory_disease      0\n",
              "STDs_genital_herpes                   0\n",
              "STDs_molluscum_contagiosum            0\n",
              "STDs_AIDS                             0\n",
              "STDs_HIV                              0\n",
              "STDs_Hepatitis_B                      0\n",
              "STDs_HPV                              0\n",
              "STDs_No_of_diagnosis                  0\n",
              "Dx_Cancer                             0\n",
              "Dx_CIN                                0\n",
              "Dx_HPV                                0\n",
              "Dx                                    0\n",
              "Hinselmann                            0\n",
              "Schiller                              0\n",
              "Citology                              0\n",
              "Biopsy                                0\n",
              "dtype: int64"
            ]
          },
          "metadata": {
            "tags": []
          },
          "execution_count": 11
        }
      ]
    },
    {
      "cell_type": "markdown",
      "metadata": {
        "id": "EgGcEodJ9vOt",
        "colab_type": "text"
      },
      "source": [
        "Guardamos el dataset donde rellenamos todos los valores nulos"
      ]
    },
    {
      "cell_type": "code",
      "metadata": {
        "id": "jsjx6fDb9tmb",
        "colab_type": "code",
        "colab": {}
      },
      "source": [
        "df_impute.to_csv('data/df_imputation.csv')"
      ],
      "execution_count": null,
      "outputs": []
    },
    {
      "cell_type": "markdown",
      "metadata": {
        "id": "0t5lQRCMz0mo",
        "colab_type": "text"
      },
      "source": [
        "## 3. Visualización de los datos"
      ]
    },
    {
      "cell_type": "markdown",
      "metadata": {
        "id": "L_Y7rTFKZQMR",
        "colab_type": "text"
      },
      "source": [
        "Importamos el dataset que se modificó, es decir, el dataset sin datos nulos"
      ]
    },
    {
      "cell_type": "code",
      "metadata": {
        "id": "S332NTjt9pm1",
        "colab_type": "code",
        "colab": {}
      },
      "source": [
        "df_data = pd.read_csv('data/df_imputation.csv', index_col=0)"
      ],
      "execution_count": 12,
      "outputs": []
    },
    {
      "cell_type": "markdown",
      "metadata": {
        "id": "O_gCxwQ5ZcPh",
        "colab_type": "text"
      },
      "source": [
        "Observamos una descripción de la características numéricas del dataset"
      ]
    },
    {
      "cell_type": "code",
      "metadata": {
        "id": "ZJAiIsMT48Ir",
        "colab_type": "code",
        "colab": {
          "base_uri": "https://localhost:8080/",
          "height": 317
        },
        "outputId": "0be5666a-cc05-4a58-aa10-bf670dc6704b"
      },
      "source": [
        "df_data[['Age','No_pregnancies', 'No_of_sex_partner','First_sexual_intercourse','Smokes_yrs','Smokes_packs_yr','STDs_No_of_diagnosis', 'Hormonal_Contraceptives_years', 'IUD_years', 'STDs_number']].describe()"
      ],
      "execution_count": 13,
      "outputs": [
        {
          "output_type": "execute_result",
          "data": {
            "text/html": [
              "<div>\n",
              "<style scoped>\n",
              "    .dataframe tbody tr th:only-of-type {\n",
              "        vertical-align: middle;\n",
              "    }\n",
              "\n",
              "    .dataframe tbody tr th {\n",
              "        vertical-align: top;\n",
              "    }\n",
              "\n",
              "    .dataframe thead th {\n",
              "        text-align: right;\n",
              "    }\n",
              "</style>\n",
              "<table border=\"1\" class=\"dataframe\">\n",
              "  <thead>\n",
              "    <tr style=\"text-align: right;\">\n",
              "      <th></th>\n",
              "      <th>Age</th>\n",
              "      <th>No_pregnancies</th>\n",
              "      <th>No_of_sex_partner</th>\n",
              "      <th>First_sexual_intercourse</th>\n",
              "      <th>Smokes_yrs</th>\n",
              "      <th>Smokes_packs_yr</th>\n",
              "      <th>STDs_No_of_diagnosis</th>\n",
              "      <th>Hormonal_Contraceptives_years</th>\n",
              "      <th>IUD_years</th>\n",
              "      <th>STDs_number</th>\n",
              "    </tr>\n",
              "  </thead>\n",
              "  <tbody>\n",
              "    <tr>\n",
              "      <th>count</th>\n",
              "      <td>838.000000</td>\n",
              "      <td>838.000000</td>\n",
              "      <td>838.000000</td>\n",
              "      <td>838.000000</td>\n",
              "      <td>838.000000</td>\n",
              "      <td>838.000000</td>\n",
              "      <td>838.000000</td>\n",
              "      <td>838.000000</td>\n",
              "      <td>838.000000</td>\n",
              "      <td>838.000000</td>\n",
              "    </tr>\n",
              "    <tr>\n",
              "      <th>mean</th>\n",
              "      <td>26.812649</td>\n",
              "      <td>2.274463</td>\n",
              "      <td>2.507757</td>\n",
              "      <td>16.996420</td>\n",
              "      <td>1.216784</td>\n",
              "      <td>0.450366</td>\n",
              "      <td>0.084726</td>\n",
              "      <td>2.375990</td>\n",
              "      <td>0.445668</td>\n",
              "      <td>0.151551</td>\n",
              "    </tr>\n",
              "    <tr>\n",
              "      <th>std</th>\n",
              "      <td>8.529209</td>\n",
              "      <td>1.445495</td>\n",
              "      <td>1.587436</td>\n",
              "      <td>2.812965</td>\n",
              "      <td>4.090836</td>\n",
              "      <td>2.228754</td>\n",
              "      <td>0.295293</td>\n",
              "      <td>3.865077</td>\n",
              "      <td>1.823738</td>\n",
              "      <td>0.521638</td>\n",
              "    </tr>\n",
              "    <tr>\n",
              "      <th>min</th>\n",
              "      <td>13.000000</td>\n",
              "      <td>0.000000</td>\n",
              "      <td>1.000000</td>\n",
              "      <td>10.000000</td>\n",
              "      <td>0.000000</td>\n",
              "      <td>0.000000</td>\n",
              "      <td>0.000000</td>\n",
              "      <td>0.000000</td>\n",
              "      <td>0.000000</td>\n",
              "      <td>0.000000</td>\n",
              "    </tr>\n",
              "    <tr>\n",
              "      <th>25%</th>\n",
              "      <td>20.000000</td>\n",
              "      <td>1.000000</td>\n",
              "      <td>2.000000</td>\n",
              "      <td>15.000000</td>\n",
              "      <td>0.000000</td>\n",
              "      <td>0.000000</td>\n",
              "      <td>0.000000</td>\n",
              "      <td>0.000000</td>\n",
              "      <td>0.000000</td>\n",
              "      <td>0.000000</td>\n",
              "    </tr>\n",
              "    <tr>\n",
              "      <th>50%</th>\n",
              "      <td>25.000000</td>\n",
              "      <td>2.000000</td>\n",
              "      <td>2.000000</td>\n",
              "      <td>17.000000</td>\n",
              "      <td>0.000000</td>\n",
              "      <td>0.000000</td>\n",
              "      <td>0.000000</td>\n",
              "      <td>0.500000</td>\n",
              "      <td>0.000000</td>\n",
              "      <td>0.000000</td>\n",
              "    </tr>\n",
              "    <tr>\n",
              "      <th>75%</th>\n",
              "      <td>32.000000</td>\n",
              "      <td>3.000000</td>\n",
              "      <td>3.000000</td>\n",
              "      <td>18.000000</td>\n",
              "      <td>0.000000</td>\n",
              "      <td>0.000000</td>\n",
              "      <td>0.000000</td>\n",
              "      <td>3.000000</td>\n",
              "      <td>0.000000</td>\n",
              "      <td>0.000000</td>\n",
              "    </tr>\n",
              "    <tr>\n",
              "      <th>max</th>\n",
              "      <td>84.000000</td>\n",
              "      <td>11.000000</td>\n",
              "      <td>28.000000</td>\n",
              "      <td>32.000000</td>\n",
              "      <td>37.000000</td>\n",
              "      <td>37.000000</td>\n",
              "      <td>3.000000</td>\n",
              "      <td>30.000000</td>\n",
              "      <td>19.000000</td>\n",
              "      <td>4.000000</td>\n",
              "    </tr>\n",
              "  </tbody>\n",
              "</table>\n",
              "</div>"
            ],
            "text/plain": [
              "              Age  No_pregnancies  ...   IUD_years  STDs_number\n",
              "count  838.000000      838.000000  ...  838.000000   838.000000\n",
              "mean    26.812649        2.274463  ...    0.445668     0.151551\n",
              "std      8.529209        1.445495  ...    1.823738     0.521638\n",
              "min     13.000000        0.000000  ...    0.000000     0.000000\n",
              "25%     20.000000        1.000000  ...    0.000000     0.000000\n",
              "50%     25.000000        2.000000  ...    0.000000     0.000000\n",
              "75%     32.000000        3.000000  ...    0.000000     0.000000\n",
              "max     84.000000       11.000000  ...   19.000000     4.000000\n",
              "\n",
              "[8 rows x 10 columns]"
            ]
          },
          "metadata": {
            "tags": []
          },
          "execution_count": 13
        }
      ]
    },
    {
      "cell_type": "code",
      "metadata": {
        "id": "xwzTaGJD5kSu",
        "colab_type": "code",
        "colab": {
          "base_uri": "https://localhost:8080/"
        },
        "outputId": "5139ebef-f28d-4b3b-efa5-d32482d9168c"
      },
      "source": [
        "#@title Porcentaje de biopsia { display-mode: \"form\" }\n",
        "\n",
        "impute = df_data.copy()\n",
        "impute=df_data.astype('float')\n",
        "\n",
        "plt.figure(figsize = (12,8))\n",
        "plt.pie(impute['Biopsy'].value_counts(), labels = ['NO', 'YES'], autopct = '%1.1f%%', labeldistance=1.1, textprops = {'fontsize': 20})\n",
        "plt.title('División de clase para la Biopsia', fontsize=20)\n",
        "plt.show()"
      ],
      "execution_count": null,
      "outputs": [
        {
          "output_type": "display_data",
          "data": {
            "image/png": "[encoded data removed]",
            "text/plain": [
              "<Figure size 864x576 with 1 Axes>"
            ]
          },
          "metadata": {
            "tags": []
          }
        }
      ]
    },
    {
      "cell_type": "code",
      "metadata": {
        "id": "6uwrPQM90lDD",
        "colab_type": "code",
        "colab": {
          "base_uri": "https://localhost:8080/"
        },
        "outputId": "419f6d71-7c76-4140-908d-88281b725c2a"
      },
      "source": [
        "#@title Correlación de los datos { display-mode: \"form\" }\n",
        "import seaborn as sns\n",
        "\n",
        "f, ax = plt.subplots(figsize=(10, 10))\n",
        "corr = df_data.corr()\n",
        "sns.heatmap(corr, mask=np.zeros_like(corr, dtype=np.bool), cmap=sns.diverging_palette(220, 10, as_cmap=True),\n",
        "            square=True, ax=ax)"
      ],
      "execution_count": null,
      "outputs": [
        {
          "output_type": "execute_result",
          "data": {
            "text/plain": [
              "<matplotlib.axes._subplots.AxesSubplot at 0x7fd5383ceeb8>"
            ]
          },
          "metadata": {
            "tags": []
          },
          "execution_count": 7
        },
        {
          "output_type": "display_data",
          "data": {
            "image/png": "[encoded data removed]",
            "text/plain": [
              "<Figure size 720x720 with 2 Axes>"
            ]
          },
          "metadata": {
            "tags": [],
            "needs_background": "light"
          }
        }
      ]
    },
    {
      "cell_type": "code",
      "metadata": {
        "id": "F4Tj8R5-3gUM",
        "colab_type": "code",
        "colab": {
          "base_uri": "https://localhost:8080/"
        },
        "outputId": "f874013a-97bb-4818-cb3e-f8b5dd715b9d"
      },
      "source": [
        "#@title Datos más correlacionados con Biopsia { display-mode: \"form\" }\n",
        "k = 4 #number of variables for heatmap\n",
        "cols = corr.nlargest(k, 'Biopsy')['Biopsy'].index\n",
        "cm = np.corrcoef(df_data[cols].values.T)\n",
        "\n",
        "plt.figure(figsize=(8,8)) \n",
        "\n",
        "sns.set(font_scale=1.25)\n",
        "hm = sns.heatmap(cm, cbar=True, annot=True, square=True, fmt='.2f', annot_kws={'size': 10},\n",
        "                 yticklabels = cols.values, xticklabels = cols.values)\n",
        "plt.show()"
      ],
      "execution_count": null,
      "outputs": [
        {
          "output_type": "display_data",
          "data": {
            "image/png": "[encoded data removed]",
            "text/plain": [
              "<Figure size 576x576 with 2 Axes>"
            ]
          },
          "metadata": {
            "tags": [],
            "needs_background": "light"
          }
        }
      ]
    },
    {
      "cell_type": "markdown",
      "metadata": {
        "id": "Wkp8un7QzqIz",
        "colab_type": "text"
      },
      "source": [
        "## 4. División de las características y la clase"
      ]
    },
    {
      "cell_type": "markdown",
      "metadata": {
        "id": "KM6ZUlWvt1cQ",
        "colab_type": "text"
      },
      "source": [
        "<p align=\"justify\">Permutamos nuestro dataframe y porteriormente separamos las características de las clases y vemos la distribución de las etiquetas</p>  "
      ]
    },
    {
      "cell_type": "code",
      "metadata": {
        "id": "YJxtCHg5ImBs",
        "colab_type": "code",
        "colab": {}
      },
      "source": [
        "#@title Funciones { display-mode: \"form\" }\n",
        "def r_model(model,nombre,xtrain,ytrain,xtest,ytest):\n",
        "  mod = {}\n",
        "  modelo = model\n",
        "  modelo.fit(xtrain,ytrain)\n",
        "  ypred = modelo.predict(xtest)\n",
        "  mod['Modelo'] = nombre\n",
        "  mod['Train_Score'] = modelo.score(xtrain,ytrain)\n",
        "  mod['Test_Score'] = modelo.score(xtest,ytest)\n",
        "  mod['Test_accuracy'] = accuracy_score(ytest,ypred)\n",
        "  mod['f1score'] = f1_score(ytest,ypred)\n",
        "  reca = recall_score(ytest, ypred, average=None)\n",
        "  mod['recall-0'] = reca[0]\n",
        "  mod['recall-1'] = reca[1]\n",
        "  prec = precision_score(ytest, ypred, average=None)\n",
        "  mod['precision-0'] = prec[0]\n",
        "  mod['precision-1'] = prec[1]\n",
        "  #modelo.predict_proba(xtest)\n",
        "  mod['roc_auc'] = roc_auc_score(ytest,ypred)\n",
        "  return mod, ypred\n",
        "\n",
        "def run_model_MC(est, xtrain, xtest, ytrain, ytest,kfold=10):\n",
        "  est.fit(xtrain,ytrain)\n",
        "  ypredict = est.predict(xtest)\n",
        "  score=cross_val_score(est,xtest,ytest,cv=KFold(kfold,shuffle=True),scoring=make_scorer(accuracy_score))\n",
        "  return est, ypredict, np.mean(score)\n",
        "\n",
        "def matriz_confusion(ytest, ypredict):\n",
        "    target= np.unique(y)\n",
        "    conf_matrix = confusion_matrix(ytest, ypredict)\n",
        "    plt.figure(figsize=(7, 4))\n",
        "    sns.heatmap(conf_matrix, xticklabels=target, yticklabels=target, annot=True, fmt=\"d\");\n",
        "    plt.title(\"Matriz de confusión\")\n",
        "    plt.ylabel('Clase verdadera')\n",
        "    plt.xlabel('Clase predicha')\n",
        "    plt.show()\n",
        "    print (classification_report(ytest, ypredict))\n",
        "    return None\n",
        "\n",
        "def show_train_history(train_history,train,validation):\n",
        "    plt.figure(figsize=(7, 3))\n",
        "    plt.plot(train_history.history[train])\n",
        "    plt.plot(train_history.history[validation])\n",
        "    plt.title('Train History')\n",
        "    plt.ylabel(train)\n",
        "    plt.xlabel('Epoch')\n",
        "    plt.legend(['train', 'validation'], loc='best')\n",
        "    plt.show()\n",
        "\n",
        "#Objetar la sobremuestra de las clases minoritarias seleccionando muestras al azar con reemplazo.\n",
        "def SobremuestreoAleatorio(X,y,estrategia):\n",
        "  os =  RandomOverSampler(sampling_strategy=estrategia)\n",
        "  X, y = os.fit_sample(X, y)\n",
        "  return X,y\n",
        "  \n",
        "def subsamplingOversampling(X,y,estrategia = 'auto'):\n",
        "  os_us = SMOTETomek(sampling_strategy=estrategia)\n",
        "  X, y = os_us.fit_sample(X, y)\n",
        "  return X,y\n",
        "\n",
        "def escalarDatos(X):\n",
        "  X = StandardScaler().fit_transform(X)\n",
        "  return X\n",
        "\n",
        "def aplicarPCA(X,nCompo=7):\n",
        "  pca = PCA(n_components=nCompo)\n",
        "  X = pca.fit_transform(X)\n",
        "  return X\n"
      ],
      "execution_count": 14,
      "outputs": []
    },
    {
      "cell_type": "code",
      "metadata": {
        "id": "9qAL1P2MEuX5",
        "colab_type": "code",
        "colab": {
          "base_uri": "https://localhost:8080/",
          "height": 34
        },
        "outputId": "205ce6b0-82e2-425c-e2fa-debe624f52aa"
      },
      "source": [
        "np.random.seed(42)\n",
        "df_data_shuffle = df_data.iloc[np.random.permutation(len(df_data))]\n",
        "X = df_data_shuffle.drop('Biopsy', axis=1)\n",
        "y = df_data_shuffle[\"Biopsy\"]\n",
        "df_scaled = pd.DataFrame(escalarDatos(X), columns = X.columns)\n",
        "print (\"Distribución de etiquetas de clase {}\".format(Counter(y)))\n",
        "\n",
        "Xtrain, Xtest, ytrain, ytest = train_test_split(X,y, test_size=.3, random_state = 1)"
      ],
      "execution_count": 15,
      "outputs": [
        {
          "output_type": "stream",
          "text": [
            "Distribución de etiquetas de clase Counter({0.0: 784, 1.0: 54})\n"
          ],
          "name": "stdout"
        }
      ]
    },
    {
      "cell_type": "markdown",
      "metadata": {
        "id": "5x7bjwUMOQoj",
        "colab_type": "text"
      },
      "source": [
        "## 5. Modelo inicial"
      ]
    },
    {
      "cell_type": "code",
      "metadata": {
        "id": "7ta87_CxfFXP",
        "colab_type": "code",
        "colab": {
          "base_uri": "https://localhost:8080/",
          "height": 326
        },
        "outputId": "38978ea1-8b52-4ff5-e87f-1626c5ea7f0e"
      },
      "source": [
        "#@title Balance de clases { display-mode: \"form\" }\n",
        "target = np.unique(y)\n",
        "print(\"dimension del dataset: \",df_data.shape,\"\\n\")\n",
        "print(pd.value_counts(df_data['Biopsy'], sort = True))\n",
        "plt.subplots(1,1,figsize=(5,3))\n",
        "count_classes = pd.value_counts(df_data['Biopsy'], sort = True)\n",
        "count_classes.plot(kind = 'bar', rot=0)\n",
        "plt.xticks(range(2),target)\n",
        "plt.title(\"Frecuencia por número de observación\")\n",
        "plt.xlabel(\"clase\")\n",
        "plt.ylabel(\"Número de observasiones\");"
      ],
      "execution_count": 16,
      "outputs": [
        {
          "output_type": "stream",
          "text": [
            "dimension del dataset:  (838, 34) \n",
            "\n",
            "0.0    784\n",
            "1.0     54\n",
            "Name: Biopsy, dtype: int64\n"
          ],
          "name": "stdout"
        },
        {
          "output_type": "display_data",
          "data": {
            "image/png": "[encoded data removed]",
            "text/plain": [
              "<Figure size 360x216 with 1 Axes>"
            ]
          },
          "metadata": {
            "tags": [],
            "needs_background": "light"
          }
        }
      ]
    },
    {
      "cell_type": "code",
      "metadata": {
        "id": "ikXzi8H5El9u",
        "colab_type": "code",
        "colab": {
          "base_uri": "https://localhost:8080/",
          "height": 1000
        },
        "outputId": "15f8ab13-16b2-4572-b15c-6557ffa448da"
      },
      "source": [
        "#@title Pruebas con los clasificadores { display-mode: \"form\" }\n",
        "l=[]\n",
        "NB = GaussianNB() \n",
        "DT = DecisionTreeClassifier(max_depth=7,criterion=\"gini\",class_weight=\"balanced\")\n",
        "RF = RandomForestClassifier(n_estimators=64,max_depth=7,criterion=\"gini\",class_weight=\"balanced\")\n",
        "SV= SVC(kernel='rbf',degree=3,gamma=\"scale\",cache_size=300,class_weight=\"balanced\")\n",
        "predictores = ['GaussianNB','DecisionTreeClassifier','RandomForestClassifier','SVC']\n",
        "PDs = [NB,DT,RF,SV]\n",
        "for i,j in enumerate(PDs):\n",
        "  print(\"Predictor: {}\".format(predictores[i]))\n",
        "  model,predic = r_model(j,predictores[i],Xtrain,ytrain,Xtest,ytest)\n",
        "  l.append(model)\n",
        "  print(\"Score en test: \",model['Test_Score'])\n",
        "  print(\"Score en entrenamiento\",model['Test_accuracy'])\n",
        "  matriz_confusion(ytest, predic)\n",
        "  print(\"\\n\\n\")"
      ],
      "execution_count": 19,
      "outputs": [
        {
          "output_type": "stream",
          "text": [
            "Predictor: GaussianNB\n",
            "Score en test:  0.10714285714285714\n",
            "Score en entrenamiento 0.10714285714285714\n"
          ],
          "name": "stdout"
        },
        {
          "output_type": "display_data",
          "data": {
            "image/png": "[encoded data removed]",
            "text/plain": [
              "<Figure size 504x288 with 2 Axes>"
            ]
          },
          "metadata": {
            "tags": [],
            "needs_background": "light"
          }
        },
        {
          "output_type": "stream",
          "text": [
            "              precision    recall  f1-score   support\n",
            "\n",
            "         0.0       1.00      0.03      0.06       232\n",
            "         1.0       0.08      1.00      0.15        20\n",
            "\n",
            "    accuracy                           0.11       252\n",
            "   macro avg       0.54      0.52      0.10       252\n",
            "weighted avg       0.93      0.11      0.07       252\n",
            "\n",
            "\n",
            "\n",
            "\n",
            "Predictor: DecisionTreeClassifier\n",
            "Score en test:  0.9523809523809523\n",
            "Score en entrenamiento 0.9523809523809523\n"
          ],
          "name": "stdout"
        },
        {
          "output_type": "display_data",
          "data": {
            "image/png": "[encoded data removed]",
            "text/plain": [
              "<Figure size 504x288 with 2 Axes>"
            ]
          },
          "metadata": {
            "tags": [],
            "needs_background": "light"
          }
        },
        {
          "output_type": "stream",
          "text": [
            "              precision    recall  f1-score   support\n",
            "\n",
            "         0.0       1.00      0.95      0.97       232\n",
            "         1.0       0.63      0.95      0.76        20\n",
            "\n",
            "    accuracy                           0.95       252\n",
            "   macro avg       0.81      0.95      0.87       252\n",
            "weighted avg       0.97      0.95      0.96       252\n",
            "\n",
            "\n",
            "\n",
            "\n",
            "Predictor: RandomForestClassifier\n",
            "Score en test:  0.9484126984126984\n",
            "Score en entrenamiento 0.9484126984126984\n"
          ],
          "name": "stdout"
        },
        {
          "output_type": "display_data",
          "data": {
            "image/png": "[encoded data removed]",
            "text/plain": [
              "<Figure size 504x288 with 2 Axes>"
            ]
          },
          "metadata": {
            "tags": [],
            "needs_background": "light"
          }
        },
        {
          "output_type": "stream",
          "text": [
            "              precision    recall  f1-score   support\n",
            "\n",
            "         0.0       0.97      0.97      0.97       232\n",
            "         1.0       0.67      0.70      0.68        20\n",
            "\n",
            "    accuracy                           0.95       252\n",
            "   macro avg       0.82      0.83      0.83       252\n",
            "weighted avg       0.95      0.95      0.95       252\n",
            "\n",
            "\n",
            "\n",
            "\n",
            "Predictor: SVC\n",
            "Score en test:  0.9087301587301587\n",
            "Score en entrenamiento 0.9087301587301587\n"
          ],
          "name": "stdout"
        },
        {
          "output_type": "display_data",
          "data": {
            "image/png": "[encoded data removed]",
            "text/plain": [
              "<Figure size 504x288 with 2 Axes>"
            ]
          },
          "metadata": {
            "tags": [],
            "needs_background": "light"
          }
        },
        {
          "output_type": "stream",
          "text": [
            "              precision    recall  f1-score   support\n",
            "\n",
            "         0.0       0.93      0.97      0.95       232\n",
            "         1.0       0.36      0.20      0.26        20\n",
            "\n",
            "    accuracy                           0.91       252\n",
            "   macro avg       0.65      0.58      0.60       252\n",
            "weighted avg       0.89      0.91      0.90       252\n",
            "\n",
            "\n",
            "\n",
            "\n"
          ],
          "name": "stdout"
        }
      ]
    },
    {
      "cell_type": "code",
      "metadata": {
        "id": "4RFqTs-F0tlw",
        "colab_type": "code",
        "colab": {
          "base_uri": "https://localhost:8080/",
          "height": 930
        },
        "outputId": "d42b7545-512c-4a1e-9a2e-2b3c9c50aa24"
      },
      "source": [
        "#@title model de deep learning { display-mode: \"form\" }\n",
        "y_train_ohe = tf.keras.utils.to_categorical(ytrain, num_classes=2)\n",
        "y_test_ohe = tf.keras.utils.to_categorical(ytest, num_classes=2)\n",
        "model = tf.keras.Sequential([\n",
        "    tf.keras.layers.Flatten( input_shape= Xtrain.values[0].shape),\n",
        "    tf.keras.layers.Dense(33, activation=tf.nn.relu),\n",
        "    tf.keras.layers.Dense(28, activation=tf.nn.relu),\n",
        "    tf.keras.layers.Dense(24, activation=tf.nn.relu),\n",
        "    tf.keras.layers.Dense(20, activation=tf.nn.relu),\n",
        "    tf.keras.layers.Dense(16, activation=tf.nn.relu),\n",
        "    tf.keras.layers.Dense(2, activation=tf.nn.softmax)\n",
        "])\n",
        "#model.summary()\n",
        "model.compile(optimizer=tf.keras.optimizers.Adam(),\n",
        "              loss='categorical_crossentropy',#binary_crossentropy\n",
        "              metrics=['accuracy'])\n",
        "#model.fit(Xtrain_pca, y_train_ohe, epochs=64,batch_size=100, validation_data=(Xtest_pca, y_test_ohe))\n",
        "train_history = model.fit(x=Xtrain, y=y_train_ohe,  \n",
        "                          validation_split=0, epochs=56, \n",
        "                          batch_size=172, verbose=0,validation_data=(Xtest, y_test_ohe)) \n",
        "\n",
        "#visualización de loss y accuracy por cada epoch\n",
        "show_train_history(train_history,'accuracy','val_accuracy')\n",
        "show_train_history(train_history,'loss','val_loss')\n",
        "\n",
        "test_loss, test_acc = model.evaluate(Xtest, y_test_ohe, verbose=False)\n",
        "print( 'Test accuracy:', test_acc)\n",
        "print(\" test_loss: \", test_loss)\n",
        "predictions = model.predict_classes(Xtest)\n",
        "matriz_confusion(ytest, predictions)\n",
        "\n",
        "\n",
        "mod = {}\n",
        "mod['Modelo'] = 'DNN'\n",
        "mod['Train_Score'] = model.evaluate(Xtrain, y_train_ohe, verbose=False)[1]\n",
        "mod['Test_Score'] = model.evaluate(Xtest, y_test_ohe, verbose=False)[1]\n",
        "mod['Test_accuracy'] = accuracy_score(ytest,predictions)\n",
        "mod['f1score'] = f1_score(ytest,predictions)\n",
        "reca = recall_score(ytest, predictions, average=None)\n",
        "mod['recall-0'] = reca[0]\n",
        "mod['recall-1'] = reca[1]\n",
        "prec = precision_score(ytest, predictions, average=None)\n",
        "mod['precision-0'] = prec[0]\n",
        "mod['precision-1'] = prec[1]\n",
        "mod['roc_auc'] = roc_auc_score(ytest,predictions)\n",
        "l.append(mod)"
      ],
      "execution_count": 20,
      "outputs": [
        {
          "output_type": "display_data",
          "data": {
            "image/png": "[encoded data removed]",
            "text/plain": [
              "<Figure size 504x216 with 1 Axes>"
            ]
          },
          "metadata": {
            "tags": [],
            "needs_background": "light"
          }
        },
        {
          "output_type": "display_data",
          "data": {
            "image/png": "[encoded data removed]",
            "text/plain": [
              "<Figure size 504x216 with 1 Axes>"
            ]
          },
          "metadata": {
            "tags": [],
            "needs_background": "light"
          }
        },
        {
          "output_type": "stream",
          "text": [
            "Test accuracy: 0.9484127163887024\n",
            " test_loss:  0.12633278965950012\n"
          ],
          "name": "stdout"
        },
        {
          "output_type": "display_data",
          "data": {
            "image/png": "[encoded data removed]",
            "text/plain": [
              "<Figure size 504x288 with 2 Axes>"
            ]
          },
          "metadata": {
            "tags": [],
            "needs_background": "light"
          }
        },
        {
          "output_type": "stream",
          "text": [
            "              precision    recall  f1-score   support\n",
            "\n",
            "         0.0       0.97      0.97      0.97       232\n",
            "         1.0       0.68      0.65      0.67        20\n",
            "\n",
            "    accuracy                           0.95       252\n",
            "   macro avg       0.83      0.81      0.82       252\n",
            "weighted avg       0.95      0.95      0.95       252\n",
            "\n"
          ],
          "name": "stdout"
        }
      ]
    },
    {
      "cell_type": "code",
      "metadata": {
        "id": "ggWzUgdkMuX4",
        "colab_type": "code",
        "colab": {
          "base_uri": "https://localhost:8080/",
          "height": 204
        },
        "outputId": "3c518d4f-7920-4a5d-c4db-97b64342d18d"
      },
      "source": [
        "base_df = pd.DataFrame(l)\n",
        "base_df"
      ],
      "execution_count": 21,
      "outputs": [
        {
          "output_type": "execute_result",
          "data": {
            "text/html": [
              "<div>\n",
              "<style scoped>\n",
              "    .dataframe tbody tr th:only-of-type {\n",
              "        vertical-align: middle;\n",
              "    }\n",
              "\n",
              "    .dataframe tbody tr th {\n",
              "        vertical-align: top;\n",
              "    }\n",
              "\n",
              "    .dataframe thead th {\n",
              "        text-align: right;\n",
              "    }\n",
              "</style>\n",
              "<table border=\"1\" class=\"dataframe\">\n",
              "  <thead>\n",
              "    <tr style=\"text-align: right;\">\n",
              "      <th></th>\n",
              "      <th>Modelo</th>\n",
              "      <th>Train_Score</th>\n",
              "      <th>Test_Score</th>\n",
              "      <th>Test_accuracy</th>\n",
              "      <th>f1score</th>\n",
              "      <th>recall-0</th>\n",
              "      <th>recall-1</th>\n",
              "      <th>precision-0</th>\n",
              "      <th>precision-1</th>\n",
              "      <th>roc_auc</th>\n",
              "    </tr>\n",
              "  </thead>\n",
              "  <tbody>\n",
              "    <tr>\n",
              "      <th>0</th>\n",
              "      <td>GaussianNB</td>\n",
              "      <td>0.090444</td>\n",
              "      <td>0.107143</td>\n",
              "      <td>0.107143</td>\n",
              "      <td>0.150943</td>\n",
              "      <td>0.030172</td>\n",
              "      <td>1.00</td>\n",
              "      <td>1.000000</td>\n",
              "      <td>0.081633</td>\n",
              "      <td>0.515086</td>\n",
              "    </tr>\n",
              "    <tr>\n",
              "      <th>1</th>\n",
              "      <td>DecisionTreeClassifier</td>\n",
              "      <td>0.984642</td>\n",
              "      <td>0.952381</td>\n",
              "      <td>0.952381</td>\n",
              "      <td>0.760000</td>\n",
              "      <td>0.952586</td>\n",
              "      <td>0.95</td>\n",
              "      <td>0.995495</td>\n",
              "      <td>0.633333</td>\n",
              "      <td>0.951293</td>\n",
              "    </tr>\n",
              "    <tr>\n",
              "      <th>2</th>\n",
              "      <td>RandomForestClassifier</td>\n",
              "      <td>0.991468</td>\n",
              "      <td>0.948413</td>\n",
              "      <td>0.948413</td>\n",
              "      <td>0.682927</td>\n",
              "      <td>0.969828</td>\n",
              "      <td>0.70</td>\n",
              "      <td>0.974026</td>\n",
              "      <td>0.666667</td>\n",
              "      <td>0.834914</td>\n",
              "    </tr>\n",
              "    <tr>\n",
              "      <th>3</th>\n",
              "      <td>SVC</td>\n",
              "      <td>0.901024</td>\n",
              "      <td>0.908730</td>\n",
              "      <td>0.908730</td>\n",
              "      <td>0.258065</td>\n",
              "      <td>0.969828</td>\n",
              "      <td>0.20</td>\n",
              "      <td>0.933610</td>\n",
              "      <td>0.363636</td>\n",
              "      <td>0.584914</td>\n",
              "    </tr>\n",
              "    <tr>\n",
              "      <th>4</th>\n",
              "      <td>DNN</td>\n",
              "      <td>0.972696</td>\n",
              "      <td>0.948413</td>\n",
              "      <td>0.948413</td>\n",
              "      <td>0.666667</td>\n",
              "      <td>0.974138</td>\n",
              "      <td>0.65</td>\n",
              "      <td>0.969957</td>\n",
              "      <td>0.684211</td>\n",
              "      <td>0.812069</td>\n",
              "    </tr>\n",
              "  </tbody>\n",
              "</table>\n",
              "</div>"
            ],
            "text/plain": [
              "                   Modelo  Train_Score  ...  precision-1   roc_auc\n",
              "0              GaussianNB     0.090444  ...     0.081633  0.515086\n",
              "1  DecisionTreeClassifier     0.984642  ...     0.633333  0.951293\n",
              "2  RandomForestClassifier     0.991468  ...     0.666667  0.834914\n",
              "3                     SVC     0.901024  ...     0.363636  0.584914\n",
              "4                     DNN     0.972696  ...     0.684211  0.812069\n",
              "\n",
              "[5 rows x 10 columns]"
            ]
          },
          "metadata": {
            "tags": []
          },
          "execution_count": 21
        }
      ]
    },
    {
      "cell_type": "markdown",
      "metadata": {
        "id": "KjceTOXtWj0y",
        "colab_type": "text"
      },
      "source": [
        "## 6. Modelo final"
      ]
    },
    {
      "cell_type": "markdown",
      "metadata": {
        "id": "-TLXcz8jNvCL",
        "colab_type": "text"
      },
      "source": [
        "### Se hace un Oversampling"
      ]
    },
    {
      "cell_type": "markdown",
      "metadata": {
        "id": "XJ5KNqg2aLQW",
        "colab_type": "text"
      },
      "source": [
        "Se hace un sobremuestreo en los datos de entrenamiento y se crean muestras artificiales para la clase minoritaria"
      ]
    },
    {
      "cell_type": "code",
      "metadata": {
        "id": "LPRNrhi5WnbY",
        "colab_type": "code",
        "colab": {
          "base_uri": "https://localhost:8080/",
          "height": 34
        },
        "outputId": "b9b98853-f92f-40b1-8f83-2ecfc90c90e5"
      },
      "source": [
        "Xtrain_s, ytrain_s = RandomOverSampler(random_state=33).fit_resample(Xtrain, ytrain.ravel())\n",
        "print(sorted(Counter(ytrain_s).items()))"
      ],
      "execution_count": 22,
      "outputs": [
        {
          "output_type": "stream",
          "text": [
            "[(0.0, 552), (1.0, 552)]\n"
          ],
          "name": "stdout"
        }
      ]
    },
    {
      "cell_type": "code",
      "metadata": {
        "id": "Ap21CFZ68830",
        "colab_type": "code",
        "colab": {
          "base_uri": "https://localhost:8080/",
          "height": 241
        },
        "outputId": "0f3396ed-2761-4fe0-cf86-ba87c8cc4ec8"
      },
      "source": [
        "#@title Balance de clases  { display-mode: \"form\" }\n",
        "plt.subplots(1,1,figsize=(5,3))\n",
        "target= ['0', '1']\n",
        "lista = [np.sum(ytrain_s==0),np.sum(ytrain_s==1)]\n",
        "plt.bar(target, lista)\n",
        "plt.title(\"Numero de datos por clase\")\n",
        "plt.xlabel(\"Clase\")\n",
        "plt.ylabel(\"Numero de observaciones\");"
      ],
      "execution_count": 23,
      "outputs": [
        {
          "output_type": "display_data",
          "data": {
            "image/png": "[encoded data removed]",
            "text/plain": [
              "<Figure size 360x216 with 1 Axes>"
            ]
          },
          "metadata": {
            "tags": [],
            "needs_background": "light"
          }
        }
      ]
    },
    {
      "cell_type": "code",
      "metadata": {
        "colab_type": "code",
        "id": "hGlD0TdyitIr",
        "colab": {
          "base_uri": "https://localhost:8080/",
          "height": 1000
        },
        "outputId": "f01150a8-099b-42b4-92a8-b6bdd81dbba3"
      },
      "source": [
        "#@title Pruebas con los clasificadores { display-mode: \"form\" }\n",
        "l_final=[]\n",
        "NB = GaussianNB() \n",
        "DT = DecisionTreeClassifier(max_depth=7,criterion=\"gini\",class_weight=\"balanced\")\n",
        "RF = RandomForestClassifier(n_estimators=64,max_depth=7,criterion=\"gini\",class_weight=\"balanced\")\n",
        "SV= SVC(kernel='rbf',degree=3,gamma=\"scale\",cache_size=300,class_weight=\"balanced\")\n",
        "predictores = ['GaussianNB','DecisionTreeClassifier','RandomForestClassifier','SVC']\n",
        "PDs = [NB,DT,RF,SV]\n",
        "for i,j in enumerate(PDs):\n",
        "  print(\"Predictor: {}\".format(predictores[i]))\n",
        "  model,predic = r_model(j,predictores[i],Xtrain_s,ytrain_s,Xtest,ytest)\n",
        "  l_final.append(model)\n",
        "  print(\"Score en test: \",model['Test_Score'])\n",
        "  print(\"Score en entrenamiento\",model['Test_accuracy'])\n",
        "  matriz_confusion(ytest, predic)\n",
        "  print(\"\\n\\n\")"
      ],
      "execution_count": 24,
      "outputs": [
        {
          "output_type": "stream",
          "text": [
            "Predictor: GaussianNB\n",
            "Score en test:  0.10714285714285714\n",
            "Score en entrenamiento 0.10714285714285714\n"
          ],
          "name": "stdout"
        },
        {
          "output_type": "display_data",
          "data": {
            "image/png": "[encoded data removed]",
            "text/plain": [
              "<Figure size 504x288 with 2 Axes>"
            ]
          },
          "metadata": {
            "tags": [],
            "needs_background": "light"
          }
        },
        {
          "output_type": "stream",
          "text": [
            "              precision    recall  f1-score   support\n",
            "\n",
            "         0.0       1.00      0.03      0.06       232\n",
            "         1.0       0.08      1.00      0.15        20\n",
            "\n",
            "    accuracy                           0.11       252\n",
            "   macro avg       0.54      0.52      0.10       252\n",
            "weighted avg       0.93      0.11      0.07       252\n",
            "\n",
            "\n",
            "\n",
            "\n",
            "Predictor: DecisionTreeClassifier\n",
            "Score en test:  0.9563492063492064\n",
            "Score en entrenamiento 0.9563492063492064\n"
          ],
          "name": "stdout"
        },
        {
          "output_type": "display_data",
          "data": {
            "image/png": "[encoded data removed]",
            "text/plain": [
              "<Figure size 504x288 with 2 Axes>"
            ]
          },
          "metadata": {
            "tags": [],
            "needs_background": "light"
          }
        },
        {
          "output_type": "stream",
          "text": [
            "              precision    recall  f1-score   support\n",
            "\n",
            "         0.0       1.00      0.96      0.98       232\n",
            "         1.0       0.66      0.95      0.78        20\n",
            "\n",
            "    accuracy                           0.96       252\n",
            "   macro avg       0.83      0.95      0.88       252\n",
            "weighted avg       0.97      0.96      0.96       252\n",
            "\n",
            "\n",
            "\n",
            "\n",
            "Predictor: RandomForestClassifier\n",
            "Score en test:  0.9642857142857143\n",
            "Score en entrenamiento 0.9642857142857143\n"
          ],
          "name": "stdout"
        },
        {
          "output_type": "display_data",
          "data": {
            "image/png": "[encoded data removed]",
            "text/plain": [
              "<Figure size 504x288 with 2 Axes>"
            ]
          },
          "metadata": {
            "tags": [],
            "needs_background": "light"
          }
        },
        {
          "output_type": "stream",
          "text": [
            "              precision    recall  f1-score   support\n",
            "\n",
            "         0.0       1.00      0.96      0.98       232\n",
            "         1.0       0.69      1.00      0.82        20\n",
            "\n",
            "    accuracy                           0.96       252\n",
            "   macro avg       0.84      0.98      0.90       252\n",
            "weighted avg       0.98      0.96      0.97       252\n",
            "\n",
            "\n",
            "\n",
            "\n",
            "Predictor: SVC\n",
            "Score en test:  0.9404761904761905\n",
            "Score en entrenamiento 0.9404761904761905\n"
          ],
          "name": "stdout"
        },
        {
          "output_type": "display_data",
          "data": {
            "image/png": "[encoded data removed]",
            "text/plain": [
              "<Figure size 504x288 with 2 Axes>"
            ]
          },
          "metadata": {
            "tags": [],
            "needs_background": "light"
          }
        },
        {
          "output_type": "stream",
          "text": [
            "              precision    recall  f1-score   support\n",
            "\n",
            "         0.0       0.95      0.98      0.97       232\n",
            "         1.0       0.69      0.45      0.55        20\n",
            "\n",
            "    accuracy                           0.94       252\n",
            "   macro avg       0.82      0.72      0.76       252\n",
            "weighted avg       0.93      0.94      0.93       252\n",
            "\n",
            "\n",
            "\n",
            "\n"
          ],
          "name": "stdout"
        }
      ]
    },
    {
      "cell_type": "code",
      "metadata": {
        "colab_type": "code",
        "id": "fO6SSZUiiyX5",
        "colab": {
          "base_uri": "https://localhost:8080/",
          "height": 930
        },
        "outputId": "7f652d28-a2a3-419d-ffcc-3ded29d1bada"
      },
      "source": [
        "#@title model de deep learning { display-mode: \"form\" }\n",
        "y_train_ohe = tf.keras.utils.to_categorical(ytrain_s, num_classes=2)\n",
        "y_test_ohe = tf.keras.utils.to_categorical(ytest, num_classes=2)\n",
        "model = tf.keras.Sequential([\n",
        "    tf.keras.layers.Flatten( input_shape= Xtrain_s[0].shape),\n",
        "    tf.keras.layers.Dense(33, activation=tf.nn.relu),\n",
        "    tf.keras.layers.Dense(28, activation=tf.nn.relu),\n",
        "    tf.keras.layers.Dense(24, activation=tf.nn.relu),\n",
        "    tf.keras.layers.Dense(20, activation=tf.nn.relu),\n",
        "    tf.keras.layers.Dense(16, activation=tf.nn.relu),\n",
        "    tf.keras.layers.Dense(2, activation=tf.nn.sigmoid)\n",
        "])\n",
        "#model.summary()\n",
        "model.compile(optimizer=tf.keras.optimizers.Adam(),\n",
        "              loss='categorical_crossentropy',#binary_crossentropy\n",
        "              metrics=['accuracy'])\n",
        "#model.fit(Xtrain_s_pca, y_train_ohe, epochs=64,batch_size=100, validation_data=(Xtest_pca, y_test_ohe))\n",
        "train_history = model.fit(x=Xtrain_s, y=y_train_ohe,  \n",
        "                          validation_split=0, epochs=56, \n",
        "                          batch_size=172, verbose=0,validation_data=(Xtest, y_test_ohe)) \n",
        "\n",
        "#visualización de loss y accuracy por cada epoch\n",
        "show_train_history(train_history,'accuracy','val_accuracy')\n",
        "show_train_history(train_history,'loss','val_loss')\n",
        "\n",
        "test_loss, test_acc = model.evaluate(Xtest, y_test_ohe, verbose=False)\n",
        "print( 'Test accuracy:', test_acc)\n",
        "print(\" test_loss: \", test_loss)\n",
        "predictions = model.predict_classes(Xtest)\n",
        "matriz_confusion(ytest, predictions)\n",
        "\n",
        "\n",
        "mod = {}\n",
        "mod['Modelo'] = 'DNN'\n",
        "mod['Train_Score'] = model.evaluate(Xtrain_s, y_train_ohe, verbose=False)[1]\n",
        "mod['Test_Score'] = model.evaluate(Xtest, y_test_ohe, verbose=False)[1]\n",
        "mod['Test_accuracy'] = accuracy_score(ytest,predictions)\n",
        "mod['f1score'] = f1_score(ytest,predictions)\n",
        "reca = recall_score(ytest, predictions, average=None)\n",
        "mod['recall-0'] = reca[0]\n",
        "mod['recall-1'] = reca[1]\n",
        "prec = precision_score(ytest, predictions, average=None)\n",
        "mod['precision-0'] = prec[0]\n",
        "mod['precision-1'] = prec[1]\n",
        "mod['roc_auc'] = roc_auc_score(ytest,predictions)\n",
        "l_final.append(mod)"
      ],
      "execution_count": 25,
      "outputs": [
        {
          "output_type": "display_data",
          "data": {
            "image/png": "[encoded data removed]",
            "text/plain": [
              "<Figure size 504x216 with 1 Axes>"
            ]
          },
          "metadata": {
            "tags": [],
            "needs_background": "light"
          }
        },
        {
          "output_type": "display_data",
          "data": {
            "image/png": "[encoded data removed]",
            "text/plain": [
              "<Figure size 504x216 with 1 Axes>"
            ]
          },
          "metadata": {
            "tags": [],
            "needs_background": "light"
          }
        },
        {
          "output_type": "stream",
          "text": [
            "Test accuracy: 0.9444444179534912\n",
            " test_loss:  0.23406295478343964\n"
          ],
          "name": "stdout"
        },
        {
          "output_type": "display_data",
          "data": {
            "image/png": "[encoded data removed]",
            "text/plain": [
              "<Figure size 504x288 with 2 Axes>"
            ]
          },
          "metadata": {
            "tags": [],
            "needs_background": "light"
          }
        },
        {
          "output_type": "stream",
          "text": [
            "              precision    recall  f1-score   support\n",
            "\n",
            "         0.0       0.98      0.96      0.97       232\n",
            "         1.0       0.62      0.80      0.70        20\n",
            "\n",
            "    accuracy                           0.94       252\n",
            "   macro avg       0.80      0.88      0.83       252\n",
            "weighted avg       0.95      0.94      0.95       252\n",
            "\n"
          ],
          "name": "stdout"
        }
      ]
    },
    {
      "cell_type": "code",
      "metadata": {
        "id": "bCnU2p5ji3PJ",
        "colab_type": "code",
        "colab": {
          "base_uri": "https://localhost:8080/",
          "height": 204
        },
        "outputId": "57698bfb-b50a-4356-fe3b-81b06aaaf7d0"
      },
      "source": [
        "oversampling_df = pd.DataFrame(l_final)\n",
        "oversampling_df"
      ],
      "execution_count": 27,
      "outputs": [
        {
          "output_type": "execute_result",
          "data": {
            "text/html": [
              "<div>\n",
              "<style scoped>\n",
              "    .dataframe tbody tr th:only-of-type {\n",
              "        vertical-align: middle;\n",
              "    }\n",
              "\n",
              "    .dataframe tbody tr th {\n",
              "        vertical-align: top;\n",
              "    }\n",
              "\n",
              "    .dataframe thead th {\n",
              "        text-align: right;\n",
              "    }\n",
              "</style>\n",
              "<table border=\"1\" class=\"dataframe\">\n",
              "  <thead>\n",
              "    <tr style=\"text-align: right;\">\n",
              "      <th></th>\n",
              "      <th>Modelo</th>\n",
              "      <th>Train_Score</th>\n",
              "      <th>Test_Score</th>\n",
              "      <th>Test_accuracy</th>\n",
              "      <th>f1score</th>\n",
              "      <th>recall-0</th>\n",
              "      <th>recall-1</th>\n",
              "      <th>precision-0</th>\n",
              "      <th>precision-1</th>\n",
              "      <th>roc_auc</th>\n",
              "    </tr>\n",
              "  </thead>\n",
              "  <tbody>\n",
              "    <tr>\n",
              "      <th>0</th>\n",
              "      <td>GaussianNB</td>\n",
              "      <td>0.517210</td>\n",
              "      <td>0.107143</td>\n",
              "      <td>0.107143</td>\n",
              "      <td>0.150943</td>\n",
              "      <td>0.030172</td>\n",
              "      <td>1.00</td>\n",
              "      <td>1.000000</td>\n",
              "      <td>0.081633</td>\n",
              "      <td>0.515086</td>\n",
              "    </tr>\n",
              "    <tr>\n",
              "      <th>1</th>\n",
              "      <td>DecisionTreeClassifier</td>\n",
              "      <td>0.991848</td>\n",
              "      <td>0.956349</td>\n",
              "      <td>0.956349</td>\n",
              "      <td>0.775510</td>\n",
              "      <td>0.956897</td>\n",
              "      <td>0.95</td>\n",
              "      <td>0.995516</td>\n",
              "      <td>0.655172</td>\n",
              "      <td>0.953448</td>\n",
              "    </tr>\n",
              "    <tr>\n",
              "      <th>2</th>\n",
              "      <td>RandomForestClassifier</td>\n",
              "      <td>0.960145</td>\n",
              "      <td>0.964286</td>\n",
              "      <td>0.964286</td>\n",
              "      <td>0.816327</td>\n",
              "      <td>0.961207</td>\n",
              "      <td>1.00</td>\n",
              "      <td>1.000000</td>\n",
              "      <td>0.689655</td>\n",
              "      <td>0.980603</td>\n",
              "    </tr>\n",
              "    <tr>\n",
              "      <th>3</th>\n",
              "      <td>SVC</td>\n",
              "      <td>0.739130</td>\n",
              "      <td>0.940476</td>\n",
              "      <td>0.940476</td>\n",
              "      <td>0.545455</td>\n",
              "      <td>0.982759</td>\n",
              "      <td>0.45</td>\n",
              "      <td>0.953975</td>\n",
              "      <td>0.692308</td>\n",
              "      <td>0.716379</td>\n",
              "    </tr>\n",
              "    <tr>\n",
              "      <th>4</th>\n",
              "      <td>DNN</td>\n",
              "      <td>0.956522</td>\n",
              "      <td>0.944444</td>\n",
              "      <td>0.944444</td>\n",
              "      <td>0.695652</td>\n",
              "      <td>0.956897</td>\n",
              "      <td>0.80</td>\n",
              "      <td>0.982301</td>\n",
              "      <td>0.615385</td>\n",
              "      <td>0.878448</td>\n",
              "    </tr>\n",
              "  </tbody>\n",
              "</table>\n",
              "</div>"
            ],
            "text/plain": [
              "                   Modelo  Train_Score  ...  precision-1   roc_auc\n",
              "0              GaussianNB     0.517210  ...     0.081633  0.515086\n",
              "1  DecisionTreeClassifier     0.991848  ...     0.655172  0.953448\n",
              "2  RandomForestClassifier     0.960145  ...     0.689655  0.980603\n",
              "3                     SVC     0.739130  ...     0.692308  0.716379\n",
              "4                     DNN     0.956522  ...     0.615385  0.878448\n",
              "\n",
              "[5 rows x 10 columns]"
            ]
          },
          "metadata": {
            "tags": []
          },
          "execution_count": 27
        }
      ]
    },
    {
      "cell_type": "markdown",
      "metadata": {
        "id": "neFrrjJEmI5i",
        "colab_type": "text"
      },
      "source": [
        "### Seleccionamos las mejores características para los diferentes predictores"
      ]
    },
    {
      "cell_type": "markdown",
      "metadata": {
        "id": "y8j-cYa4mo-r",
        "colab_type": "text"
      },
      "source": [
        "Hemos utilizado la técnica RFE para la selección de características.\n",
        "Eliminación de características recursivas (RFE), como sugiere su título, elimina características de manera recursiva, crea un modelo utilizando los atributos restantes y calcula la precisión del modelo.\n",
        "RFE puede calcular la combinación de atributos que contribuyen a la predicción de la variable (o clase) objetivo.\n",
        "Las características se eligen en función de la puntuación de recall, es decir, qué conjunto de características dió la puntuación de recall más alta"
      ]
    },
    {
      "cell_type": "code",
      "metadata": {
        "id": "TpBL0JpOgIT-",
        "colab_type": "code",
        "colab": {}
      },
      "source": [
        "X1=X.drop(['Schiller','Citology','Hinselmann'],axis=1)"
      ],
      "execution_count": null,
      "outputs": []
    },
    {
      "cell_type": "code",
      "metadata": {
        "id": "ZFy3G-CHmfhw",
        "colab_type": "code",
        "colab": {}
      },
      "source": [
        "for i in range(1,df_data.shape[1]):\n",
        "    model = RFE(DecisionTreeClassifier(),i).fit(X1,y)\n",
        "    print(X1.columns[model.support_])\n",
        "    x_train,x_test,y_train,y_test = train_test_split(model.transform(X1),y,test_size=0.3,random_state=0)\n",
        "    dt = DecisionTreeClassifier()\n",
        "    dt.fit(x_train,y_train)\n",
        "    y_pred = dt.predict(x_test)\n",
        "    dt_recall = roc_auc_score(y_test,y_pred)\n",
        "    reca = recall_score(y_test, y_pred, average=None)\n",
        "    print('roc_auc',dt_recall)\n",
        "    print('recall-0', reca[0])\n",
        "    print('recall-1', reca[1])\n",
        "    print('*'*100)"
      ],
      "execution_count": null,
      "outputs": []
    },
    {
      "cell_type": "code",
      "metadata": {
        "id": "JLtmuOxawzBb",
        "colab_type": "code",
        "colab": {
          "base_uri": "https://localhost:8080/",
          "height": 34
        },
        "outputId": "6c4aacb5-5032-4fdc-a021-0596babaa014"
      },
      "source": [
        "rfe_dt=['Age', 'First_sexual_intercourse','No_pregnancies', 'STDs_syphilis',\n",
        "       'Dx_CIN', 'Schiller','Citology']\n",
        "len(rfe_dt)"
      ],
      "execution_count": 28,
      "outputs": [
        {
          "output_type": "execute_result",
          "data": {
            "text/plain": [
              "7"
            ]
          },
          "metadata": {
            "tags": []
          },
          "execution_count": 28
        }
      ]
    },
    {
      "cell_type": "code",
      "metadata": {
        "id": "AGqTNn25xI2R",
        "colab_type": "code",
        "colab": {}
      },
      "source": [
        "for i in range(1,df_data.shape[1]):\n",
        "    model = RFE(RandomForestClassifier(),i).fit(X1,y)\n",
        "    print(X1.columns[model.support_])\n",
        "    x_train,x_test,y_train,y_test = train_test_split(model.transform(X1),y,test_size=0.3,random_state=0)\n",
        "    dt = RandomForestClassifier()\n",
        "    dt.fit(x_train,y_train)\n",
        "    y_pred = dt.predict(x_test)\n",
        "    dt_recall = roc_auc_score(y_test,y_pred)\n",
        "    reca = recall_score(y_test, y_pred, average=None)\n",
        "    print('roc_auc',dt_recall)\n",
        "    print('recall-0', reca[0])\n",
        "    print('recall-1', reca[1])\n",
        "    print('*'*100)"
      ],
      "execution_count": null,
      "outputs": []
    },
    {
      "cell_type": "code",
      "metadata": {
        "id": "p4JF25VTyZjL",
        "colab_type": "code",
        "colab": {
          "base_uri": "https://localhost:8080/",
          "height": 34
        },
        "outputId": "af8b1fbe-8c21-4d0c-9890-c8c96f004da2"
      },
      "source": [
        "rfe_rf=['Age', 'First_sexual_intercourse',\n",
        "  'No_pregnancies', 'STDs_number',\n",
        "  'Hinselmann', 'Schiller', 'Citology']\n",
        "len(rfe_rf)"
      ],
      "execution_count": 29,
      "outputs": [
        {
          "output_type": "execute_result",
          "data": {
            "text/plain": [
              "7"
            ]
          },
          "metadata": {
            "tags": []
          },
          "execution_count": 29
        }
      ]
    },
    {
      "cell_type": "code",
      "metadata": {
        "id": "MauFKeyKzEYz",
        "colab_type": "code",
        "colab": {}
      },
      "source": [
        "x_train_s = pd.DataFrame(Xtrain_s, columns = X.columns)\n",
        "y_train_s = pd.DataFrame(ytrain_s, columns = ['Biopsy'])\n",
        "x_test = pd.DataFrame(Xtest, columns=X.columns)\n",
        "\n",
        "rfe_dt_df_train = x_train_s[rfe_dt]\n",
        "rfe_dt_df_test = x_test[rfe_dt]\n",
        "rfe_rf_df_train = x_train_s[rfe_rf]\n",
        "rfe_rf_df_test = x_test[rfe_rf]\n",
        "\n",
        "B = [(rfe_dt_df_train,rfe_dt_df_test),(rfe_rf_df_train,rfe_rf_df_test)]"
      ],
      "execution_count": 30,
      "outputs": []
    },
    {
      "cell_type": "code",
      "metadata": {
        "colab_type": "code",
        "id": "S9KHfwgF0Eyn",
        "colab": {
          "base_uri": "https://localhost:8080/",
          "height": 1000
        },
        "outputId": "38c44602-dd22-40cc-f6a4-b4655dba1b04"
      },
      "source": [
        "#@title Pruebas con los clasificadores { display-mode: \"form\" }\n",
        "l_final_BF=[]\n",
        "DT = DecisionTreeClassifier(max_depth=7,criterion=\"gini\",class_weight=\"balanced\")\n",
        "RF = RandomForestClassifier(n_estimators=64,max_depth=7,criterion=\"gini\",class_weight=\"balanced\")\n",
        "predictores = ['DecisionTreeClassifier','RandomForestClassifier']\n",
        "PDs = [DT,RF]\n",
        "for i,j in enumerate(PDs):\n",
        "  print(\"Predictor: {}\".format(predictores[i]))\n",
        "  model,predic = r_model(j,predictores[i],B[i][0],ytrain_s,B[i][1],ytest)\n",
        "  l_final_BF.append(model)\n",
        "  print(\"Score en test: \",model['Test_Score'])\n",
        "  print(\"Score en entrenamiento\",model['Test_accuracy'])\n",
        "  matriz_confusion(ytest, predic)\n",
        "  print(\"\\n\\n\")"
      ],
      "execution_count": 31,
      "outputs": [
        {
          "output_type": "stream",
          "text": [
            "Predictor: DecisionTreeClassifier\n",
            "Score en test:  0.9563492063492064\n",
            "Score en entrenamiento 0.9563492063492064\n"
          ],
          "name": "stdout"
        },
        {
          "output_type": "display_data",
          "data": {
            "image/png": "[encoded data removed]",
            "text/plain": [
              "<Figure size 504x288 with 2 Axes>"
            ]
          },
          "metadata": {
            "tags": [],
            "needs_background": "light"
          }
        },
        {
          "output_type": "stream",
          "text": [
            "              precision    recall  f1-score   support\n",
            "\n",
            "         0.0       1.00      0.96      0.98       232\n",
            "         1.0       0.66      0.95      0.78        20\n",
            "\n",
            "    accuracy                           0.96       252\n",
            "   macro avg       0.83      0.95      0.88       252\n",
            "weighted avg       0.97      0.96      0.96       252\n",
            "\n",
            "\n",
            "\n",
            "\n",
            "Predictor: RandomForestClassifier\n",
            "Score en test:  0.9563492063492064\n",
            "Score en entrenamiento 0.9563492063492064\n"
          ],
          "name": "stdout"
        },
        {
          "output_type": "display_data",
          "data": {
            "image/png": "[encoded data removed]",
            "text/plain": [
              "<Figure size 504x288 with 2 Axes>"
            ]
          },
          "metadata": {
            "tags": [],
            "needs_background": "light"
          }
        },
        {
          "output_type": "stream",
          "text": [
            "              precision    recall  f1-score   support\n",
            "\n",
            "         0.0       0.99      0.96      0.98       232\n",
            "         1.0       0.67      0.90      0.77        20\n",
            "\n",
            "    accuracy                           0.96       252\n",
            "   macro avg       0.83      0.93      0.87       252\n",
            "weighted avg       0.97      0.96      0.96       252\n",
            "\n",
            "\n",
            "\n",
            "\n"
          ],
          "name": "stdout"
        }
      ]
    },
    {
      "cell_type": "code",
      "metadata": {
        "colab_type": "code",
        "id": "wxATMQml0MRS",
        "colab": {
          "base_uri": "https://localhost:8080/",
          "height": 930
        },
        "outputId": "d486755c-7f15-4d22-f00f-b4708163d90a"
      },
      "source": [
        "#@title model de deep learning { display-mode: \"form\" }\n",
        "y_train_ohe = tf.keras.utils.to_categorical(ytrain_s, num_classes=2)\n",
        "y_test_ohe = tf.keras.utils.to_categorical(ytest, num_classes=2)\n",
        "model = tf.keras.Sequential([\n",
        "    tf.keras.layers.Flatten( input_shape= B[0][0].values[0].shape),\n",
        "    tf.keras.layers.Dense(33, activation=tf.nn.relu),\n",
        "    tf.keras.layers.Dense(28, activation=tf.nn.relu),\n",
        "    tf.keras.layers.Dense(24, activation=tf.nn.relu),\n",
        "    tf.keras.layers.Dense(20, activation=tf.nn.relu),\n",
        "    tf.keras.layers.Dense(16, activation=tf.nn.relu),\n",
        "    tf.keras.layers.Dense(2, activation=tf.nn.sigmoid)\n",
        "])\n",
        "#model.summary()\n",
        "model.compile(optimizer=tf.keras.optimizers.Adam(),\n",
        "              loss='categorical_crossentropy',#binary_crossentropy\n",
        "              metrics=['accuracy'])\n",
        "#model.fit(B[0][0]_pca, y_train_ohe, epochs=64,batch_size=100, validation_data=(B[0][1]_pca, y_test_ohe))\n",
        "train_history = model.fit(x=B[0][0], y=y_train_ohe,  \n",
        "                          validation_split=0, epochs=56, \n",
        "                          batch_size=172, verbose=0,validation_data=(B[0][1], y_test_ohe)) \n",
        "\n",
        "#visualización de loss y accuracy por cada epoch\n",
        "show_train_history(train_history,'accuracy','val_accuracy')\n",
        "show_train_history(train_history,'loss','val_loss')\n",
        "\n",
        "test_loss, test_acc = model.evaluate(B[0][1], y_test_ohe, verbose=False)\n",
        "print( 'Test accuracy:', test_acc)\n",
        "print(\" test_loss: \", test_loss)\n",
        "predictions = model.predict_classes(B[0][1])\n",
        "matriz_confusion(ytest, predictions)\n",
        "\n",
        "\n",
        "mod = {}\n",
        "mod['Modelo'] = 'DNN'\n",
        "mod['Train_Score'] = model.evaluate(B[0][0], y_train_ohe, verbose=False)[1]\n",
        "mod['Test_Score'] = model.evaluate(B[0][1], y_test_ohe, verbose=False)[1]\n",
        "mod['Test_accuracy'] = accuracy_score(ytest,predictions)\n",
        "mod['f1score'] = f1_score(ytest,predictions)\n",
        "reca = recall_score(ytest, predictions, average=None)\n",
        "mod['recall-0'] = reca[0]\n",
        "mod['recall-1'] = reca[1]\n",
        "prec = precision_score(ytest, predictions, average=None)\n",
        "mod['precision-0'] = prec[0]\n",
        "mod['precision-1'] = prec[1]\n",
        "mod['roc_auc'] = roc_auc_score(ytest,predictions)\n",
        "l_final_BF.append(mod)"
      ],
      "execution_count": 32,
      "outputs": [
        {
          "output_type": "display_data",
          "data": {
            "image/png": "[encoded data removed]",
            "text/plain": [
              "<Figure size 504x216 with 1 Axes>"
            ]
          },
          "metadata": {
            "tags": [],
            "needs_background": "light"
          }
        },
        {
          "output_type": "display_data",
          "data": {
            "image/png": "[encoded data removed]",
            "text/plain": [
              "<Figure size 504x216 with 1 Axes>"
            ]
          },
          "metadata": {
            "tags": [],
            "needs_background": "light"
          }
        },
        {
          "output_type": "stream",
          "text": [
            "Test accuracy: 0.9246031641960144\n",
            " test_loss:  0.318217933177948\n"
          ],
          "name": "stdout"
        },
        {
          "output_type": "display_data",
          "data": {
            "image/png": "[encoded data removed]",
            "text/plain": [
              "<Figure size 504x288 with 2 Axes>"
            ]
          },
          "metadata": {
            "tags": [],
            "needs_background": "light"
          }
        },
        {
          "output_type": "stream",
          "text": [
            "              precision    recall  f1-score   support\n",
            "\n",
            "         0.0       1.00      0.92      0.96       232\n",
            "         1.0       0.51      1.00      0.68        20\n",
            "\n",
            "    accuracy                           0.92       252\n",
            "   macro avg       0.76      0.96      0.82       252\n",
            "weighted avg       0.96      0.92      0.94       252\n",
            "\n"
          ],
          "name": "stdout"
        }
      ]
    },
    {
      "cell_type": "code",
      "metadata": {
        "id": "9Jv4aIF40XXG",
        "colab_type": "code",
        "colab": {
          "base_uri": "https://localhost:8080/",
          "height": 142
        },
        "outputId": "5505b882-0cbe-4dd1-b6fe-bcf23a2570bf"
      },
      "source": [
        "BF_oversampling_df = pd.DataFrame(l_final_BF)\n",
        "BF_oversampling_df"
      ],
      "execution_count": 33,
      "outputs": [
        {
          "output_type": "execute_result",
          "data": {
            "text/html": [
              "<div>\n",
              "<style scoped>\n",
              "    .dataframe tbody tr th:only-of-type {\n",
              "        vertical-align: middle;\n",
              "    }\n",
              "\n",
              "    .dataframe tbody tr th {\n",
              "        vertical-align: top;\n",
              "    }\n",
              "\n",
              "    .dataframe thead th {\n",
              "        text-align: right;\n",
              "    }\n",
              "</style>\n",
              "<table border=\"1\" class=\"dataframe\">\n",
              "  <thead>\n",
              "    <tr style=\"text-align: right;\">\n",
              "      <th></th>\n",
              "      <th>Modelo</th>\n",
              "      <th>Train_Score</th>\n",
              "      <th>Test_Score</th>\n",
              "      <th>Test_accuracy</th>\n",
              "      <th>f1score</th>\n",
              "      <th>recall-0</th>\n",
              "      <th>recall-1</th>\n",
              "      <th>precision-0</th>\n",
              "      <th>precision-1</th>\n",
              "      <th>roc_auc</th>\n",
              "    </tr>\n",
              "  </thead>\n",
              "  <tbody>\n",
              "    <tr>\n",
              "      <th>0</th>\n",
              "      <td>DecisionTreeClassifier</td>\n",
              "      <td>0.990942</td>\n",
              "      <td>0.956349</td>\n",
              "      <td>0.956349</td>\n",
              "      <td>0.775510</td>\n",
              "      <td>0.956897</td>\n",
              "      <td>0.95</td>\n",
              "      <td>0.995516</td>\n",
              "      <td>0.655172</td>\n",
              "      <td>0.953448</td>\n",
              "    </tr>\n",
              "    <tr>\n",
              "      <th>1</th>\n",
              "      <td>RandomForestClassifier</td>\n",
              "      <td>0.975543</td>\n",
              "      <td>0.956349</td>\n",
              "      <td>0.956349</td>\n",
              "      <td>0.765957</td>\n",
              "      <td>0.961207</td>\n",
              "      <td>0.90</td>\n",
              "      <td>0.991111</td>\n",
              "      <td>0.666667</td>\n",
              "      <td>0.930603</td>\n",
              "    </tr>\n",
              "    <tr>\n",
              "      <th>2</th>\n",
              "      <td>DNN</td>\n",
              "      <td>0.926630</td>\n",
              "      <td>0.924603</td>\n",
              "      <td>0.924603</td>\n",
              "      <td>0.677966</td>\n",
              "      <td>0.918103</td>\n",
              "      <td>1.00</td>\n",
              "      <td>1.000000</td>\n",
              "      <td>0.512821</td>\n",
              "      <td>0.959052</td>\n",
              "    </tr>\n",
              "  </tbody>\n",
              "</table>\n",
              "</div>"
            ],
            "text/plain": [
              "                   Modelo  Train_Score  ...  precision-1   roc_auc\n",
              "0  DecisionTreeClassifier     0.990942  ...     0.655172  0.953448\n",
              "1  RandomForestClassifier     0.975543  ...     0.666667  0.930603\n",
              "2                     DNN     0.926630  ...     0.512821  0.959052\n",
              "\n",
              "[3 rows x 10 columns]"
            ]
          },
          "metadata": {
            "tags": []
          },
          "execution_count": 33
        }
      ]
    },
    {
      "cell_type": "markdown",
      "metadata": {
        "id": "wEPkOc764SDH",
        "colab_type": "text"
      },
      "source": [
        "### Ajuste de hiperparámetros"
      ]
    },
    {
      "cell_type": "markdown",
      "metadata": {
        "id": "SeC9ICo94uZz",
        "colab_type": "text"
      },
      "source": [
        "\n",
        "Se utilizó la validación cruzada de búsqueda de cuadrícula para árboles de decisión y la validación cruzada de búsqueda aleatoria para bosque aleatorio (GridSearchCV puede tomar más tiempo) para elegir los mejores valores de parámetro"
      ]
    },
    {
      "cell_type": "code",
      "metadata": {
        "id": "2ByV3aJm4iCj",
        "colab_type": "code",
        "colab": {
          "base_uri": "https://localhost:8080/",
          "height": 102
        },
        "outputId": "787b277c-3156-4bec-b410-fcb832dcaa2c"
      },
      "source": [
        "tree = DecisionTreeClassifier()\n",
        "tree_param = {\n",
        "    'criterion':['gini','entropy'],\n",
        "    'splitter':['best','random'],  \n",
        "    'max_depth':[3,4,5,6,7],\n",
        "    'max_features':['auto','log2','sqrt'],\n",
        "    #'random_state':[123],\n",
        "    'class_weight':['balanced',None]\n",
        "}\n",
        "\n",
        "grid = GridSearchCV(tree, tree_param, cv=10)\n",
        "best_parameter_search = grid.fit(rfe_dt_df_train,y_train_s.values)\n",
        "best_parameter_search.best_params_"
      ],
      "execution_count": 34,
      "outputs": [
        {
          "output_type": "execute_result",
          "data": {
            "text/plain": [
              "{'class_weight': 'balanced',\n",
              " 'criterion': 'entropy',\n",
              " 'max_depth': 7,\n",
              " 'max_features': 'sqrt',\n",
              " 'splitter': 'best'}"
            ]
          },
          "metadata": {
            "tags": []
          },
          "execution_count": 34
        }
      ]
    },
    {
      "cell_type": "code",
      "metadata": {
        "id": "bpsU1oTc7VFq",
        "colab_type": "code",
        "colab": {
          "base_uri": "https://localhost:8080/",
          "height": 119
        },
        "outputId": "7ee68613-ab79-413c-95c8-6a9a0b248a36"
      },
      "source": [
        "rf = RandomForestClassifier()\n",
        "rf_params = {\n",
        "    'n_estimators' : range(10,100,10),\n",
        "    'max_depth' : range(2,10,1),\n",
        "    'criterion' : ['gini','entropy'],\n",
        "    'max_leaf_nodes' : range(2,10,1),\n",
        "    'max_features' : ['auto','log2','sqrt'],\n",
        "    'class_weight':['balanced',None]\n",
        "}\n",
        "\n",
        "grid = RandomizedSearchCV(rf, rf_params, cv=10)\n",
        "best_parameter_search = grid.fit(rfe_rf_df_train,y_train_s.values)\n",
        "best_parameter_search.best_params_"
      ],
      "execution_count": 35,
      "outputs": [
        {
          "output_type": "execute_result",
          "data": {
            "text/plain": [
              "{'class_weight': None,\n",
              " 'criterion': 'gini',\n",
              " 'max_depth': 7,\n",
              " 'max_features': 'log2',\n",
              " 'max_leaf_nodes': 6,\n",
              " 'n_estimators': 10}"
            ]
          },
          "metadata": {
            "tags": []
          },
          "execution_count": 35
        }
      ]
    },
    {
      "cell_type": "code",
      "metadata": {
        "colab_type": "code",
        "id": "zwBmB_0h9DqY",
        "colab": {
          "base_uri": "https://localhost:8080/",
          "height": 1000
        },
        "outputId": "3bfc7cd6-4f98-43c7-d62d-ba9612ccca8e"
      },
      "source": [
        "#@title Pruebas con los clasificadores { display-mode: \"form\" }\n",
        "l_hyper = []\n",
        "#DT = DecisionTreeClassifier(max_depth=7,criterion=\"gini\",class_weight=\"balanced\")\n",
        "DT = DecisionTreeClassifier(max_depth=7,criterion=\"gini\",class_weight=\"balanced\",splitter='best')\n",
        "RF = RandomForestClassifier(n_estimators=30,max_depth=7,criterion=\"entropy\",class_weight=\"balanced\",max_features='log2',max_leaf_nodes=7)\n",
        "predictores = ['DecisionTreeClassifier','RandomForestClassifier']\n",
        "PDs = [DT,RF]\n",
        "for i,j in enumerate(PDs):\n",
        "  print(\"Predictor: {}\".format(predictores[i]))\n",
        "  model,predic = r_model(j,predictores[i],B[i][0],ytrain_s,B[i][1],ytest)\n",
        "  l_hyper.append(model)\n",
        "  print(\"Score en test: \",model['Test_Score'])\n",
        "  print(\"Score en entrenamiento\",model['Test_accuracy'])\n",
        "  matriz_confusion(ytest, predic)\n",
        "  print(\"\\n\\n\")"
      ],
      "execution_count": 36,
      "outputs": [
        {
          "output_type": "stream",
          "text": [
            "Predictor: DecisionTreeClassifier\n",
            "Score en test:  0.9523809523809523\n",
            "Score en entrenamiento 0.9523809523809523\n"
          ],
          "name": "stdout"
        },
        {
          "output_type": "display_data",
          "data": {
            "image/png": "[encoded data removed]",
            "text/plain": [
              "<Figure size 504x288 with 2 Axes>"
            ]
          },
          "metadata": {
            "tags": [],
            "needs_background": "light"
          }
        },
        {
          "output_type": "stream",
          "text": [
            "              precision    recall  f1-score   support\n",
            "\n",
            "         0.0       1.00      0.95      0.97       232\n",
            "         1.0       0.63      0.95      0.76        20\n",
            "\n",
            "    accuracy                           0.95       252\n",
            "   macro avg       0.81      0.95      0.87       252\n",
            "weighted avg       0.97      0.95      0.96       252\n",
            "\n",
            "\n",
            "\n",
            "\n",
            "Predictor: RandomForestClassifier\n",
            "Score en test:  0.9603174603174603\n",
            "Score en entrenamiento 0.9603174603174603\n"
          ],
          "name": "stdout"
        },
        {
          "output_type": "display_data",
          "data": {
            "image/png": "[encoded data removed]",
            "text/plain": [
              "<Figure size 504x288 with 2 Axes>"
            ]
          },
          "metadata": {
            "tags": [],
            "needs_background": "light"
          }
        },
        {
          "output_type": "stream",
          "text": [
            "              precision    recall  f1-score   support\n",
            "\n",
            "         0.0       1.00      0.96      0.98       232\n",
            "         1.0       0.67      1.00      0.80        20\n",
            "\n",
            "    accuracy                           0.96       252\n",
            "   macro avg       0.83      0.98      0.89       252\n",
            "weighted avg       0.97      0.96      0.96       252\n",
            "\n",
            "\n",
            "\n",
            "\n"
          ],
          "name": "stdout"
        }
      ]
    },
    {
      "cell_type": "code",
      "metadata": {
        "id": "u9Ur3TFa-HcS",
        "colab_type": "code",
        "colab": {}
      },
      "source": [
        "l_hyper.append(l_final_BF[2])"
      ],
      "execution_count": 37,
      "outputs": []
    },
    {
      "cell_type": "code",
      "metadata": {
        "id": "ldatGcm6-Sts",
        "colab_type": "code",
        "colab": {
          "base_uri": "https://localhost:8080/",
          "height": 142
        },
        "outputId": "623dfc1b-b608-4b53-d705-867d0b2db398"
      },
      "source": [
        "HBF_oversampling_df = pd.DataFrame(l_hyper)\n",
        "HBF_oversampling_df"
      ],
      "execution_count": 38,
      "outputs": [
        {
          "output_type": "execute_result",
          "data": {
            "text/html": [
              "<div>\n",
              "<style scoped>\n",
              "    .dataframe tbody tr th:only-of-type {\n",
              "        vertical-align: middle;\n",
              "    }\n",
              "\n",
              "    .dataframe tbody tr th {\n",
              "        vertical-align: top;\n",
              "    }\n",
              "\n",
              "    .dataframe thead th {\n",
              "        text-align: right;\n",
              "    }\n",
              "</style>\n",
              "<table border=\"1\" class=\"dataframe\">\n",
              "  <thead>\n",
              "    <tr style=\"text-align: right;\">\n",
              "      <th></th>\n",
              "      <th>Modelo</th>\n",
              "      <th>Train_Score</th>\n",
              "      <th>Test_Score</th>\n",
              "      <th>Test_accuracy</th>\n",
              "      <th>f1score</th>\n",
              "      <th>recall-0</th>\n",
              "      <th>recall-1</th>\n",
              "      <th>precision-0</th>\n",
              "      <th>precision-1</th>\n",
              "      <th>roc_auc</th>\n",
              "    </tr>\n",
              "  </thead>\n",
              "  <tbody>\n",
              "    <tr>\n",
              "      <th>0</th>\n",
              "      <td>DecisionTreeClassifier</td>\n",
              "      <td>0.990942</td>\n",
              "      <td>0.952381</td>\n",
              "      <td>0.952381</td>\n",
              "      <td>0.760000</td>\n",
              "      <td>0.952586</td>\n",
              "      <td>0.95</td>\n",
              "      <td>0.995495</td>\n",
              "      <td>0.633333</td>\n",
              "      <td>0.951293</td>\n",
              "    </tr>\n",
              "    <tr>\n",
              "      <th>1</th>\n",
              "      <td>RandomForestClassifier</td>\n",
              "      <td>0.901268</td>\n",
              "      <td>0.960317</td>\n",
              "      <td>0.960317</td>\n",
              "      <td>0.800000</td>\n",
              "      <td>0.956897</td>\n",
              "      <td>1.00</td>\n",
              "      <td>1.000000</td>\n",
              "      <td>0.666667</td>\n",
              "      <td>0.978448</td>\n",
              "    </tr>\n",
              "    <tr>\n",
              "      <th>2</th>\n",
              "      <td>DNN</td>\n",
              "      <td>0.926630</td>\n",
              "      <td>0.924603</td>\n",
              "      <td>0.924603</td>\n",
              "      <td>0.677966</td>\n",
              "      <td>0.918103</td>\n",
              "      <td>1.00</td>\n",
              "      <td>1.000000</td>\n",
              "      <td>0.512821</td>\n",
              "      <td>0.959052</td>\n",
              "    </tr>\n",
              "  </tbody>\n",
              "</table>\n",
              "</div>"
            ],
            "text/plain": [
              "                   Modelo  Train_Score  ...  precision-1   roc_auc\n",
              "0  DecisionTreeClassifier     0.990942  ...     0.633333  0.951293\n",
              "1  RandomForestClassifier     0.901268  ...     0.666667  0.978448\n",
              "2                     DNN     0.926630  ...     0.512821  0.959052\n",
              "\n",
              "[3 rows x 10 columns]"
            ]
          },
          "metadata": {
            "tags": []
          },
          "execution_count": 38
        }
      ]
    },
    {
      "cell_type": "markdown",
      "metadata": {
        "id": "t0kKPkzudGCk",
        "colab_type": "text"
      },
      "source": [
        "##Sólo con \tSchiller"
      ]
    },
    {
      "cell_type": "code",
      "metadata": {
        "id": "teG6Q5cldFbl",
        "colab_type": "code",
        "colab": {}
      },
      "source": [
        "rfe_shiller = ['Schiller']\n",
        "x_train_s = pd.DataFrame(Xtrain_s, columns = X.columns)\n",
        "y_train_Shiller = pd.DataFrame(ytrain_s, columns = ['Biopsy'])\n",
        "x_test = pd.DataFrame(Xtest, columns=X.columns)\n",
        "\n",
        "Shiller_train = x_train_s[rfe_shiller]\n",
        "Shiller_test = x_test[rfe_shiller]\n",
        "\n",
        "B = [(Shiller_train,Shiller_test)]"
      ],
      "execution_count": 39,
      "outputs": []
    },
    {
      "cell_type": "code",
      "metadata": {
        "colab_type": "code",
        "id": "cwj7IhkAfEeg",
        "colab": {
          "base_uri": "https://localhost:8080/",
          "height": 1000
        },
        "outputId": "c06297e3-a10a-42c2-a01e-c29497c2558c"
      },
      "source": [
        "#@title Pruebas con los clasificadores { display-mode: \"form\" }\n",
        "shiller = []\n",
        "DT = DecisionTreeClassifier(max_depth=7,criterion=\"gini\",class_weight=\"balanced\",splitter='best')\n",
        "RF = RandomForestClassifier(n_estimators=30,max_depth=7,criterion=\"entropy\",class_weight=\"balanced\",max_features='log2',max_leaf_nodes=7)\n",
        "predictores = ['DecisionTreeClassifier','RandomForestClassifier']\n",
        "PDs = [DT,RF]\n",
        "for i,j in enumerate(PDs):\n",
        "  print(\"Predictor: {}\".format(predictores[i]))\n",
        "  model,predic = r_model(j,predictores[i],Shiller_train,y_train_Shiller,Shiller_test,ytest)\n",
        "  shiller.append(model)\n",
        "  print(\"Score en test: \",model['Test_Score'])\n",
        "  print(\"Score en entrenamiento\",model['Test_accuracy'])\n",
        "  matriz_confusion(ytest, predic)\n",
        "  print(\"\\n\\n\")"
      ],
      "execution_count": 40,
      "outputs": [
        {
          "output_type": "stream",
          "text": [
            "Predictor: DecisionTreeClassifier\n",
            "Score en test:  0.9642857142857143\n",
            "Score en entrenamiento 0.9642857142857143\n"
          ],
          "name": "stdout"
        },
        {
          "output_type": "display_data",
          "data": {
            "image/png": "[encoded data removed]",
            "text/plain": [
              "<Figure size 504x288 with 2 Axes>"
            ]
          },
          "metadata": {
            "tags": [],
            "needs_background": "light"
          }
        },
        {
          "output_type": "stream",
          "text": [
            "              precision    recall  f1-score   support\n",
            "\n",
            "         0.0       1.00      0.96      0.98       232\n",
            "         1.0       0.69      1.00      0.82        20\n",
            "\n",
            "    accuracy                           0.96       252\n",
            "   macro avg       0.84      0.98      0.90       252\n",
            "weighted avg       0.98      0.96      0.97       252\n",
            "\n",
            "\n",
            "\n",
            "\n",
            "Predictor: RandomForestClassifier\n",
            "Score en test:  0.9642857142857143\n",
            "Score en entrenamiento 0.9642857142857143\n"
          ],
          "name": "stdout"
        },
        {
          "output_type": "display_data",
          "data": {
            "image/png": "[encoded data removed]",
            "text/plain": [
              "<Figure size 504x288 with 2 Axes>"
            ]
          },
          "metadata": {
            "tags": [],
            "needs_background": "light"
          }
        },
        {
          "output_type": "stream",
          "text": [
            "              precision    recall  f1-score   support\n",
            "\n",
            "         0.0       1.00      0.96      0.98       232\n",
            "         1.0       0.69      1.00      0.82        20\n",
            "\n",
            "    accuracy                           0.96       252\n",
            "   macro avg       0.84      0.98      0.90       252\n",
            "weighted avg       0.98      0.96      0.97       252\n",
            "\n",
            "\n",
            "\n",
            "\n"
          ],
          "name": "stdout"
        }
      ]
    },
    {
      "cell_type": "code",
      "metadata": {
        "id": "bkEg4u1eoCgK",
        "colab_type": "code",
        "colab": {
          "base_uri": "https://localhost:8080/"
        },
        "outputId": "a3bcdffa-3eee-4971-9cde-506968963c8c"
      },
      "source": [
        "df_shiller = pd.DataFrame(shiller)\n",
        "df_shiller"
      ],
      "execution_count": null,
      "outputs": [
        {
          "output_type": "execute_result",
          "data": {
            "text/html": [
              "<div>\n",
              "<style scoped>\n",
              "    .dataframe tbody tr th:only-of-type {\n",
              "        vertical-align: middle;\n",
              "    }\n",
              "\n",
              "    .dataframe tbody tr th {\n",
              "        vertical-align: top;\n",
              "    }\n",
              "\n",
              "    .dataframe thead th {\n",
              "        text-align: right;\n",
              "    }\n",
              "</style>\n",
              "<table border=\"1\" class=\"dataframe\">\n",
              "  <thead>\n",
              "    <tr style=\"text-align: right;\">\n",
              "      <th></th>\n",
              "      <th>Modelo</th>\n",
              "      <th>Train_Score</th>\n",
              "      <th>Test_Score</th>\n",
              "      <th>Test_accuracy</th>\n",
              "      <th>f1score</th>\n",
              "      <th>recall-0</th>\n",
              "      <th>recall-1</th>\n",
              "      <th>precision-0</th>\n",
              "      <th>precision-1</th>\n",
              "      <th>roc_auc</th>\n",
              "    </tr>\n",
              "  </thead>\n",
              "  <tbody>\n",
              "    <tr>\n",
              "      <th>0</th>\n",
              "      <td>DecisionTreeClassifier</td>\n",
              "      <td>0.871377</td>\n",
              "      <td>0.964286</td>\n",
              "      <td>0.964286</td>\n",
              "      <td>0.816327</td>\n",
              "      <td>0.961207</td>\n",
              "      <td>1.0</td>\n",
              "      <td>1.0</td>\n",
              "      <td>0.689655</td>\n",
              "      <td>0.980603</td>\n",
              "    </tr>\n",
              "    <tr>\n",
              "      <th>1</th>\n",
              "      <td>RandomForestClassifier</td>\n",
              "      <td>0.871377</td>\n",
              "      <td>0.964286</td>\n",
              "      <td>0.964286</td>\n",
              "      <td>0.816327</td>\n",
              "      <td>0.961207</td>\n",
              "      <td>1.0</td>\n",
              "      <td>1.0</td>\n",
              "      <td>0.689655</td>\n",
              "      <td>0.980603</td>\n",
              "    </tr>\n",
              "  </tbody>\n",
              "</table>\n",
              "</div>"
            ],
            "text/plain": [
              "                   Modelo  Train_Score  ...  precision-1   roc_auc\n",
              "0  DecisionTreeClassifier     0.871377  ...     0.689655  0.980603\n",
              "1  RandomForestClassifier     0.871377  ...     0.689655  0.980603\n",
              "\n",
              "[2 rows x 10 columns]"
            ]
          },
          "metadata": {
            "tags": []
          },
          "execution_count": 32
        }
      ]
    },
    {
      "cell_type": "markdown",
      "metadata": {
        "id": "RSiP45cUhyT5",
        "colab_type": "text"
      },
      "source": [
        "##Sólo con Hinselmann"
      ]
    },
    {
      "cell_type": "code",
      "metadata": {
        "id": "zmByPKcFltXE",
        "colab_type": "code",
        "colab": {}
      },
      "source": [
        "rfe_Hinselmann = ['Hinselmann']\n",
        "x_train_s = pd.DataFrame(Xtrain_s, columns = X.columns)\n",
        "y_train_s = pd.DataFrame(ytrain_s, columns = ['Biopsy'])\n",
        "x_test = pd.DataFrame(Xtest, columns=X.columns)\n",
        "\n",
        "Hinselmann_train = x_train_s[rfe_Hinselmann]\n",
        "Hinselmann_test = x_test[rfe_Hinselmann]"
      ],
      "execution_count": 41,
      "outputs": []
    },
    {
      "cell_type": "code",
      "metadata": {
        "colab_type": "code",
        "id": "4OMLHzeYn44h",
        "colab": {
          "base_uri": "https://localhost:8080/",
          "height": 0
        },
        "outputId": "f4b72160-68db-475d-ccae-dafa3e5481be"
      },
      "source": [
        "#@title Pruebas con los clasificadores { display-mode: \"form\" }\n",
        "Hinselmann = []\n",
        "DT = DecisionTreeClassifier(max_depth=7,criterion=\"gini\",class_weight=\"balanced\",splitter='best')\n",
        "RF = RandomForestClassifier(n_estimators=30,max_depth=7,criterion=\"entropy\",class_weight=\"balanced\",max_features='log2',max_leaf_nodes=7)\n",
        "predictores = ['DecisionTreeClassifier','RandomForestClassifier']\n",
        "PDs = [DT,RF]\n",
        "for i,j in enumerate(PDs):\n",
        "  print(\"Predictor: {}\".format(predictores[i]))\n",
        "  model,predic = r_model(j,predictores[i],Hinselmann_train,y_train_s,Hinselmann_test,ytest)\n",
        "  Hinselmann.append(model)\n",
        "  print(\"Score en test: \",model['Test_Score'])\n",
        "  print(\"Score en entrenamiento\",model['Test_accuracy'])\n",
        "  matriz_confusion(ytest, predic)\n",
        "  print(\"\\n\\n\")"
      ],
      "execution_count": 42,
      "outputs": [
        {
          "output_type": "stream",
          "text": [
            "Predictor: DecisionTreeClassifier\n",
            "Score en test:  0.9404761904761905\n",
            "Score en entrenamiento 0.9404761904761905\n"
          ],
          "name": "stdout"
        },
        {
          "output_type": "display_data",
          "data": {
            "image/png": "[encoded data removed]",
            "text/plain": [
              "<Figure size 504x288 with 2 Axes>"
            ]
          },
          "metadata": {
            "tags": [],
            "needs_background": "light"
          }
        },
        {
          "output_type": "stream",
          "text": [
            "              precision    recall  f1-score   support\n",
            "\n",
            "         0.0       0.96      0.97      0.97       232\n",
            "         1.0       0.65      0.55      0.59        20\n",
            "\n",
            "    accuracy                           0.94       252\n",
            "   macro avg       0.80      0.76      0.78       252\n",
            "weighted avg       0.94      0.94      0.94       252\n",
            "\n",
            "\n",
            "\n",
            "\n",
            "Predictor: RandomForestClassifier\n",
            "Score en test:  0.9404761904761905\n",
            "Score en entrenamiento 0.9404761904761905\n"
          ],
          "name": "stdout"
        },
        {
          "output_type": "display_data",
          "data": {
            "image/png": "[encoded data removed]",
            "text/plain": [
              "<Figure size 504x288 with 2 Axes>"
            ]
          },
          "metadata": {
            "tags": [],
            "needs_background": "light"
          }
        },
        {
          "output_type": "stream",
          "text": [
            "              precision    recall  f1-score   support\n",
            "\n",
            "         0.0       0.96      0.97      0.97       232\n",
            "         1.0       0.65      0.55      0.59        20\n",
            "\n",
            "    accuracy                           0.94       252\n",
            "   macro avg       0.80      0.76      0.78       252\n",
            "weighted avg       0.94      0.94      0.94       252\n",
            "\n",
            "\n",
            "\n",
            "\n"
          ],
          "name": "stdout"
        }
      ]
    },
    {
      "cell_type": "code",
      "metadata": {
        "id": "vKDP60pCq5jN",
        "colab_type": "code",
        "colab": {
          "base_uri": "https://localhost:8080/",
          "height": 0
        },
        "outputId": "df48f9f7-0af1-46f9-fd91-013fdc165a74"
      },
      "source": [
        "df_Hinselmann = pd.DataFrame(Hinselmann)\n",
        "df_Hinselmann"
      ],
      "execution_count": 43,
      "outputs": [
        {
          "output_type": "execute_result",
          "data": {
            "text/html": [
              "<div>\n",
              "<style scoped>\n",
              "    .dataframe tbody tr th:only-of-type {\n",
              "        vertical-align: middle;\n",
              "    }\n",
              "\n",
              "    .dataframe tbody tr th {\n",
              "        vertical-align: top;\n",
              "    }\n",
              "\n",
              "    .dataframe thead th {\n",
              "        text-align: right;\n",
              "    }\n",
              "</style>\n",
              "<table border=\"1\" class=\"dataframe\">\n",
              "  <thead>\n",
              "    <tr style=\"text-align: right;\">\n",
              "      <th></th>\n",
              "      <th>Modelo</th>\n",
              "      <th>Train_Score</th>\n",
              "      <th>Test_Score</th>\n",
              "      <th>Test_accuracy</th>\n",
              "      <th>f1score</th>\n",
              "      <th>recall-0</th>\n",
              "      <th>recall-1</th>\n",
              "      <th>precision-0</th>\n",
              "      <th>precision-1</th>\n",
              "      <th>roc_auc</th>\n",
              "    </tr>\n",
              "  </thead>\n",
              "  <tbody>\n",
              "    <tr>\n",
              "      <th>0</th>\n",
              "      <td>DecisionTreeClassifier</td>\n",
              "      <td>0.678442</td>\n",
              "      <td>0.940476</td>\n",
              "      <td>0.940476</td>\n",
              "      <td>0.594595</td>\n",
              "      <td>0.974138</td>\n",
              "      <td>0.55</td>\n",
              "      <td>0.961702</td>\n",
              "      <td>0.647059</td>\n",
              "      <td>0.762069</td>\n",
              "    </tr>\n",
              "    <tr>\n",
              "      <th>1</th>\n",
              "      <td>RandomForestClassifier</td>\n",
              "      <td>0.678442</td>\n",
              "      <td>0.940476</td>\n",
              "      <td>0.940476</td>\n",
              "      <td>0.594595</td>\n",
              "      <td>0.974138</td>\n",
              "      <td>0.55</td>\n",
              "      <td>0.961702</td>\n",
              "      <td>0.647059</td>\n",
              "      <td>0.762069</td>\n",
              "    </tr>\n",
              "  </tbody>\n",
              "</table>\n",
              "</div>"
            ],
            "text/plain": [
              "                   Modelo  Train_Score  ...  precision-1   roc_auc\n",
              "0  DecisionTreeClassifier     0.678442  ...     0.647059  0.762069\n",
              "1  RandomForestClassifier     0.678442  ...     0.647059  0.762069\n",
              "\n",
              "[2 rows x 10 columns]"
            ]
          },
          "metadata": {
            "tags": []
          },
          "execution_count": 43
        }
      ]
    },
    {
      "cell_type": "markdown",
      "metadata": {
        "colab_type": "text",
        "id": "5-sh306gU-ER"
      },
      "source": [
        "##Con \tSchiller y Hinselman"
      ]
    },
    {
      "cell_type": "code",
      "metadata": {
        "colab_type": "code",
        "id": "ogYUa_vsU-EW",
        "colab": {}
      },
      "source": [
        "rfe_shi_hin = ['Schiller','Hinselmann']\n",
        "x_train_s = pd.DataFrame(Xtrain_s, columns = X.columns)\n",
        "y_train_SH = pd.DataFrame(ytrain_s, columns = ['Biopsy'])\n",
        "x_test = pd.DataFrame(Xtest, columns=X.columns)\n",
        "\n",
        "SH_train = x_train_s[rfe_shi_hin]\n",
        "SH_test = x_test[rfe_shi_hin]\n"
      ],
      "execution_count": 44,
      "outputs": []
    },
    {
      "cell_type": "code",
      "metadata": {
        "colab_type": "code",
        "id": "PuW_F__EU-Em",
        "colab": {
          "base_uri": "https://localhost:8080/",
          "height": 0
        },
        "outputId": "707bf9dd-d915-4fef-a183-fcb8763ea844"
      },
      "source": [
        "#@title Pruebas con los clasificadores { display-mode: \"form\" }\n",
        "shiller = []\n",
        "DT = DecisionTreeClassifier(max_depth=7,criterion=\"gini\",class_weight=\"balanced\",splitter='best')\n",
        "RF = RandomForestClassifier(n_estimators=30,max_depth=7,criterion=\"entropy\",class_weight=\"balanced\",max_features='log2',max_leaf_nodes=7)\n",
        "predictores = ['DecisionTreeClassifier','RandomForestClassifier']\n",
        "PDs = [DT,RF]\n",
        "for i,j in enumerate(PDs):\n",
        "  print(\"Predictor: {}\".format(predictores[i]))\n",
        "  model,predic = r_model(j,predictores[i],SH_train,y_train_SH,SH_test,ytest)\n",
        "  shiller.append(model)\n",
        "  print(\"Score en test: \",model['Test_Score'])\n",
        "  print(\"Score en entrenamiento\",model['Test_accuracy'])\n",
        "  matriz_confusion(ytest, predic)\n",
        "  print(\"\\n\\n\")"
      ],
      "execution_count": 45,
      "outputs": [
        {
          "output_type": "stream",
          "text": [
            "Predictor: DecisionTreeClassifier\n",
            "Score en test:  0.9642857142857143\n",
            "Score en entrenamiento 0.9642857142857143\n"
          ],
          "name": "stdout"
        },
        {
          "output_type": "display_data",
          "data": {
            "image/png": "[encoded data removed]",
            "text/plain": [
              "<Figure size 504x288 with 2 Axes>"
            ]
          },
          "metadata": {
            "tags": [],
            "needs_background": "light"
          }
        },
        {
          "output_type": "stream",
          "text": [
            "              precision    recall  f1-score   support\n",
            "\n",
            "         0.0       1.00      0.96      0.98       232\n",
            "         1.0       0.69      1.00      0.82        20\n",
            "\n",
            "    accuracy                           0.96       252\n",
            "   macro avg       0.84      0.98      0.90       252\n",
            "weighted avg       0.98      0.96      0.97       252\n",
            "\n",
            "\n",
            "\n",
            "\n",
            "Predictor: RandomForestClassifier\n",
            "Score en test:  0.9642857142857143\n",
            "Score en entrenamiento 0.9642857142857143\n"
          ],
          "name": "stdout"
        },
        {
          "output_type": "display_data",
          "data": {
            "image/png": "[encoded data removed]",
            "text/plain": [
              "<Figure size 504x288 with 2 Axes>"
            ]
          },
          "metadata": {
            "tags": [],
            "needs_background": "light"
          }
        },
        {
          "output_type": "stream",
          "text": [
            "              precision    recall  f1-score   support\n",
            "\n",
            "         0.0       1.00      0.96      0.98       232\n",
            "         1.0       0.69      1.00      0.82        20\n",
            "\n",
            "    accuracy                           0.96       252\n",
            "   macro avg       0.84      0.98      0.90       252\n",
            "weighted avg       0.98      0.96      0.97       252\n",
            "\n",
            "\n",
            "\n",
            "\n"
          ],
          "name": "stdout"
        }
      ]
    },
    {
      "cell_type": "code",
      "metadata": {
        "colab_type": "code",
        "id": "ZpiARpCTU-Ez",
        "colab": {
          "base_uri": "https://localhost:8080/",
          "height": 0
        },
        "outputId": "c4a810e5-689e-4a42-ce49-d93d6432796c"
      },
      "source": [
        "df_shiller = pd.DataFrame(shiller)\n",
        "df_shiller"
      ],
      "execution_count": 46,
      "outputs": [
        {
          "output_type": "execute_result",
          "data": {
            "text/html": [
              "<div>\n",
              "<style scoped>\n",
              "    .dataframe tbody tr th:only-of-type {\n",
              "        vertical-align: middle;\n",
              "    }\n",
              "\n",
              "    .dataframe tbody tr th {\n",
              "        vertical-align: top;\n",
              "    }\n",
              "\n",
              "    .dataframe thead th {\n",
              "        text-align: right;\n",
              "    }\n",
              "</style>\n",
              "<table border=\"1\" class=\"dataframe\">\n",
              "  <thead>\n",
              "    <tr style=\"text-align: right;\">\n",
              "      <th></th>\n",
              "      <th>Modelo</th>\n",
              "      <th>Train_Score</th>\n",
              "      <th>Test_Score</th>\n",
              "      <th>Test_accuracy</th>\n",
              "      <th>f1score</th>\n",
              "      <th>recall-0</th>\n",
              "      <th>recall-1</th>\n",
              "      <th>precision-0</th>\n",
              "      <th>precision-1</th>\n",
              "      <th>roc_auc</th>\n",
              "    </tr>\n",
              "  </thead>\n",
              "  <tbody>\n",
              "    <tr>\n",
              "      <th>0</th>\n",
              "      <td>DecisionTreeClassifier</td>\n",
              "      <td>0.871377</td>\n",
              "      <td>0.964286</td>\n",
              "      <td>0.964286</td>\n",
              "      <td>0.816327</td>\n",
              "      <td>0.961207</td>\n",
              "      <td>1.0</td>\n",
              "      <td>1.0</td>\n",
              "      <td>0.689655</td>\n",
              "      <td>0.980603</td>\n",
              "    </tr>\n",
              "    <tr>\n",
              "      <th>1</th>\n",
              "      <td>RandomForestClassifier</td>\n",
              "      <td>0.871377</td>\n",
              "      <td>0.964286</td>\n",
              "      <td>0.964286</td>\n",
              "      <td>0.816327</td>\n",
              "      <td>0.961207</td>\n",
              "      <td>1.0</td>\n",
              "      <td>1.0</td>\n",
              "      <td>0.689655</td>\n",
              "      <td>0.980603</td>\n",
              "    </tr>\n",
              "  </tbody>\n",
              "</table>\n",
              "</div>"
            ],
            "text/plain": [
              "                   Modelo  Train_Score  ...  precision-1   roc_auc\n",
              "0  DecisionTreeClassifier     0.871377  ...     0.689655  0.980603\n",
              "1  RandomForestClassifier     0.871377  ...     0.689655  0.980603\n",
              "\n",
              "[2 rows x 10 columns]"
            ]
          },
          "metadata": {
            "tags": []
          },
          "execution_count": 46
        }
      ]
    },
    {
      "cell_type": "markdown",
      "metadata": {
        "id": "iA65Ip9r2kq2",
        "colab_type": "text"
      },
      "source": [
        "##Sin Hinselmann y Shiller"
      ]
    },
    {
      "cell_type": "code",
      "metadata": {
        "id": "dMBt3NCY2emM",
        "colab_type": "code",
        "colab": {}
      },
      "source": [
        "d1 = ['Age', 'No_of_sex_partner', 'First_sexual_intercourse',\n",
        "       'No_pregnancies', 'Smokes_yrs', 'Hormonal_Contraceptives_years',\n",
        "       'IUD_years', 'STDs_HIV', 'Dx', 'Citology']\n",
        "d2 = ['Age', 'No_of_sex_partner', 'First_sexual_intercourse',\n",
        "        'No_pregnancies', 'Smokes_yrs', 'Hormonal_Contraceptives_years',\n",
        "        'IUD_years', 'Citology']\n",
        "x_train_s = pd.DataFrame(Xtrain_s, columns = X.columns)\n",
        "y_train_s = pd.DataFrame(ytrain_s, columns = ['Biopsy'])\n",
        "x_test = pd.DataFrame(Xtest, columns=X.columns)\n",
        "\n",
        "dt_df_train = x_train_s[d1]\n",
        "dt_df_test = x_test[d1]\n",
        "rf_df_train = x_train_s[d2]\n",
        "rf_df_test = x_test[d2]\n",
        "\n",
        "B = [(dt_df_train,dt_df_test),(rf_df_train,rf_df_test)]"
      ],
      "execution_count": 47,
      "outputs": []
    },
    {
      "cell_type": "code",
      "metadata": {
        "colab_type": "code",
        "id": "J6cn4nMJ22pr",
        "colab": {
          "base_uri": "https://localhost:8080/",
          "height": 0
        },
        "outputId": "8f4acd5b-df51-4141-a404-25194bbb2e61"
      },
      "source": [
        "#@title Pruebas con los clasificadores { display-mode: \"form\" }\n",
        "Hinselmann = []\n",
        "DT = DecisionTreeClassifier(max_depth=7,criterion=\"gini\",class_weight=\"balanced\",splitter='best')\n",
        "RF = RandomForestClassifier(n_estimators=30,max_depth=7,criterion=\"entropy\",class_weight=\"balanced\",max_features='log2',max_leaf_nodes=7)\n",
        "predictores = ['DecisionTreeClassifier','RandomForestClassifier']\n",
        "PDs = [DT,RF]\n",
        "for i,j in enumerate(PDs):\n",
        "  print(\"Predictor: {}\".format(predictores[i]))\n",
        "  model,predic = r_model(j,predictores[i],B[i][0],y_train_s,B[i][1],ytest)\n",
        "  Hinselmann.append(model)\n",
        "  print(\"Score en test: \",model['Test_Score'])\n",
        "  print(\"Score en entrenamiento\",model['Test_accuracy'])\n",
        "  matriz_confusion(ytest, predic)\n",
        "  print(\"\\n\\n\")"
      ],
      "execution_count": 48,
      "outputs": [
        {
          "output_type": "stream",
          "text": [
            "Predictor: DecisionTreeClassifier\n",
            "Score en test:  0.8849206349206349\n",
            "Score en entrenamiento 0.8849206349206349\n"
          ],
          "name": "stdout"
        },
        {
          "output_type": "display_data",
          "data": {
            "image/png": "[encoded data removed]",
            "text/plain": [
              "<Figure size 504x288 with 2 Axes>"
            ]
          },
          "metadata": {
            "tags": [],
            "needs_background": "light"
          }
        },
        {
          "output_type": "stream",
          "text": [
            "              precision    recall  f1-score   support\n",
            "\n",
            "         0.0       0.94      0.93      0.94       232\n",
            "         1.0       0.30      0.35      0.33        20\n",
            "\n",
            "    accuracy                           0.88       252\n",
            "   macro avg       0.62      0.64      0.63       252\n",
            "weighted avg       0.89      0.88      0.89       252\n",
            "\n",
            "\n",
            "\n",
            "\n",
            "Predictor: RandomForestClassifier\n",
            "Score en test:  0.8849206349206349\n",
            "Score en entrenamiento 0.8849206349206349\n"
          ],
          "name": "stdout"
        },
        {
          "output_type": "display_data",
          "data": {
            "image/png": "[encoded data removed]",
            "text/plain": [
              "<Figure size 504x288 with 2 Axes>"
            ]
          },
          "metadata": {
            "tags": [],
            "needs_background": "light"
          }
        },
        {
          "output_type": "stream",
          "text": [
            "              precision    recall  f1-score   support\n",
            "\n",
            "         0.0       0.94      0.93      0.94       232\n",
            "         1.0       0.30      0.35      0.33        20\n",
            "\n",
            "    accuracy                           0.88       252\n",
            "   macro avg       0.62      0.64      0.63       252\n",
            "weighted avg       0.89      0.88      0.89       252\n",
            "\n",
            "\n",
            "\n",
            "\n"
          ],
          "name": "stdout"
        }
      ]
    },
    {
      "cell_type": "code",
      "metadata": {
        "id": "6hbg4lgk25Ix",
        "colab_type": "code",
        "colab": {
          "base_uri": "https://localhost:8080/",
          "height": 0
        },
        "outputId": "2be1c159-69ba-4a40-8b77-77d04d82d449"
      },
      "source": [
        "df_Hinselmann = pd.DataFrame(Hinselmann)\n",
        "df_Hinselmann"
      ],
      "execution_count": 49,
      "outputs": [
        {
          "output_type": "execute_result",
          "data": {
            "text/html": [
              "<div>\n",
              "<style scoped>\n",
              "    .dataframe tbody tr th:only-of-type {\n",
              "        vertical-align: middle;\n",
              "    }\n",
              "\n",
              "    .dataframe tbody tr th {\n",
              "        vertical-align: top;\n",
              "    }\n",
              "\n",
              "    .dataframe thead th {\n",
              "        text-align: right;\n",
              "    }\n",
              "</style>\n",
              "<table border=\"1\" class=\"dataframe\">\n",
              "  <thead>\n",
              "    <tr style=\"text-align: right;\">\n",
              "      <th></th>\n",
              "      <th>Modelo</th>\n",
              "      <th>Train_Score</th>\n",
              "      <th>Test_Score</th>\n",
              "      <th>Test_accuracy</th>\n",
              "      <th>f1score</th>\n",
              "      <th>recall-0</th>\n",
              "      <th>recall-1</th>\n",
              "      <th>precision-0</th>\n",
              "      <th>precision-1</th>\n",
              "      <th>roc_auc</th>\n",
              "    </tr>\n",
              "  </thead>\n",
              "  <tbody>\n",
              "    <tr>\n",
              "      <th>0</th>\n",
              "      <td>DecisionTreeClassifier</td>\n",
              "      <td>0.868659</td>\n",
              "      <td>0.884921</td>\n",
              "      <td>0.884921</td>\n",
              "      <td>0.325581</td>\n",
              "      <td>0.931034</td>\n",
              "      <td>0.35</td>\n",
              "      <td>0.943231</td>\n",
              "      <td>0.304348</td>\n",
              "      <td>0.640517</td>\n",
              "    </tr>\n",
              "    <tr>\n",
              "      <th>1</th>\n",
              "      <td>RandomForestClassifier</td>\n",
              "      <td>0.788043</td>\n",
              "      <td>0.884921</td>\n",
              "      <td>0.884921</td>\n",
              "      <td>0.325581</td>\n",
              "      <td>0.931034</td>\n",
              "      <td>0.35</td>\n",
              "      <td>0.943231</td>\n",
              "      <td>0.304348</td>\n",
              "      <td>0.640517</td>\n",
              "    </tr>\n",
              "  </tbody>\n",
              "</table>\n",
              "</div>"
            ],
            "text/plain": [
              "                   Modelo  Train_Score  ...  precision-1   roc_auc\n",
              "0  DecisionTreeClassifier     0.868659  ...     0.304348  0.640517\n",
              "1  RandomForestClassifier     0.788043  ...     0.304348  0.640517\n",
              "\n",
              "[2 rows x 10 columns]"
            ]
          },
          "metadata": {
            "tags": []
          },
          "execution_count": 49
        }
      ]
    },
    {
      "cell_type": "markdown",
      "metadata": {
        "colab_type": "text",
        "id": "sAUPZ54UQr3j"
      },
      "source": [
        "##Sin Shiller"
      ]
    },
    {
      "cell_type": "code",
      "metadata": {
        "id": "2RKp5Z3LQzRT",
        "colab_type": "code",
        "colab": {}
      },
      "source": [
        "d1 = ['Age', 'First_sexual_intercourse', 'No_pregnancies',\n",
        "        'Hormonal_Contraceptives_years', 'Hinselmann', 'Citology']\n",
        "\n",
        "d2 = ['Age', 'No_of_sex_partner', 'First_sexual_intercourse',\n",
        "       'Hormonal_Contraceptives_years', 'Hinselmann', 'Citology']\n",
        "\n",
        "x_train_s = pd.DataFrame(Xtrain_s, columns = X.columns)\n",
        "y_train_s = pd.DataFrame(ytrain_s, columns = ['Biopsy'])\n",
        "x_test = pd.DataFrame(Xtest, columns=X.columns)\n",
        "\n",
        "dt_df_train = x_train_s[d1]\n",
        "dt_df_test = x_test[d1]\n",
        "rf_df_train = x_train_s[d2]\n",
        "rf_df_test = x_test[d2]\n",
        "\n",
        "B = [(dt_df_train,dt_df_test),(rf_df_train,rf_df_test)]"
      ],
      "execution_count": 50,
      "outputs": []
    },
    {
      "cell_type": "code",
      "metadata": {
        "colab_type": "code",
        "id": "p98z3cAvQ2sd",
        "colab": {
          "base_uri": "https://localhost:8080/",
          "height": 1000
        },
        "outputId": "7d6d4c60-2ea0-48db-8339-245349fe9ab2"
      },
      "source": [
        "#@title Pruebas con los clasificadores { display-mode: \"form\" }\n",
        "Hinselmann = []\n",
        "DT = DecisionTreeClassifier(max_depth=7,criterion=\"gini\",class_weight=\"balanced\",max_features='auto',random_state=123,splitter='best')\n",
        "RF = RandomForestClassifier(n_estimators=30,max_depth=7,criterion=\"entropy\",class_weight=\"balanced\",max_features='log2',max_leaf_nodes=7)\n",
        "predictores = ['DecisionTreeClassifier','RandomForestClassifier']\n",
        "PDs = [DT,RF]\n",
        "for i,j in enumerate(PDs):\n",
        "  print(\"Predictor: {}\".format(predictores[i]))\n",
        "  model,predic = r_model(j,predictores[i],B[i][0],y_train_s,B[i][1],ytest)\n",
        "  Hinselmann.append(model)\n",
        "  print(\"Score en test: \",model['Test_Score'])\n",
        "  print(\"Score en entrenamiento\",model['Test_accuracy'])\n",
        "  matriz_confusion(ytest, predic)\n",
        "  print(\"\\n\\n\")"
      ],
      "execution_count": 51,
      "outputs": [
        {
          "output_type": "stream",
          "text": [
            "Predictor: DecisionTreeClassifier\n",
            "Score en test:  0.9404761904761905\n",
            "Score en entrenamiento 0.9404761904761905\n"
          ],
          "name": "stdout"
        },
        {
          "output_type": "display_data",
          "data": {
            "image/png": "[encoded data removed]",
            "text/plain": [
              "<Figure size 504x288 with 2 Axes>"
            ]
          },
          "metadata": {
            "tags": [],
            "needs_background": "light"
          }
        },
        {
          "output_type": "stream",
          "text": [
            "              precision    recall  f1-score   support\n",
            "\n",
            "         0.0       0.97      0.96      0.97       232\n",
            "         1.0       0.61      0.70      0.65        20\n",
            "\n",
            "    accuracy                           0.94       252\n",
            "   macro avg       0.79      0.83      0.81       252\n",
            "weighted avg       0.94      0.94      0.94       252\n",
            "\n",
            "\n",
            "\n",
            "\n",
            "Predictor: RandomForestClassifier\n",
            "Score en test:  0.9325396825396826\n",
            "Score en entrenamiento 0.9325396825396826\n"
          ],
          "name": "stdout"
        },
        {
          "output_type": "display_data",
          "data": {
            "image/png": "[encoded data removed]",
            "text/plain": [
              "<Figure size 504x288 with 2 Axes>"
            ]
          },
          "metadata": {
            "tags": [],
            "needs_background": "light"
          }
        },
        {
          "output_type": "stream",
          "text": [
            "              precision    recall  f1-score   support\n",
            "\n",
            "         0.0       0.98      0.94      0.96       232\n",
            "         1.0       0.55      0.80      0.65        20\n",
            "\n",
            "    accuracy                           0.93       252\n",
            "   macro avg       0.77      0.87      0.81       252\n",
            "weighted avg       0.95      0.93      0.94       252\n",
            "\n",
            "\n",
            "\n",
            "\n"
          ],
          "name": "stdout"
        }
      ]
    },
    {
      "cell_type": "code",
      "metadata": {
        "id": "nbdrh4i3Q5uQ",
        "colab_type": "code",
        "colab": {
          "base_uri": "https://localhost:8080/",
          "height": 111
        },
        "outputId": "9fba4d95-af5f-4f54-e6af-53f806e98f47"
      },
      "source": [
        "df_Hinselmann = pd.DataFrame(Hinselmann)\n",
        "df_Hinselmann"
      ],
      "execution_count": 52,
      "outputs": [
        {
          "output_type": "execute_result",
          "data": {
            "text/html": [
              "<div>\n",
              "<style scoped>\n",
              "    .dataframe tbody tr th:only-of-type {\n",
              "        vertical-align: middle;\n",
              "    }\n",
              "\n",
              "    .dataframe tbody tr th {\n",
              "        vertical-align: top;\n",
              "    }\n",
              "\n",
              "    .dataframe thead th {\n",
              "        text-align: right;\n",
              "    }\n",
              "</style>\n",
              "<table border=\"1\" class=\"dataframe\">\n",
              "  <thead>\n",
              "    <tr style=\"text-align: right;\">\n",
              "      <th></th>\n",
              "      <th>Modelo</th>\n",
              "      <th>Train_Score</th>\n",
              "      <th>Test_Score</th>\n",
              "      <th>Test_accuracy</th>\n",
              "      <th>f1score</th>\n",
              "      <th>recall-0</th>\n",
              "      <th>recall-1</th>\n",
              "      <th>precision-0</th>\n",
              "      <th>precision-1</th>\n",
              "      <th>roc_auc</th>\n",
              "    </tr>\n",
              "  </thead>\n",
              "  <tbody>\n",
              "    <tr>\n",
              "      <th>0</th>\n",
              "      <td>DecisionTreeClassifier</td>\n",
              "      <td>0.825181</td>\n",
              "      <td>0.940476</td>\n",
              "      <td>0.940476</td>\n",
              "      <td>0.651163</td>\n",
              "      <td>0.961207</td>\n",
              "      <td>0.7</td>\n",
              "      <td>0.973799</td>\n",
              "      <td>0.608696</td>\n",
              "      <td>0.830603</td>\n",
              "    </tr>\n",
              "    <tr>\n",
              "      <th>1</th>\n",
              "      <td>RandomForestClassifier</td>\n",
              "      <td>0.798913</td>\n",
              "      <td>0.932540</td>\n",
              "      <td>0.932540</td>\n",
              "      <td>0.653061</td>\n",
              "      <td>0.943966</td>\n",
              "      <td>0.8</td>\n",
              "      <td>0.982063</td>\n",
              "      <td>0.551724</td>\n",
              "      <td>0.871983</td>\n",
              "    </tr>\n",
              "  </tbody>\n",
              "</table>\n",
              "</div>"
            ],
            "text/plain": [
              "                   Modelo  Train_Score  ...  precision-1   roc_auc\n",
              "0  DecisionTreeClassifier     0.825181  ...     0.608696  0.830603\n",
              "1  RandomForestClassifier     0.798913  ...     0.551724  0.871983\n",
              "\n",
              "[2 rows x 10 columns]"
            ]
          },
          "metadata": {
            "tags": []
          },
          "execution_count": 52
        }
      ]
    },
    {
      "cell_type": "markdown",
      "metadata": {
        "id": "53In9rvFvS-Z",
        "colab_type": "text"
      },
      "source": [
        "##Análisis"
      ]
    },
    {
      "cell_type": "markdown",
      "metadata": {
        "id": "A6wbtgvDbwQ0",
        "colab_type": "text"
      },
      "source": [
        "Modelo base"
      ]
    },
    {
      "cell_type": "code",
      "metadata": {
        "id": "-Z-YQBKdN7Cg",
        "colab_type": "code",
        "colab": {
          "base_uri": "https://localhost:8080/",
          "height": 204
        },
        "outputId": "60440520-61ad-4ebb-d09a-cf1ef065bdc4"
      },
      "source": [
        "base_df.head()"
      ],
      "execution_count": 53,
      "outputs": [
        {
          "output_type": "execute_result",
          "data": {
            "text/html": [
              "<div>\n",
              "<style scoped>\n",
              "    .dataframe tbody tr th:only-of-type {\n",
              "        vertical-align: middle;\n",
              "    }\n",
              "\n",
              "    .dataframe tbody tr th {\n",
              "        vertical-align: top;\n",
              "    }\n",
              "\n",
              "    .dataframe thead th {\n",
              "        text-align: right;\n",
              "    }\n",
              "</style>\n",
              "<table border=\"1\" class=\"dataframe\">\n",
              "  <thead>\n",
              "    <tr style=\"text-align: right;\">\n",
              "      <th></th>\n",
              "      <th>Modelo</th>\n",
              "      <th>Train_Score</th>\n",
              "      <th>Test_Score</th>\n",
              "      <th>Test_accuracy</th>\n",
              "      <th>f1score</th>\n",
              "      <th>recall-0</th>\n",
              "      <th>recall-1</th>\n",
              "      <th>precision-0</th>\n",
              "      <th>precision-1</th>\n",
              "      <th>roc_auc</th>\n",
              "    </tr>\n",
              "  </thead>\n",
              "  <tbody>\n",
              "    <tr>\n",
              "      <th>0</th>\n",
              "      <td>GaussianNB</td>\n",
              "      <td>0.090444</td>\n",
              "      <td>0.107143</td>\n",
              "      <td>0.107143</td>\n",
              "      <td>0.150943</td>\n",
              "      <td>0.030172</td>\n",
              "      <td>1.00</td>\n",
              "      <td>1.000000</td>\n",
              "      <td>0.081633</td>\n",
              "      <td>0.515086</td>\n",
              "    </tr>\n",
              "    <tr>\n",
              "      <th>1</th>\n",
              "      <td>DecisionTreeClassifier</td>\n",
              "      <td>0.984642</td>\n",
              "      <td>0.952381</td>\n",
              "      <td>0.952381</td>\n",
              "      <td>0.760000</td>\n",
              "      <td>0.952586</td>\n",
              "      <td>0.95</td>\n",
              "      <td>0.995495</td>\n",
              "      <td>0.633333</td>\n",
              "      <td>0.951293</td>\n",
              "    </tr>\n",
              "    <tr>\n",
              "      <th>2</th>\n",
              "      <td>RandomForestClassifier</td>\n",
              "      <td>0.991468</td>\n",
              "      <td>0.948413</td>\n",
              "      <td>0.948413</td>\n",
              "      <td>0.682927</td>\n",
              "      <td>0.969828</td>\n",
              "      <td>0.70</td>\n",
              "      <td>0.974026</td>\n",
              "      <td>0.666667</td>\n",
              "      <td>0.834914</td>\n",
              "    </tr>\n",
              "    <tr>\n",
              "      <th>3</th>\n",
              "      <td>SVC</td>\n",
              "      <td>0.901024</td>\n",
              "      <td>0.908730</td>\n",
              "      <td>0.908730</td>\n",
              "      <td>0.258065</td>\n",
              "      <td>0.969828</td>\n",
              "      <td>0.20</td>\n",
              "      <td>0.933610</td>\n",
              "      <td>0.363636</td>\n",
              "      <td>0.584914</td>\n",
              "    </tr>\n",
              "    <tr>\n",
              "      <th>4</th>\n",
              "      <td>DNN</td>\n",
              "      <td>0.972696</td>\n",
              "      <td>0.948413</td>\n",
              "      <td>0.948413</td>\n",
              "      <td>0.666667</td>\n",
              "      <td>0.974138</td>\n",
              "      <td>0.65</td>\n",
              "      <td>0.969957</td>\n",
              "      <td>0.684211</td>\n",
              "      <td>0.812069</td>\n",
              "    </tr>\n",
              "  </tbody>\n",
              "</table>\n",
              "</div>"
            ],
            "text/plain": [
              "                   Modelo  Train_Score  ...  precision-1   roc_auc\n",
              "0              GaussianNB     0.090444  ...     0.081633  0.515086\n",
              "1  DecisionTreeClassifier     0.984642  ...     0.633333  0.951293\n",
              "2  RandomForestClassifier     0.991468  ...     0.666667  0.834914\n",
              "3                     SVC     0.901024  ...     0.363636  0.584914\n",
              "4                     DNN     0.972696  ...     0.684211  0.812069\n",
              "\n",
              "[5 rows x 10 columns]"
            ]
          },
          "metadata": {
            "tags": []
          },
          "execution_count": 53
        }
      ]
    },
    {
      "cell_type": "markdown",
      "metadata": {
        "id": "ppaPZ2xUbyf9",
        "colab_type": "text"
      },
      "source": [
        "Modelo con balance de clases"
      ]
    },
    {
      "cell_type": "code",
      "metadata": {
        "id": "SoYUww6EN-Fq",
        "colab_type": "code",
        "colab": {
          "base_uri": "https://localhost:8080/",
          "height": 204
        },
        "outputId": "60531c2f-9bbf-4630-a199-c8742f8ffb36"
      },
      "source": [
        "oversampling_df.head()"
      ],
      "execution_count": 55,
      "outputs": [
        {
          "output_type": "execute_result",
          "data": {
            "text/html": [
              "<div>\n",
              "<style scoped>\n",
              "    .dataframe tbody tr th:only-of-type {\n",
              "        vertical-align: middle;\n",
              "    }\n",
              "\n",
              "    .dataframe tbody tr th {\n",
              "        vertical-align: top;\n",
              "    }\n",
              "\n",
              "    .dataframe thead th {\n",
              "        text-align: right;\n",
              "    }\n",
              "</style>\n",
              "<table border=\"1\" class=\"dataframe\">\n",
              "  <thead>\n",
              "    <tr style=\"text-align: right;\">\n",
              "      <th></th>\n",
              "      <th>Modelo</th>\n",
              "      <th>Train_Score</th>\n",
              "      <th>Test_Score</th>\n",
              "      <th>Test_accuracy</th>\n",
              "      <th>f1score</th>\n",
              "      <th>recall-0</th>\n",
              "      <th>recall-1</th>\n",
              "      <th>precision-0</th>\n",
              "      <th>precision-1</th>\n",
              "      <th>roc_auc</th>\n",
              "    </tr>\n",
              "  </thead>\n",
              "  <tbody>\n",
              "    <tr>\n",
              "      <th>0</th>\n",
              "      <td>GaussianNB</td>\n",
              "      <td>0.517210</td>\n",
              "      <td>0.107143</td>\n",
              "      <td>0.107143</td>\n",
              "      <td>0.150943</td>\n",
              "      <td>0.030172</td>\n",
              "      <td>1.00</td>\n",
              "      <td>1.000000</td>\n",
              "      <td>0.081633</td>\n",
              "      <td>0.515086</td>\n",
              "    </tr>\n",
              "    <tr>\n",
              "      <th>1</th>\n",
              "      <td>DecisionTreeClassifier</td>\n",
              "      <td>0.991848</td>\n",
              "      <td>0.956349</td>\n",
              "      <td>0.956349</td>\n",
              "      <td>0.775510</td>\n",
              "      <td>0.956897</td>\n",
              "      <td>0.95</td>\n",
              "      <td>0.995516</td>\n",
              "      <td>0.655172</td>\n",
              "      <td>0.953448</td>\n",
              "    </tr>\n",
              "    <tr>\n",
              "      <th>2</th>\n",
              "      <td>RandomForestClassifier</td>\n",
              "      <td>0.960145</td>\n",
              "      <td>0.964286</td>\n",
              "      <td>0.964286</td>\n",
              "      <td>0.816327</td>\n",
              "      <td>0.961207</td>\n",
              "      <td>1.00</td>\n",
              "      <td>1.000000</td>\n",
              "      <td>0.689655</td>\n",
              "      <td>0.980603</td>\n",
              "    </tr>\n",
              "    <tr>\n",
              "      <th>3</th>\n",
              "      <td>SVC</td>\n",
              "      <td>0.739130</td>\n",
              "      <td>0.940476</td>\n",
              "      <td>0.940476</td>\n",
              "      <td>0.545455</td>\n",
              "      <td>0.982759</td>\n",
              "      <td>0.45</td>\n",
              "      <td>0.953975</td>\n",
              "      <td>0.692308</td>\n",
              "      <td>0.716379</td>\n",
              "    </tr>\n",
              "    <tr>\n",
              "      <th>4</th>\n",
              "      <td>DNN</td>\n",
              "      <td>0.956522</td>\n",
              "      <td>0.944444</td>\n",
              "      <td>0.944444</td>\n",
              "      <td>0.695652</td>\n",
              "      <td>0.956897</td>\n",
              "      <td>0.80</td>\n",
              "      <td>0.982301</td>\n",
              "      <td>0.615385</td>\n",
              "      <td>0.878448</td>\n",
              "    </tr>\n",
              "  </tbody>\n",
              "</table>\n",
              "</div>"
            ],
            "text/plain": [
              "                   Modelo  Train_Score  ...  precision-1   roc_auc\n",
              "0              GaussianNB     0.517210  ...     0.081633  0.515086\n",
              "1  DecisionTreeClassifier     0.991848  ...     0.655172  0.953448\n",
              "2  RandomForestClassifier     0.960145  ...     0.689655  0.980603\n",
              "3                     SVC     0.739130  ...     0.692308  0.716379\n",
              "4                     DNN     0.956522  ...     0.615385  0.878448\n",
              "\n",
              "[5 rows x 10 columns]"
            ]
          },
          "metadata": {
            "tags": []
          },
          "execution_count": 55
        }
      ]
    },
    {
      "cell_type": "markdown",
      "metadata": {
        "id": "kF_8m9UZb5iR",
        "colab_type": "text"
      },
      "source": [
        "Modelo con las mejores características y con balance de clases"
      ]
    },
    {
      "cell_type": "code",
      "metadata": {
        "id": "Xe-vJ3hHOCHD",
        "colab_type": "code",
        "colab": {
          "base_uri": "https://localhost:8080/",
          "height": 142
        },
        "outputId": "07be143d-8b9f-43fc-ebb8-e2a95f96e4ab"
      },
      "source": [
        "BF_oversampling_df.head()"
      ],
      "execution_count": 56,
      "outputs": [
        {
          "output_type": "execute_result",
          "data": {
            "text/html": [
              "<div>\n",
              "<style scoped>\n",
              "    .dataframe tbody tr th:only-of-type {\n",
              "        vertical-align: middle;\n",
              "    }\n",
              "\n",
              "    .dataframe tbody tr th {\n",
              "        vertical-align: top;\n",
              "    }\n",
              "\n",
              "    .dataframe thead th {\n",
              "        text-align: right;\n",
              "    }\n",
              "</style>\n",
              "<table border=\"1\" class=\"dataframe\">\n",
              "  <thead>\n",
              "    <tr style=\"text-align: right;\">\n",
              "      <th></th>\n",
              "      <th>Modelo</th>\n",
              "      <th>Train_Score</th>\n",
              "      <th>Test_Score</th>\n",
              "      <th>Test_accuracy</th>\n",
              "      <th>f1score</th>\n",
              "      <th>recall-0</th>\n",
              "      <th>recall-1</th>\n",
              "      <th>precision-0</th>\n",
              "      <th>precision-1</th>\n",
              "      <th>roc_auc</th>\n",
              "    </tr>\n",
              "  </thead>\n",
              "  <tbody>\n",
              "    <tr>\n",
              "      <th>0</th>\n",
              "      <td>DecisionTreeClassifier</td>\n",
              "      <td>0.990942</td>\n",
              "      <td>0.956349</td>\n",
              "      <td>0.956349</td>\n",
              "      <td>0.775510</td>\n",
              "      <td>0.956897</td>\n",
              "      <td>0.95</td>\n",
              "      <td>0.995516</td>\n",
              "      <td>0.655172</td>\n",
              "      <td>0.953448</td>\n",
              "    </tr>\n",
              "    <tr>\n",
              "      <th>1</th>\n",
              "      <td>RandomForestClassifier</td>\n",
              "      <td>0.975543</td>\n",
              "      <td>0.956349</td>\n",
              "      <td>0.956349</td>\n",
              "      <td>0.765957</td>\n",
              "      <td>0.961207</td>\n",
              "      <td>0.90</td>\n",
              "      <td>0.991111</td>\n",
              "      <td>0.666667</td>\n",
              "      <td>0.930603</td>\n",
              "    </tr>\n",
              "    <tr>\n",
              "      <th>2</th>\n",
              "      <td>DNN</td>\n",
              "      <td>0.926630</td>\n",
              "      <td>0.924603</td>\n",
              "      <td>0.924603</td>\n",
              "      <td>0.677966</td>\n",
              "      <td>0.918103</td>\n",
              "      <td>1.00</td>\n",
              "      <td>1.000000</td>\n",
              "      <td>0.512821</td>\n",
              "      <td>0.959052</td>\n",
              "    </tr>\n",
              "  </tbody>\n",
              "</table>\n",
              "</div>"
            ],
            "text/plain": [
              "                   Modelo  Train_Score  ...  precision-1   roc_auc\n",
              "0  DecisionTreeClassifier     0.990942  ...     0.655172  0.953448\n",
              "1  RandomForestClassifier     0.975543  ...     0.666667  0.930603\n",
              "2                     DNN     0.926630  ...     0.512821  0.959052\n",
              "\n",
              "[3 rows x 10 columns]"
            ]
          },
          "metadata": {
            "tags": []
          },
          "execution_count": 56
        }
      ]
    },
    {
      "cell_type": "markdown",
      "metadata": {
        "id": "0NQ2wuhYcNsK",
        "colab_type": "text"
      },
      "source": [
        "Ajustando los hiperparámetros de los clasificadores"
      ]
    },
    {
      "cell_type": "code",
      "metadata": {
        "id": "DuQWe8JiOFKO",
        "colab_type": "code",
        "colab": {
          "base_uri": "https://localhost:8080/",
          "height": 142
        },
        "outputId": "3ab466c4-fffc-46e9-ef88-c8acec33df33"
      },
      "source": [
        "HBF_oversampling_df.head()"
      ],
      "execution_count": 57,
      "outputs": [
        {
          "output_type": "execute_result",
          "data": {
            "text/html": [
              "<div>\n",
              "<style scoped>\n",
              "    .dataframe tbody tr th:only-of-type {\n",
              "        vertical-align: middle;\n",
              "    }\n",
              "\n",
              "    .dataframe tbody tr th {\n",
              "        vertical-align: top;\n",
              "    }\n",
              "\n",
              "    .dataframe thead th {\n",
              "        text-align: right;\n",
              "    }\n",
              "</style>\n",
              "<table border=\"1\" class=\"dataframe\">\n",
              "  <thead>\n",
              "    <tr style=\"text-align: right;\">\n",
              "      <th></th>\n",
              "      <th>Modelo</th>\n",
              "      <th>Train_Score</th>\n",
              "      <th>Test_Score</th>\n",
              "      <th>Test_accuracy</th>\n",
              "      <th>f1score</th>\n",
              "      <th>recall-0</th>\n",
              "      <th>recall-1</th>\n",
              "      <th>precision-0</th>\n",
              "      <th>precision-1</th>\n",
              "      <th>roc_auc</th>\n",
              "    </tr>\n",
              "  </thead>\n",
              "  <tbody>\n",
              "    <tr>\n",
              "      <th>0</th>\n",
              "      <td>DecisionTreeClassifier</td>\n",
              "      <td>0.990942</td>\n",
              "      <td>0.952381</td>\n",
              "      <td>0.952381</td>\n",
              "      <td>0.760000</td>\n",
              "      <td>0.952586</td>\n",
              "      <td>0.95</td>\n",
              "      <td>0.995495</td>\n",
              "      <td>0.633333</td>\n",
              "      <td>0.951293</td>\n",
              "    </tr>\n",
              "    <tr>\n",
              "      <th>1</th>\n",
              "      <td>RandomForestClassifier</td>\n",
              "      <td>0.901268</td>\n",
              "      <td>0.960317</td>\n",
              "      <td>0.960317</td>\n",
              "      <td>0.800000</td>\n",
              "      <td>0.956897</td>\n",
              "      <td>1.00</td>\n",
              "      <td>1.000000</td>\n",
              "      <td>0.666667</td>\n",
              "      <td>0.978448</td>\n",
              "    </tr>\n",
              "    <tr>\n",
              "      <th>2</th>\n",
              "      <td>DNN</td>\n",
              "      <td>0.926630</td>\n",
              "      <td>0.924603</td>\n",
              "      <td>0.924603</td>\n",
              "      <td>0.677966</td>\n",
              "      <td>0.918103</td>\n",
              "      <td>1.00</td>\n",
              "      <td>1.000000</td>\n",
              "      <td>0.512821</td>\n",
              "      <td>0.959052</td>\n",
              "    </tr>\n",
              "  </tbody>\n",
              "</table>\n",
              "</div>"
            ],
            "text/plain": [
              "                   Modelo  Train_Score  ...  precision-1   roc_auc\n",
              "0  DecisionTreeClassifier     0.990942  ...     0.633333  0.951293\n",
              "1  RandomForestClassifier     0.901268  ...     0.666667  0.978448\n",
              "2                     DNN     0.926630  ...     0.512821  0.959052\n",
              "\n",
              "[3 rows x 10 columns]"
            ]
          },
          "metadata": {
            "tags": []
          },
          "execution_count": 57
        }
      ]
    },
    {
      "cell_type": "code",
      "metadata": {
        "id": "_LZ49ggPQzBc",
        "colab_type": "code",
        "colab": {
          "base_uri": "https://localhost:8080/",
          "height": 68
        },
        "outputId": "84d967b3-f766-4d3f-e8d9-cfd75eac8a34"
      },
      "source": [
        "print(\"Mejores Características DT: \",rfe_dt)\n",
        "print(\"\\nMejores Características RT: \",rfe_rf)"
      ],
      "execution_count": 58,
      "outputs": [
        {
          "output_type": "stream",
          "text": [
            "Mejores Características DT:  ['Age', 'First_sexual_intercourse', 'No_pregnancies', 'STDs_syphilis', 'Dx_CIN', 'Schiller', 'Citology']\n",
            "\n",
            "Mejores Características RT:  ['Age', 'First_sexual_intercourse', 'No_pregnancies', 'STDs_number', 'Hinselmann', 'Schiller', 'Citology']\n"
          ],
          "name": "stdout"
        }
      ]
    },
    {
      "cell_type": "code",
      "metadata": {
        "id": "k1eN08yg1kQX",
        "colab_type": "code",
        "colab": {
          "base_uri": "https://localhost:8080/",
          "height": 153
        },
        "outputId": "4257b31d-c29b-4dec-be95-7048285075c7"
      },
      "source": [
        "import eli5\n",
        "from eli5.sklearn import PermutationImportance\n",
        "DT = DecisionTreeClassifier(max_depth=7,criterion=\"gini\",class_weight=\"balanced\",splitter='best')\n",
        "RF = RandomForestClassifier(n_estimators=30,max_depth=7,criterion=\"entropy\",class_weight=\"balanced\",max_features='log2',max_leaf_nodes=7)\n",
        "\n",
        "print('Características más importantes de DecisionTreeClassifier sin schiller' )\n",
        "DT.fit(B[0][0],ytrain_s)\n",
        "permumtation_impor = PermutationImportance(DT, random_state=2019).fit(B[0][1], ytest)\n",
        "eli5.show_weights(permumtation_impor, feature_names = B[0][1].columns.tolist())"
      ],
      "execution_count": 61,
      "outputs": [
        {
          "output_type": "stream",
          "text": [
            "Características más importantes de DecisionTreeClassifier sin schiller\n"
          ],
          "name": "stdout"
        },
        {
          "output_type": "execute_result",
          "data": {
            "text/html": [
              "\n",
              "    <style>\n",
              "    table.eli5-weights tr:hover {\n",
              "        filter: brightness(85%);\n",
              "    }\n",
              "</style>\n",
              "\n",
              "\n",
              "\n",
              "    \n",
              "\n",
              "    \n",
              "\n",
              "    \n",
              "\n",
              "    \n",
              "\n",
              "    \n",
              "\n",
              "    \n",
              "\n",
              "\n",
              "    \n",
              "\n",
              "    \n",
              "\n",
              "    \n",
              "\n",
              "    \n",
              "\n",
              "    \n",
              "\n",
              "    \n",
              "\n",
              "\n",
              "    \n",
              "\n",
              "    \n",
              "\n",
              "    \n",
              "\n",
              "    \n",
              "\n",
              "    \n",
              "        <table class=\"eli5-weights eli5-feature-importances\" style=\"border-collapse: collapse; border: none; margin-top: 0em; table-layout: auto;\">\n",
              "    <thead>\n",
              "    <tr style=\"border: none;\">\n",
              "        <th style=\"padding: 0 1em 0 0.5em; text-align: right; border: none;\">Weight</th>\n",
              "        <th style=\"padding: 0 0.5em 0 0.5em; text-align: left; border: none;\">Feature</th>\n",
              "    </tr>\n",
              "    </thead>\n",
              "    <tbody>\n",
              "    \n",
              "        <tr style=\"background-color: hsl(120, 100.00%, 80.00%); border: none;\">\n",
              "            <td style=\"padding: 0 1em 0 0.5em; text-align: right; border: none;\">\n",
              "                0.0675\n",
              "                \n",
              "                    &plusmn; 0.0142\n",
              "                \n",
              "            </td>\n",
              "            <td style=\"padding: 0 0.5em 0 0.5em; text-align: left; border: none;\">\n",
              "                Hinselmann\n",
              "            </td>\n",
              "        </tr>\n",
              "    \n",
              "        <tr style=\"background-color: hsl(120, 100.00%, 89.47%); border: none;\">\n",
              "            <td style=\"padding: 0 1em 0 0.5em; text-align: right; border: none;\">\n",
              "                0.0270\n",
              "                \n",
              "                    &plusmn; 0.0551\n",
              "                \n",
              "            </td>\n",
              "            <td style=\"padding: 0 0.5em 0 0.5em; text-align: left; border: none;\">\n",
              "                Age\n",
              "            </td>\n",
              "        </tr>\n",
              "    \n",
              "        <tr style=\"background-color: hsl(120, 100.00%, 90.35%); border: none;\">\n",
              "            <td style=\"padding: 0 1em 0 0.5em; text-align: right; border: none;\">\n",
              "                0.0238\n",
              "                \n",
              "                    &plusmn; 0.0219\n",
              "                \n",
              "            </td>\n",
              "            <td style=\"padding: 0 0.5em 0 0.5em; text-align: left; border: none;\">\n",
              "                First_sexual_intercourse\n",
              "            </td>\n",
              "        </tr>\n",
              "    \n",
              "        <tr style=\"background-color: hsl(120, 100.00%, 92.99%); border: none;\">\n",
              "            <td style=\"padding: 0 1em 0 0.5em; text-align: right; border: none;\">\n",
              "                0.0151\n",
              "                \n",
              "                    &plusmn; 0.0117\n",
              "                \n",
              "            </td>\n",
              "            <td style=\"padding: 0 0.5em 0 0.5em; text-align: left; border: none;\">\n",
              "                No_pregnancies\n",
              "            </td>\n",
              "        </tr>\n",
              "    \n",
              "        <tr style=\"background-color: hsl(120, 100.00%, 93.52%); border: none;\">\n",
              "            <td style=\"padding: 0 1em 0 0.5em; text-align: right; border: none;\">\n",
              "                0.0135\n",
              "                \n",
              "                    &plusmn; 0.0171\n",
              "                \n",
              "            </td>\n",
              "            <td style=\"padding: 0 0.5em 0 0.5em; text-align: left; border: none;\">\n",
              "                Citology\n",
              "            </td>\n",
              "        </tr>\n",
              "    \n",
              "        <tr style=\"background-color: hsl(0, 100.00%, 92.99%); border: none;\">\n",
              "            <td style=\"padding: 0 1em 0 0.5em; text-align: right; border: none;\">\n",
              "                -0.0151\n",
              "                \n",
              "                    &plusmn; 0.0184\n",
              "                \n",
              "            </td>\n",
              "            <td style=\"padding: 0 0.5em 0 0.5em; text-align: left; border: none;\">\n",
              "                Hormonal_Contraceptives_years\n",
              "            </td>\n",
              "        </tr>\n",
              "    \n",
              "    \n",
              "    </tbody>\n",
              "</table>\n",
              "    \n",
              "\n",
              "    \n",
              "\n",
              "\n",
              "    \n",
              "\n",
              "    \n",
              "\n",
              "    \n",
              "\n",
              "    \n",
              "\n",
              "    \n",
              "\n",
              "    \n",
              "\n",
              "\n",
              "\n"
            ],
            "text/plain": [
              "<IPython.core.display.HTML object>"
            ]
          },
          "metadata": {
            "tags": []
          },
          "execution_count": 61
        }
      ]
    },
    {
      "cell_type": "code",
      "metadata": {
        "id": "2O0TKKsX50zB",
        "colab_type": "code",
        "colab": {
          "base_uri": "https://localhost:8080/",
          "height": 153
        },
        "outputId": "97c1f107-9044-4a58-d229-7d07e216db67"
      },
      "source": [
        "print('Características más importantes de RandomForestClassifier sin schiller' )\n",
        "RF.fit(B[1][0],ytrain_s)\n",
        "permumtation_impor = PermutationImportance(RF, random_state=2019).fit(B[1][1], ytest)\n",
        "eli5.show_weights(permumtation_impor, feature_names = B[1][1].columns.tolist())"
      ],
      "execution_count": 62,
      "outputs": [
        {
          "output_type": "stream",
          "text": [
            "Características más importantes de RandomForestClassifier sin schiller\n"
          ],
          "name": "stdout"
        },
        {
          "output_type": "execute_result",
          "data": {
            "text/html": [
              "\n",
              "    <style>\n",
              "    table.eli5-weights tr:hover {\n",
              "        filter: brightness(85%);\n",
              "    }\n",
              "</style>\n",
              "\n",
              "\n",
              "\n",
              "    \n",
              "\n",
              "    \n",
              "\n",
              "    \n",
              "\n",
              "    \n",
              "\n",
              "    \n",
              "\n",
              "    \n",
              "\n",
              "\n",
              "    \n",
              "\n",
              "    \n",
              "\n",
              "    \n",
              "\n",
              "    \n",
              "\n",
              "    \n",
              "\n",
              "    \n",
              "\n",
              "\n",
              "    \n",
              "\n",
              "    \n",
              "\n",
              "    \n",
              "\n",
              "    \n",
              "\n",
              "    \n",
              "        <table class=\"eli5-weights eli5-feature-importances\" style=\"border-collapse: collapse; border: none; margin-top: 0em; table-layout: auto;\">\n",
              "    <thead>\n",
              "    <tr style=\"border: none;\">\n",
              "        <th style=\"padding: 0 1em 0 0.5em; text-align: right; border: none;\">Weight</th>\n",
              "        <th style=\"padding: 0 0.5em 0 0.5em; text-align: left; border: none;\">Feature</th>\n",
              "    </tr>\n",
              "    </thead>\n",
              "    <tbody>\n",
              "    \n",
              "        <tr style=\"background-color: hsl(120, 100.00%, 80.00%); border: none;\">\n",
              "            <td style=\"padding: 0 1em 0 0.5em; text-align: right; border: none;\">\n",
              "                0.0865\n",
              "                \n",
              "                    &plusmn; 0.0105\n",
              "                \n",
              "            </td>\n",
              "            <td style=\"padding: 0 0.5em 0 0.5em; text-align: left; border: none;\">\n",
              "                Hinselmann\n",
              "            </td>\n",
              "        </tr>\n",
              "    \n",
              "        <tr style=\"background-color: hsl(120, 100.00%, 88.25%); border: none;\">\n",
              "            <td style=\"padding: 0 1em 0 0.5em; text-align: right; border: none;\">\n",
              "                0.0405\n",
              "                \n",
              "                    &plusmn; 0.0137\n",
              "                \n",
              "            </td>\n",
              "            <td style=\"padding: 0 0.5em 0 0.5em; text-align: left; border: none;\">\n",
              "                Citology\n",
              "            </td>\n",
              "        </tr>\n",
              "    \n",
              "        <tr style=\"background-color: hsl(120, 100.00%, 98.78%); border: none;\">\n",
              "            <td style=\"padding: 0 1em 0 0.5em; text-align: right; border: none;\">\n",
              "                0.0016\n",
              "                \n",
              "                    &plusmn; 0.0039\n",
              "                \n",
              "            </td>\n",
              "            <td style=\"padding: 0 0.5em 0 0.5em; text-align: left; border: none;\">\n",
              "                First_sexual_intercourse\n",
              "            </td>\n",
              "        </tr>\n",
              "    \n",
              "        <tr style=\"background-color: hsl(120, 100.00%, 98.78%); border: none;\">\n",
              "            <td style=\"padding: 0 1em 0 0.5em; text-align: right; border: none;\">\n",
              "                0.0016\n",
              "                \n",
              "                    &plusmn; 0.0039\n",
              "                \n",
              "            </td>\n",
              "            <td style=\"padding: 0 0.5em 0 0.5em; text-align: left; border: none;\">\n",
              "                No_of_sex_partner\n",
              "            </td>\n",
              "        </tr>\n",
              "    \n",
              "        <tr style=\"background-color: hsl(0, 100.00%, 100.00%); border: none;\">\n",
              "            <td style=\"padding: 0 1em 0 0.5em; text-align: right; border: none;\">\n",
              "                0\n",
              "                \n",
              "                    &plusmn; 0.0000\n",
              "                \n",
              "            </td>\n",
              "            <td style=\"padding: 0 0.5em 0 0.5em; text-align: left; border: none;\">\n",
              "                Age\n",
              "            </td>\n",
              "        </tr>\n",
              "    \n",
              "        <tr style=\"background-color: hsl(0, 100.00%, 99.25%); border: none;\">\n",
              "            <td style=\"padding: 0 1em 0 0.5em; text-align: right; border: none;\">\n",
              "                -0.0008\n",
              "                \n",
              "                    &plusmn; 0.0078\n",
              "                \n",
              "            </td>\n",
              "            <td style=\"padding: 0 0.5em 0 0.5em; text-align: left; border: none;\">\n",
              "                Hormonal_Contraceptives_years\n",
              "            </td>\n",
              "        </tr>\n",
              "    \n",
              "    \n",
              "    </tbody>\n",
              "</table>\n",
              "    \n",
              "\n",
              "    \n",
              "\n",
              "\n",
              "    \n",
              "\n",
              "    \n",
              "\n",
              "    \n",
              "\n",
              "    \n",
              "\n",
              "    \n",
              "\n",
              "    \n",
              "\n",
              "\n",
              "\n"
            ],
            "text/plain": [
              "<IPython.core.display.HTML object>"
            ]
          },
          "metadata": {
            "tags": []
          },
          "execution_count": 62
        }
      ]
    },
    {
      "cell_type": "code",
      "metadata": {
        "id": "LTmyoiKqo7KB",
        "colab_type": "code",
        "colab": {
          "base_uri": "https://localhost:8080/",
          "height": 354
        },
        "outputId": "cb186967-ed75-4fe7-b1f3-c95bc20f7c2d"
      },
      "source": [
        "#@title Schiller { display-mode: \"form\" }\n",
        "fig, (axis1,axis3) = plt.subplots(1,2,figsize=(10,5))\n",
        "sns.countplot(x='Schiller', data=df_data, ax=axis1)\n",
        "sns.barplot(x='Schiller', y='Biopsy', data=df_data, ax=axis3)"
      ],
      "execution_count": 74,
      "outputs": [
        {
          "output_type": "execute_result",
          "data": {
            "text/plain": [
              "<matplotlib.axes._subplots.AxesSubplot at 0x7f0d33326710>"
            ]
          },
          "metadata": {
            "tags": []
          },
          "execution_count": 74
        },
        {
          "output_type": "display_data",
          "data": {
            "image/png": "[encoded data removed]",
            "text/plain": [
              "<Figure size 720x360 with 2 Axes>"
            ]
          },
          "metadata": {
            "tags": [],
            "needs_background": "light"
          }
        }
      ]
    },
    {
      "cell_type": "code",
      "metadata": {
        "id": "Zl_U4dJ_p0r0",
        "colab_type": "code",
        "colab": {
          "base_uri": "https://localhost:8080/",
          "height": 351
        },
        "outputId": "f52cb7c3-e0e5-4637-f635-7c01de18d76c"
      },
      "source": [
        "#@title Hinselmann { display-mode: \"form\" }\n",
        "fig, (axis1,axis3) = plt.subplots(1,2,figsize=(10,5))\n",
        "sns.countplot(x='Hinselmann', data=df_data, ax=axis1)\n",
        "sns.barplot(x='Hinselmann', y='Biopsy', data=df_data, ax=axis3)"
      ],
      "execution_count": 75,
      "outputs": [
        {
          "output_type": "execute_result",
          "data": {
            "text/plain": [
              "<matplotlib.axes._subplots.AxesSubplot at 0x7f0d332117f0>"
            ]
          },
          "metadata": {
            "tags": []
          },
          "execution_count": 75
        },
        {
          "output_type": "display_data",
          "data": {
            "image/png": "[encoded data removed]",
            "text/plain": [
              "<Figure size 720x360 with 2 Axes>"
            ]
          },
          "metadata": {
            "tags": [],
            "needs_background": "light"
          }
        }
      ]
    },
    {
      "cell_type": "code",
      "metadata": {
        "id": "NIwI1-IhqGEh",
        "colab_type": "code",
        "colab": {
          "base_uri": "https://localhost:8080/",
          "height": 351
        },
        "outputId": "e0ec569f-b9b2-4488-c867-b75d3b98df3e"
      },
      "source": [
        "#@title Citology { display-mode: \"form\" }\n",
        "fig, (axis1,axis3) = plt.subplots(1,2,figsize=(10,5))\n",
        "sns.countplot(x='Citology', data=df_data, ax=axis1)\n",
        "sns.barplot(x='Citology', y='Biopsy', data=df_data, ax=axis3)"
      ],
      "execution_count": 76,
      "outputs": [
        {
          "output_type": "execute_result",
          "data": {
            "text/plain": [
              "<matplotlib.axes._subplots.AxesSubplot at 0x7f0d380dc8d0>"
            ]
          },
          "metadata": {
            "tags": []
          },
          "execution_count": 76
        },
        {
          "output_type": "display_data",
          "data": {
            "image/png": "[encoded data removed]",
            "text/plain": [
              "<Figure size 720x360 with 2 Axes>"
            ]
          },
          "metadata": {
            "tags": [],
            "needs_background": "light"
          }
        }
      ]
    },
    {
      "cell_type": "code",
      "metadata": {
        "id": "ReU-dZzaczGw",
        "colab_type": "code",
        "colab": {
          "base_uri": "https://localhost:8080/",
          "height": 352
        },
        "outputId": "bf1f6d9f-b1d5-44cf-e7be-7108bc86f7b2"
      },
      "source": [
        "#@title Edad primera relación sexual { display-mode: \"form\" }\n",
        "fig, (axis1,axis3) = plt.subplots(1,2,figsize=(20,5))\n",
        "sns.countplot(x='First_sexual_intercourse', data=df_data, ax=axis1)\n",
        "#sns.countplot(x='Biopsy', data=df_data, ax=axis2)\n",
        "sns.barplot(x='First_sexual_intercourse', y='Biopsy', data=df_data, ax=axis3)"
      ],
      "execution_count": 70,
      "outputs": [
        {
          "output_type": "execute_result",
          "data": {
            "text/plain": [
              "<matplotlib.axes._subplots.AxesSubplot at 0x7f0d33641278>"
            ]
          },
          "metadata": {
            "tags": []
          },
          "execution_count": 70
        },
        {
          "output_type": "display_data",
          "data": {
            "image/png": "[encoded data removed]",
            "text/plain": [
              "<Figure size 1440x360 with 2 Axes>"
            ]
          },
          "metadata": {
            "tags": [],
            "needs_background": "light"
          }
        }
      ]
    },
    {
      "cell_type": "code",
      "metadata": {
        "id": "JaxCxyM3ez-D",
        "colab_type": "code",
        "colab": {
          "base_uri": "https://localhost:8080/",
          "height": 459
        },
        "outputId": "ca602ef9-440c-4637-9324-d6e3edbd0b75"
      },
      "source": [
        "#@title Edad de la mujer { display-mode: \"form\" }\n",
        "fig, (axis1,axis3) = plt.subplots(2,1,figsize=(20,7))\n",
        "sns.countplot(x='Age', data=df_data, ax=axis1)\n",
        "sns.barplot(x='Age', y='Biopsy', data=df_data, ax=axis3)"
      ],
      "execution_count": 83,
      "outputs": [
        {
          "output_type": "execute_result",
          "data": {
            "text/plain": [
              "<matplotlib.axes._subplots.AxesSubplot at 0x7f0d32070be0>"
            ]
          },
          "metadata": {
            "tags": []
          },
          "execution_count": 83
        },
        {
          "output_type": "display_data",
          "data": {
            "image/png": "[encoded data removed]",
            "text/plain": [
              "<Figure size 1440x504 with 2 Axes>"
            ]
          },
          "metadata": {
            "tags": [],
            "needs_background": "light"
          }
        }
      ]
    },
    {
      "cell_type": "code",
      "metadata": {
        "id": "eExNJ6x-fcvz",
        "colab_type": "code",
        "colab": {
          "base_uri": "https://localhost:8080/",
          "height": 354
        },
        "outputId": "1ae969d1-f299-4564-eaa5-50988cbd6a62"
      },
      "source": [
        "#@title Número de embarazos { display-mode: \"form\" }\n",
        "fig, (axis1,axis3) = plt.subplots(1,2,figsize=(20,5))\n",
        "sns.countplot(x='No_pregnancies', data=df_data, ax=axis1)\n",
        "sns.barplot(x='No_pregnancies', y='Biopsy', data=df_data, ax=axis3)"
      ],
      "execution_count": 85,
      "outputs": [
        {
          "output_type": "execute_result",
          "data": {
            "text/plain": [
              "<matplotlib.axes._subplots.AxesSubplot at 0x7f0d311cde10>"
            ]
          },
          "metadata": {
            "tags": []
          },
          "execution_count": 85
        },
        {
          "output_type": "display_data",
          "data": {
            "image/png": "[encoded data removed]",
            "text/plain": [
              "<Figure size 1440x360 with 2 Axes>"
            ]
          },
          "metadata": {
            "tags": [],
            "needs_background": "light"
          }
        }
      ]
    },
    {
      "cell_type": "markdown",
      "metadata": {
        "id": "XZRR3kJza7pW",
        "colab_type": "text"
      },
      "source": [
        "<p align=\"justify\">Podemos observar que las características más significantes para nuestros modelos se encuentran principalmente en la prueba de Hinselmann y la de Shiller, sin embargo también hay otras características como la citología que también son relevantes, esto además lo podemos corroborar con la matriz de correlación, en donde estas tres características son la más correlacionadas con la Biopsia, esto coincide en sentido común del conocimiento médico, además pudimos observar que al balancear nuestra clase minoritaria (1) nuestros algoritmos presentan un falso negativo y falso positivo realmente bajo, aunque lo realmente importante para nosotros es que el sistema pueda clasificar de una mejor manera nuestra clase (1) que hace referencia a los falsos negativos, ya que esto representa las mujeres que realmente necesitan la biopcia y el modelo predice que no la requiere.</p>"
      ]
    }
  ]
}